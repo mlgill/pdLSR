{
 "cells": [
  {
   "cell_type": "code",
   "execution_count": 1,
   "metadata": {
    "ExecuteTime": {
     "end_time": "2016-07-16T19:21:24.468321",
     "start_time": "2016-07-16T19:21:22.741457"
    },
    "collapsed": false
   },
   "outputs": [],
   "source": [
    "from __future__ import print_function\n",
    "import os\n",
    "import inspect\n",
    "\n",
    "import numpy as np\n",
    "import pandas as pd\n",
    "\n",
    "import matplotlib.pyplot as plt\n",
    "import seaborn as sns\n",
    "\n",
    "sns.set_context('talk')\n",
    "sns.set_palette('dark')\n",
    "sns.set_style('ticks')\n",
    "\n",
    "%matplotlib inline"
   ]
  },
  {
   "cell_type": "code",
   "execution_count": 2,
   "metadata": {
    "ExecuteTime": {
     "end_time": "2016-07-16T19:21:24.521971",
     "start_time": "2016-07-16T19:21:24.473959"
    },
    "collapsed": false
   },
   "outputs": [
    {
     "name": "stdout",
     "output_type": "stream",
     "text": [
      "Module pdLSR was not found in PYTHONPATH. Looking for module in directory '../../pdLSR'\n",
      "Module pdLSR was found in the directory '../../pdLSR' and imported.\n"
     ]
    }
   ],
   "source": [
    "# Import pdLSR\n",
    "try:\n",
    "    # If pdLSR is in PYTHONPATH (or is installed), then use a direct import\n",
    "    import pdLSR\n",
    "    \n",
    "except ImportError:\n",
    "    # Attempt to demo pdLSR without installing by importing from directory\n",
    "    pdLSR_path = '../../pdLSR'\n",
    "    \n",
    "    print(\"Module pdLSR was not found in PYTHONPATH. Looking for module in directory '{:s}'\".format(pdLSR_path))\n",
    "    \n",
    "    if os.path.exists(pdLSR_path):\n",
    "        import imp\n",
    "        pdLSR = imp.load_package('pdLSR', pdLSR_path)\n",
    "        print(\"Module pdLSR was found in the directory '{:s}' and imported.\".format(pdLSR_path))\n",
    "    else:\n",
    "        raise ImportError(\"Module pdLSR could not be found in the directory '{:s}'.\".format(pdLSR_path) + \\\n",
    "        \"This demonstration will not run until the module is located.\")"
   ]
  },
  {
   "cell_type": "markdown",
   "metadata": {},
   "source": [
    "## Overview\n",
    "\n",
    "`pdLSR` is a library for performing least squares minimization. It attempts to seamlessly incorporate this task in a Pandas-focused workflow. Input data are expected in dataframes, and multiple regressions can be performed using functionality similar to Pandas `groupby`. Results are returned as grouped dataframes and include best-fit parameters, statistics, residuals, and more. The results can be easily visualized using [`seaborn`](https://github.com/mwaskom/seaborn).\n",
    "\n",
    "`pdLSR` currently utilizes [`lmfit`](https://github.com/lmfit/lmfit-py), a flexible and powerful library for least squares minimization, which in turn, makes use of `scipy.optimize.leastsq`. I began using `lmfit` because it is one of the few libraries that supports non-linear least squares regression, which is commonly used in the natural sciences. I also like the flexibility it offers for testing different modeling scenarios and the variety of assessment statistics it provides. However, I found myself writing many `for` loops to perform regressions on groups of data and aggregate the resulting output. Simplification of this task was my inspiration for writing `pdLSR`.\n",
    "\n",
    "`pdLSR` is related to libraries such as [`statsmodels`](http://statsmodels.sourceforge.net) and [`scikit-learn`](http://scikit-learn.org/stable/) that provide linear regression functions that operate on dataframes. However, these libraries don't support grouping operations on dataframes and don't aggregate output into dataframes. Supporting `statsmodels` and `scikit-learn` is being considered. (And pull requests adding this functionality would be welcome.)\n",
    "\n",
    "Some additional 'niceties' associated with the input of parameters and equations have also been incorporated. `pdLSR` also utilizes multithreading for the calculation of confidence intervals, as this process is time consuming when there are more than a few groups."
   ]
  },
  {
   "cell_type": "markdown",
   "metadata": {},
   "source": [
    "### Input data\n",
    "\n",
    "This `pdLSR` demonstration utilizes nuclear magnetic resonance (NMR) data acquired at two different magnetic field strengths (14.1 and 21.1 T) on a protein called GCN4. For the purpose of this demonstration, analyzing this data requires determining the rate of exponential decay as a function of time for every amino acid residue at each of two magnetic field strengths. \n",
    "\n",
    "There are 12 amino acids in the enclosed data set, so using amino acid residue (`resi`) and magnetic field (`field`) as the `groupby` columns results in 24 minimization operations."
   ]
  },
  {
   "cell_type": "code",
   "execution_count": 3,
   "metadata": {
    "ExecuteTime": {
     "end_time": "2016-07-16T19:21:26.919079",
     "start_time": "2016-07-16T19:21:26.785769"
    },
    "collapsed": false
   },
   "outputs": [
    {
     "name": "stdout",
     "output_type": "stream",
     "text": [
      "resi\tfield\ttime\tintensity\r\n",
      "51\t14.1\t0.004\t1624.219428\r\n",
      "51\t14.1\t0.008\t1491.46728\r\n",
      "51\t14.1\t0.024\t1022.717456\r\n",
      "51\t14.1\t0.064\t448.038543\r\n",
      "51\t14.1\t0.096\t270.116745\r\n",
      "51\t14.1\t0.144\t148.671651\r\n",
      "51\t14.1\t0.208\t103.322608\r\n",
      "52\t14.1\t0.004\t1614.38584\r\n",
      "52\t14.1\t0.008\t1500.47205\r\n"
     ]
    }
   ],
   "source": [
    "! head GCN4_twofield.csv\n",
    "data = pd.read_csv('GCN4_twofield.csv', sep='\\t')"
   ]
  },
  {
   "cell_type": "markdown",
   "metadata": {},
   "source": [
    "### Dataframe input\n",
    "\n",
    "`pdLSR` uses a dataframe for input as well as a column (or list of columns, called `groupbycols` here) for the `groupby` operation prior to fitting. A string input corresponding to the independent data (`xname`) and dependent data (`yname`) are required. Errors for weighting during fitting (`yerr`, not used here) can also be used."
   ]
  },
  {
   "cell_type": "code",
   "execution_count": 4,
   "metadata": {
    "ExecuteTime": {
     "end_time": "2016-07-16T19:21:27.784980",
     "start_time": "2016-07-16T19:21:27.777952"
    },
    "collapsed": true
   },
   "outputs": [],
   "source": [
    "groupbycols = ['resi', 'field']\n",
    "xname = 'time'\n",
    "yname = 'intensity'\n",
    "yerr = None"
   ]
  },
  {
   "cell_type": "markdown",
   "metadata": {},
   "source": [
    "### Minimization equation\n",
    "\n",
    "The function format required by `pdLSR` is similar that described in the [`lmfit` documentation](http://lmfit.github.io/lmfit-py/fitting.html#writing-a-fitting-function). Generally speaking, all fit parameters must appear first and they must be contained in a single variable or dictionary that is then unpacked inside the function. The independent (x-) data is next and then the dependent (y-) data.\n",
    "\n",
    "`pdLSR` contains a separate function that calculates the regression error, so the input function need only calculate the expected value based on input parameters.\n",
    "\n",
    "Common equations are provided in the `function` module. Currently, an exponential decay and a linear function are provided.\n",
    "\n",
    "This demo will be using the exponential decay function, whose parameters are:  \n",
    "\n",
    "$I_{(t)} = I_{(0)} \\space e^{(-R * t)}$  \n",
    "\n",
    "where $I_{(0)}$ is the initial intensity, $I_{(t)}$ is the intensity at time $t$, and $R$ is the exponential decay  rate. \n",
    "\n",
    "Here is what the exponential decay function looks like:  "
   ]
  },
  {
   "cell_type": "code",
   "execution_count": 5,
   "metadata": {
    "ExecuteTime": {
     "end_time": "2016-07-16T19:21:28.678317",
     "start_time": "2016-07-16T19:21:28.669529"
    },
    "collapsed": false
   },
   "outputs": [
    {
     "name": "stdout",
     "output_type": "stream",
     "text": [
      "def exponential_decay(par, xdata):\n",
      "    \n",
      "    # Parse multiple input parameter\n",
      "    # formats for intensity, rate    \n",
      "    if hasattr(par,'valuesdict'):\n",
      "        # lmfit parameter format\n",
      "        var = par.valuesdict()\n",
      "        inten = var['inten']\n",
      "        rate = var['rate']\n",
      "    elif hasattr(par,'keys'):\n",
      "        # dict format\n",
      "        inten = par['inten']\n",
      "        rate = par['rate']\n",
      "    else:\n",
      "        # array/list/tuple format\n",
      "        inten = par[0]\n",
      "        rate = par[1]\n",
      "\n",
      "    # Calculate the y-data from the parameters\n",
      "    return inten * np.exp(-1*rate*xdata)\n",
      "\n"
     ]
    }
   ],
   "source": [
    "exponential_decay = pdLSR.functions.exponential_decay\n",
    "print(inspect.getsource(exponential_decay))"
   ]
  },
  {
   "cell_type": "markdown",
   "metadata": {},
   "source": [
    "### Parameters\n",
    "\n",
    "Parameters are usually input as a dictionary, although dataframe input will soon be an option. The list of parameters must be the same as the order in which they are unpacked by the minimization function. The keys for each parameter follows the format used by [`lmfit`](). \n",
    "\n",
    "Parameter starting values can be a single value or a list. If a single value is entered, it is used for each measurement. If a list or array is entered (see the intensity values below), it must be the same length as the number of groups."
   ]
  },
  {
   "cell_type": "code",
   "execution_count": 6,
   "metadata": {
    "ExecuteTime": {
     "end_time": "2016-07-16T19:21:30.246216",
     "start_time": "2016-07-16T19:21:30.234560"
    },
    "collapsed": false
   },
   "outputs": [],
   "source": [
    "params = [{'name':'inten', \n",
    "           'value':np.asarray(data.groupby(groupbycols)[yname].max()), \n",
    "           'vary':True},\n",
    "          {'name':'rate', \n",
    "           'value':20.0, \n",
    "           'vary':True}]"
   ]
  },
  {
   "cell_type": "markdown",
   "metadata": {},
   "source": [
    "### Other inputs\n",
    "\n",
    "The confidence interval(s) (`sigma`) to be calculated can be entered as a single value or a list. The default is 95% (0.95). The number of threads (`threads`) to use for confidence interval calculation will be automatically calculated if not explicitly set.\n",
    "\n",
    "The only minimization method (`method`) currently supported is Levenberg-Marquardt ('leastsq'). Other methods will be added in the future. "
   ]
  },
  {
   "cell_type": "code",
   "execution_count": 7,
   "metadata": {
    "ExecuteTime": {
     "end_time": "2016-07-16T19:21:31.144093",
     "start_time": "2016-07-16T19:21:31.139176"
    },
    "collapsed": true
   },
   "outputs": [],
   "source": [
    "sigma = 0.95\n",
    "threads = None\n",
    "method = 'leastsq'"
   ]
  },
  {
   "cell_type": "markdown",
   "metadata": {},
   "source": [
    "## Regression and prediction\n",
    "\n",
    "Performing the regression is quite simple--just call the class `pdNLS` with input parameters set and then use the `fit` method."
   ]
  },
  {
   "cell_type": "code",
   "execution_count": 8,
   "metadata": {
    "ExecuteTime": {
     "end_time": "2016-07-16T19:21:33.854393",
     "start_time": "2016-07-16T19:21:32.317152"
    },
    "collapsed": false
   },
   "outputs": [
    {
     "name": "stderr",
     "output_type": "stream",
     "text": [
      "/Volumes/Files/miniconda/envs/scienv2/lib/python2.7/site-packages/pandas/core/indexing.py:1294: PerformanceWarning: indexing past lexsort depth may impact performance.\n",
      "  return self._getitem_tuple(key)\n"
     ]
    }
   ],
   "source": [
    "fit_data = pdLSR.pdLSR(data, exponential_decay, \n",
    "                       groupbycols, params, \n",
    "                       xname, yname, \n",
    "                       method=method, sigma=sigma,\n",
    "                       threads=threads)\n",
    "fit_data.fit()"
   ]
  },
  {
   "cell_type": "markdown",
   "metadata": {},
   "source": [
    "A best-fit line can be calculated using the `predict` method."
   ]
  },
  {
   "cell_type": "code",
   "execution_count": 9,
   "metadata": {
    "ExecuteTime": {
     "end_time": "2016-07-16T19:21:35.365182",
     "start_time": "2016-07-16T19:21:35.258770"
    },
    "collapsed": false
   },
   "outputs": [
    {
     "data": {
      "text/html": [
       "<div>\n",
       "<table border=\"1\" class=\"dataframe\">\n",
       "  <thead>\n",
       "    <tr style=\"text-align: right;\">\n",
       "      <th></th>\n",
       "      <th></th>\n",
       "      <th>xcalc</th>\n",
       "      <th>ycalc</th>\n",
       "    </tr>\n",
       "    <tr>\n",
       "      <th>resi</th>\n",
       "      <th>field</th>\n",
       "      <th></th>\n",
       "      <th></th>\n",
       "    </tr>\n",
       "  </thead>\n",
       "  <tbody>\n",
       "    <tr>\n",
       "      <th rowspan=\"5\" valign=\"top\">51</th>\n",
       "      <th>14.1</th>\n",
       "      <td>0.004000</td>\n",
       "      <td>1585.177189</td>\n",
       "    </tr>\n",
       "    <tr>\n",
       "      <th>14.1</th>\n",
       "      <td>0.026667</td>\n",
       "      <td>1015.408155</td>\n",
       "    </tr>\n",
       "    <tr>\n",
       "      <th>14.1</th>\n",
       "      <td>0.049333</td>\n",
       "      <td>650.434366</td>\n",
       "    </tr>\n",
       "    <tr>\n",
       "      <th>14.1</th>\n",
       "      <td>0.072000</td>\n",
       "      <td>416.645132</td>\n",
       "    </tr>\n",
       "    <tr>\n",
       "      <th>14.1</th>\n",
       "      <td>0.094667</td>\n",
       "      <td>266.888060</td>\n",
       "    </tr>\n",
       "  </tbody>\n",
       "</table>\n",
       "</div>"
      ],
      "text/plain": [
       "               xcalc        ycalc\n",
       "resi field                       \n",
       "51   14.1   0.004000  1585.177189\n",
       "     14.1   0.026667  1015.408155\n",
       "     14.1   0.049333   650.434366\n",
       "     14.1   0.072000   416.645132\n",
       "     14.1   0.094667   266.888060"
      ]
     },
     "execution_count": 9,
     "metadata": {},
     "output_type": "execute_result"
    }
   ],
   "source": [
    "fit_data.predict()\n",
    "fit_data.model.head()"
   ]
  },
  {
   "cell_type": "markdown",
   "metadata": {},
   "source": [
    "## Results\n",
    "\n",
    "`pdLSR` creates five output tables:\n",
    "\n",
    "* **data** for the input data, calculated data, and residuals\n",
    "* **results** that contains the best-fit parameters and estimation of their error\n",
    "* **stats** for statistics related to the regression, such as chi-squared and AIC\n",
    "* **model** that contains a best-fit line created by the `predict` method\n",
    "* **covar** that contains the covariance matrices\n",
    "\n",
    "Here is part of the **results** table for a single residue and magnetic field:"
   ]
  },
  {
   "cell_type": "code",
   "execution_count": 10,
   "metadata": {
    "ExecuteTime": {
     "end_time": "2016-07-16T19:21:36.433566",
     "start_time": "2016-07-16T19:21:36.397612"
    },
    "collapsed": false
   },
   "outputs": [
    {
     "data": {
      "text/html": [
       "<div>\n",
       "<table border=\"1\" class=\"dataframe\">\n",
       "  <thead>\n",
       "    <tr style=\"text-align: right;\">\n",
       "      <th></th>\n",
       "      <th></th>\n",
       "      <th>time</th>\n",
       "      <th>intensity</th>\n",
       "      <th>ycalc</th>\n",
       "      <th>residuals</th>\n",
       "    </tr>\n",
       "    <tr>\n",
       "      <th>resi</th>\n",
       "      <th>field</th>\n",
       "      <th></th>\n",
       "      <th></th>\n",
       "      <th></th>\n",
       "      <th></th>\n",
       "    </tr>\n",
       "  </thead>\n",
       "  <tbody>\n",
       "    <tr>\n",
       "      <th rowspan=\"7\" valign=\"top\">51</th>\n",
       "      <th>21.1</th>\n",
       "      <td>0.004</td>\n",
       "      <td>58597.437500</td>\n",
       "      <td>56188.873999</td>\n",
       "      <td>2408.563501</td>\n",
       "    </tr>\n",
       "    <tr>\n",
       "      <th>21.1</th>\n",
       "      <td>0.008</td>\n",
       "      <td>51579.929688</td>\n",
       "      <td>51611.321692</td>\n",
       "      <td>-31.392004</td>\n",
       "    </tr>\n",
       "    <tr>\n",
       "      <th>21.1</th>\n",
       "      <td>0.024</td>\n",
       "      <td>33917.402344</td>\n",
       "      <td>36738.683353</td>\n",
       "      <td>-2821.281009</td>\n",
       "    </tr>\n",
       "    <tr>\n",
       "      <th>21.1</th>\n",
       "      <td>0.064</td>\n",
       "      <td>13755.859375</td>\n",
       "      <td>15706.163192</td>\n",
       "      <td>-1950.303817</td>\n",
       "    </tr>\n",
       "    <tr>\n",
       "      <th>21.1</th>\n",
       "      <td>0.096</td>\n",
       "      <td>7755.250000</td>\n",
       "      <td>7958.428516</td>\n",
       "      <td>-203.178516</td>\n",
       "    </tr>\n",
       "    <tr>\n",
       "      <th>21.1</th>\n",
       "      <td>0.144</td>\n",
       "      <td>6441.057129</td>\n",
       "      <td>2870.536946</td>\n",
       "      <td>3570.520183</td>\n",
       "    </tr>\n",
       "    <tr>\n",
       "      <th>21.1</th>\n",
       "      <td>0.208</td>\n",
       "      <td>3995.350098</td>\n",
       "      <td>737.017108</td>\n",
       "      <td>3258.332990</td>\n",
       "    </tr>\n",
       "  </tbody>\n",
       "</table>\n",
       "</div>"
      ],
      "text/plain": [
       "             time     intensity         ycalc    residuals\n",
       "resi field                                                \n",
       "51   21.1   0.004  58597.437500  56188.873999  2408.563501\n",
       "     21.1   0.008  51579.929688  51611.321692   -31.392004\n",
       "     21.1   0.024  33917.402344  36738.683353 -2821.281009\n",
       "     21.1   0.064  13755.859375  15706.163192 -1950.303817\n",
       "     21.1   0.096   7755.250000   7958.428516  -203.178516\n",
       "     21.1   0.144   6441.057129   2870.536946  3570.520183\n",
       "     21.1   0.208   3995.350098    737.017108  3258.332990"
      ]
     },
     "execution_count": 10,
     "metadata": {},
     "output_type": "execute_result"
    }
   ],
   "source": [
    "resi = 51\n",
    "field = 21.1\n",
    "\n",
    "fit_data.data.loc[(resi, field)]"
   ]
  },
  {
   "cell_type": "markdown",
   "metadata": {},
   "source": [
    "The **results** table contains best-fit parameters, their standard errors, and confidence intervals."
   ]
  },
  {
   "cell_type": "code",
   "execution_count": 11,
   "metadata": {
    "ExecuteTime": {
     "end_time": "2016-07-16T19:21:37.303890",
     "start_time": "2016-07-16T19:21:37.258821"
    },
    "collapsed": false
   },
   "outputs": [
    {
     "data": {
      "text/html": [
       "<div>\n",
       "<table border=\"1\" class=\"dataframe\">\n",
       "  <thead>\n",
       "    <tr>\n",
       "      <th></th>\n",
       "      <th></th>\n",
       "      <th colspan=\"3\" halign=\"left\">inten</th>\n",
       "      <th colspan=\"3\" halign=\"left\">rate</th>\n",
       "    </tr>\n",
       "    <tr>\n",
       "      <th></th>\n",
       "      <th></th>\n",
       "      <th>value</th>\n",
       "      <th>stderr</th>\n",
       "      <th>ci0.95</th>\n",
       "      <th>value</th>\n",
       "      <th>stderr</th>\n",
       "      <th>ci0.95</th>\n",
       "    </tr>\n",
       "    <tr>\n",
       "      <th>resi</th>\n",
       "      <th>field</th>\n",
       "      <th></th>\n",
       "      <th></th>\n",
       "      <th></th>\n",
       "      <th></th>\n",
       "      <th></th>\n",
       "      <th></th>\n",
       "    </tr>\n",
       "  </thead>\n",
       "  <tbody>\n",
       "    <tr>\n",
       "      <th rowspan=\"2\" valign=\"top\">51</th>\n",
       "      <th>14.1</th>\n",
       "      <td>1714.801224</td>\n",
       "      <td>37.873598</td>\n",
       "      <td>58.412803</td>\n",
       "      <td>19.650244</td>\n",
       "      <td>1.017596</td>\n",
       "      <td>1.737309</td>\n",
       "    </tr>\n",
       "    <tr>\n",
       "      <th>21.1</th>\n",
       "      <td>61172.422208</td>\n",
       "      <td>2056.605717</td>\n",
       "      <td>3233.839208</td>\n",
       "      <td>21.244426</td>\n",
       "      <td>1.632509</td>\n",
       "      <td>2.747193</td>\n",
       "    </tr>\n",
       "    <tr>\n",
       "      <th rowspan=\"2\" valign=\"top\">52</th>\n",
       "      <th>14.1</th>\n",
       "      <td>1778.899941</td>\n",
       "      <td>17.866286</td>\n",
       "      <td>32.098115</td>\n",
       "      <td>23.354822</td>\n",
       "      <td>0.487731</td>\n",
       "      <td>0.961983</td>\n",
       "    </tr>\n",
       "    <tr>\n",
       "      <th>21.1</th>\n",
       "      <td>72392.056557</td>\n",
       "      <td>511.164845</td>\n",
       "      <td>899.609872</td>\n",
       "      <td>32.172892</td>\n",
       "      <td>0.899967</td>\n",
       "      <td>1.359184</td>\n",
       "    </tr>\n",
       "  </tbody>\n",
       "</table>\n",
       "</div>"
      ],
      "text/plain": [
       "                   inten                                 rate            \\\n",
       "                   value       stderr       ci0.95      value    stderr   \n",
       "resi field                                                                \n",
       "51   14.1    1714.801224    37.873598    58.412803  19.650244  1.017596   \n",
       "     21.1   61172.422208  2056.605717  3233.839208  21.244426  1.632509   \n",
       "52   14.1    1778.899941    17.866286    32.098115  23.354822  0.487731   \n",
       "     21.1   72392.056557   511.164845   899.609872  32.172892  0.899967   \n",
       "\n",
       "                      \n",
       "              ci0.95  \n",
       "resi field            \n",
       "51   14.1   1.737309  \n",
       "     21.1   2.747193  \n",
       "52   14.1   0.961983  \n",
       "     21.1   1.359184  "
      ]
     },
     "execution_count": 11,
     "metadata": {},
     "output_type": "execute_result"
    }
   ],
   "source": [
    "fit_data.results.head(n=4)"
   ]
  },
  {
   "cell_type": "markdown",
   "metadata": {},
   "source": [
    "The **stats** table contains statistics for each of the regressions:\n",
    "\n",
    "* Number of observations (`nobs`)\n",
    "* Number of fit parameters (`npar`)\n",
    "* Degrees of freedom (`dof`)\n",
    "* Chi-squared (`chisqr`)\n",
    "* Reduced chi-squared (`redchi`)\n",
    "* Akaike information criterion (`aic`)\n",
    "* Bayesian information criterion (`bic`)"
   ]
  },
  {
   "cell_type": "code",
   "execution_count": 12,
   "metadata": {
    "ExecuteTime": {
     "end_time": "2016-07-16T19:21:38.328812",
     "start_time": "2016-07-16T19:21:38.277204"
    },
    "collapsed": false,
    "scrolled": false
   },
   "outputs": [
    {
     "data": {
      "text/html": [
       "<div>\n",
       "<table border=\"1\" class=\"dataframe\">\n",
       "  <thead>\n",
       "    <tr style=\"text-align: right;\">\n",
       "      <th></th>\n",
       "      <th></th>\n",
       "      <th>nobs</th>\n",
       "      <th>npar</th>\n",
       "      <th>dof</th>\n",
       "      <th>chisqr</th>\n",
       "      <th>redchi</th>\n",
       "      <th>aic</th>\n",
       "      <th>bic</th>\n",
       "      <th>covar</th>\n",
       "    </tr>\n",
       "    <tr>\n",
       "      <th>resi</th>\n",
       "      <th>field</th>\n",
       "      <th></th>\n",
       "      <th></th>\n",
       "      <th></th>\n",
       "      <th></th>\n",
       "      <th></th>\n",
       "      <th></th>\n",
       "      <th></th>\n",
       "      <th></th>\n",
       "    </tr>\n",
       "  </thead>\n",
       "  <tbody>\n",
       "    <tr>\n",
       "      <th rowspan=\"2\" valign=\"top\">51</th>\n",
       "      <th>14.1</th>\n",
       "      <td>7</td>\n",
       "      <td>2</td>\n",
       "      <td>5</td>\n",
       "      <td>4.618933e+07</td>\n",
       "      <td>9.237866e+06</td>\n",
       "      <td>116.271750</td>\n",
       "      <td>116.163570</td>\n",
       "      <td>[[1434.40941598, 25.1920994106], [25.192099410...</td>\n",
       "    </tr>\n",
       "    <tr>\n",
       "      <th>21.1</th>\n",
       "      <td>7</td>\n",
       "      <td>2</td>\n",
       "      <td>5</td>\n",
       "      <td>3.867213e+14</td>\n",
       "      <td>7.734425e+13</td>\n",
       "      <td>227.855012</td>\n",
       "      <td>227.746832</td>\n",
       "      <td>[[4229627.07654, 2206.79019345], [2206.7901934...</td>\n",
       "    </tr>\n",
       "    <tr>\n",
       "      <th rowspan=\"2\" valign=\"top\">52</th>\n",
       "      <th>14.1</th>\n",
       "      <td>7</td>\n",
       "      <td>2</td>\n",
       "      <td>5</td>\n",
       "      <td>2.013268e+06</td>\n",
       "      <td>4.026536e+05</td>\n",
       "      <td>94.340823</td>\n",
       "      <td>94.232643</td>\n",
       "      <td>[[319.204188624, 6.64745810301], [6.6474581030...</td>\n",
       "    </tr>\n",
       "    <tr>\n",
       "      <th>21.1</th>\n",
       "      <td>7</td>\n",
       "      <td>2</td>\n",
       "      <td>5</td>\n",
       "      <td>2.469331e+12</td>\n",
       "      <td>4.938662e+11</td>\n",
       "      <td>192.478713</td>\n",
       "      <td>192.370534</td>\n",
       "      <td>[[261289.498533, 362.755226131], [362.75522613...</td>\n",
       "    </tr>\n",
       "  </tbody>\n",
       "</table>\n",
       "</div>"
      ],
      "text/plain": [
       "            nobs  npar  dof        chisqr        redchi         aic  \\\n",
       "resi field                                                            \n",
       "51   14.1      7     2    5  4.618933e+07  9.237866e+06  116.271750   \n",
       "     21.1      7     2    5  3.867213e+14  7.734425e+13  227.855012   \n",
       "52   14.1      7     2    5  2.013268e+06  4.026536e+05   94.340823   \n",
       "     21.1      7     2    5  2.469331e+12  4.938662e+11  192.478713   \n",
       "\n",
       "                   bic                                              covar  \n",
       "resi field                                                                 \n",
       "51   14.1   116.163570  [[1434.40941598, 25.1920994106], [25.192099410...  \n",
       "     21.1   227.746832  [[4229627.07654, 2206.79019345], [2206.7901934...  \n",
       "52   14.1    94.232643  [[319.204188624, 6.64745810301], [6.6474581030...  \n",
       "     21.1   192.370534  [[261289.498533, 362.755226131], [362.75522613...  "
      ]
     },
     "execution_count": 12,
     "metadata": {},
     "output_type": "execute_result"
    }
   ],
   "source": [
    "fit_data.stats.head(n=4)"
   ]
  },
  {
   "cell_type": "markdown",
   "metadata": {},
   "source": [
    "It is also easy to access a single covariance matrix for calculations."
   ]
  },
  {
   "cell_type": "code",
   "execution_count": 13,
   "metadata": {
    "ExecuteTime": {
     "end_time": "2016-07-16T19:21:39.711176",
     "start_time": "2016-07-16T19:21:39.701828"
    },
    "collapsed": false
   },
   "outputs": [
    {
     "data": {
      "text/plain": [
       "array([[  4.22962708e+06,   2.20679019e+03],\n",
       "       [  2.20679019e+03,   2.66508651e+00]])"
      ]
     },
     "execution_count": 13,
     "metadata": {},
     "output_type": "execute_result"
    }
   ],
   "source": [
    "fit_data.stats.covar.loc[(resi, field)]"
   ]
  },
  {
   "cell_type": "markdown",
   "metadata": {},
   "source": [
    "## Visualization\n",
    "\n",
    "The results are easy to visualize in facet plots with Seaborn. The facet plots will be easier to see if the intensities are normalized first."
   ]
  },
  {
   "cell_type": "code",
   "execution_count": 14,
   "metadata": {
    "ExecuteTime": {
     "end_time": "2016-07-16T19:21:40.857489",
     "start_time": "2016-07-16T19:21:40.852911"
    },
    "collapsed": false
   },
   "outputs": [],
   "source": [
    "fit_itensities = fit_data.results.loc[:,('inten','value')]"
   ]
  },
  {
   "cell_type": "code",
   "execution_count": 15,
   "metadata": {
    "ExecuteTime": {
     "end_time": "2016-07-16T19:21:41.752556",
     "start_time": "2016-07-16T19:21:41.738716"
    },
    "collapsed": false
   },
   "outputs": [],
   "source": [
    "fit_data.data['intensity'] = fit_data.data.intensity.div(fit_itensities)\n",
    "fit_data.model['ycalc'] = fit_data.model.ycalc.div(fit_itensities)"
   ]
  },
  {
   "cell_type": "code",
   "execution_count": 16,
   "metadata": {
    "ExecuteTime": {
     "end_time": "2016-07-16T19:21:44.943594",
     "start_time": "2016-07-16T19:21:43.482550"
    },
    "collapsed": false
   },
   "outputs": [
    {
     "data": {
      "image/png": "[encoded data removed]",
      "text/plain": [
       "<matplotlib.figure.Figure at 0x11a315fd0>"
      ]
     },
     "metadata": {},
     "output_type": "display_data"
    }
   ],
   "source": [
    "plot_data = pd.concat([fit_data.data.reset_index(), \n",
    "                       fit_data.model.reset_index()], axis=0)\n",
    "\n",
    "colors = sns.color_palette()\n",
    "\n",
    "palette = {14.1:colors[0], 21.1:colors[2]}\n",
    "\n",
    "grid = sns.FacetGrid(plot_data, col='resi', hue='field', palette=palette,\n",
    "                     col_wrap=3, size=2.0, aspect=0.75, \n",
    "                     sharey=True, despine=True)\n",
    "\n",
    "\n",
    "grid.map(plt.plot, 'xcalc', 'ycalc', marker='', ls='-', lw=1.0)\n",
    "grid.map(plt.plot, 'time', 'intensity', marker='o', ms=5, ls='')\n",
    "\n",
    "grid.set(xticks=np.linspace(0.05, 0.25, 5),\n",
    "         ylim=(-0.1, 1.05))\n",
    "\n",
    "grid.axes[0].legend(loc=0, frameon=True)\n",
    "\n",
    "f = plt.gcf()\n",
    "f.set_size_inches(12,8)\n",
    "f.subplots_adjust(wspace=0.2, hspace=0.25)"
   ]
  },
  {
   "cell_type": "code",
   "execution_count": null,
   "metadata": {
    "collapsed": true
   },
   "outputs": [],
   "source": []
  }
 ],
 "metadata": {
  "kernelspec": {
   "display_name": "Python 2",
   "language": "python",
   "name": "python2"
  },
  "language_info": {
   "codemirror_mode": {
    "name": "ipython",
    "version": 2
   },
   "file_extension": ".py",
   "mimetype": "text/x-python",
   "name": "python",
   "nbconvert_exporter": "python",
   "pygments_lexer": "ipython2",
   "version": "2.7.12"
  }
 },
 "nbformat": 4,
 "nbformat_minor": 0
}
