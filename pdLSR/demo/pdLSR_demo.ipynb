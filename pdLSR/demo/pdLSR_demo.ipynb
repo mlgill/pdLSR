{
 "cells": [
  {
   "cell_type": "markdown",
   "metadata": {},
   "source": [
    "# pdLSR: Pandas-aware least squares regression"
   ]
  },
  {
   "cell_type": "code",
   "execution_count": 1,
   "metadata": {
    "ExecuteTime": {
     "end_time": "2016-07-17T08:30:24.500479",
     "start_time": "2016-07-17T08:30:23.126027"
    },
    "collapsed": false
   },
   "outputs": [],
   "source": [
    "from __future__ import print_function\n",
    "import os\n",
    "import inspect\n",
    "\n",
    "import numpy as np\n",
    "import pandas as pd\n",
    "\n",
    "pd.set_option('display.float_format', lambda x: '%.2f' % x)\n",
    "np.set_printoptions(precision=2)\n",
    "\n",
    "import matplotlib.pyplot as plt\n",
    "import seaborn as sns\n",
    "\n",
    "sns.set_context('talk')\n",
    "sns.set_palette('dark')\n",
    "sns.set_style('ticks')\n",
    "\n",
    "%matplotlib inline"
   ]
  },
  {
   "cell_type": "code",
   "execution_count": 2,
   "metadata": {
    "ExecuteTime": {
     "end_time": "2016-07-17T08:30:24.632378",
     "start_time": "2016-07-17T08:30:24.502891"
    },
    "collapsed": false
   },
   "outputs": [
    {
     "name": "stdout",
     "output_type": "stream",
     "text": [
      "Module pdLSR was not found in PYTHONPATH. Looking for module in directory '../../pdLSR'\n",
      "Module pdLSR was found in the directory '../../pdLSR' and imported.\n"
     ]
    }
   ],
   "source": [
    "# Import pdLSR\n",
    "try:\n",
    "    # If pdLSR is in PYTHONPATH (or is installed), then use a direct import\n",
    "    import pdLSR\n",
    "    \n",
    "except ImportError:\n",
    "    # Attempt to demo pdLSR without installing by importing from directory\n",
    "    pdLSR_path = '../../pdLSR'\n",
    "    \n",
    "    print(\"Module pdLSR was not found in PYTHONPATH. Looking for module in directory '{:s}'\".format(pdLSR_path))\n",
    "    \n",
    "    if os.path.exists(pdLSR_path):\n",
    "        import imp\n",
    "        pdLSR = imp.load_package('pdLSR', pdLSR_path)\n",
    "        print(\"Module pdLSR was found in the directory '{:s}' and imported.\".format(pdLSR_path))\n",
    "    else:\n",
    "        raise ImportError(\"Module pdLSR could not be found in the directory '{:s}'.\".format(pdLSR_path) + \\\n",
    "        \"This demonstration will not run until the module is located.\")"
   ]
  },
  {
   "cell_type": "markdown",
   "metadata": {},
   "source": [
    "## Overview\n",
    "\n",
    "`pdLSR` is a library for performing least squares minimization. It attempts to seamlessly incorporate this task in a Pandas-focused workflow. Input data are expected in dataframes, and multiple regressions can be performed using functionality similar to Pandas `groupby`. Results are returned as grouped dataframes and include best-fit parameters, statistics, residuals, and more. The results can be easily visualized using [`seaborn`](https://github.com/mwaskom/seaborn).\n",
    "\n",
    "`pdLSR` currently utilizes [`lmfit`](https://github.com/lmfit/lmfit-py), a flexible and powerful library for least squares minimization, which in turn, makes use of `scipy.optimize.leastsq`. I began using `lmfit` because it is one of the few libraries that supports non-linear least squares regression, which is commonly used in the natural sciences. I also like the flexibility it offers for testing different modeling scenarios and the variety of assessment statistics it provides. However, I found myself writing many `for` loops to perform regressions on groups of data and aggregate the resulting output. Simplification of this task was my inspiration for writing `pdLSR`.\n",
    "\n",
    "`pdLSR` is related to libraries such as [`statsmodels`](http://statsmodels.sourceforge.net) and [`scikit-learn`](http://scikit-learn.org/stable/) that provide linear regression functions that operate on dataframes. However, these libraries don't support grouping operations on dataframes. Supporting `statsmodels` and `scikit-learn` is being considered. (And pull requests adding this functionality would be welcome.)\n",
    "\n",
    "Some additional 'niceties' associated with the input of parameters and equations have also been incorporated. `pdLSR` also utilizes multithreading for the calculation of confidence intervals, as this process is time consuming when there are more than a few groups."
   ]
  },
  {
   "cell_type": "markdown",
   "metadata": {},
   "source": [
    "### Input data\n",
    "\n",
    "This `pdLSR` demonstration utilizes nuclear magnetic resonance (NMR) data acquired at two different magnetic field strengths (14.1 and 21.1 T) on a protein called GCN4. For the purpose of this demonstration, analyzing this data requires determining the rate of exponential decay as a function of time for every amino acid residue at each of two magnetic field strengths. \n",
    "\n",
    "There are 12 amino acids in the enclosed data set, so using amino acid residue (`resi`) and magnetic field (`field`) as the `groupby` columns results in 24 minimization operations."
   ]
  },
  {
   "cell_type": "code",
   "execution_count": 3,
   "metadata": {
    "ExecuteTime": {
     "end_time": "2016-07-17T08:30:25.474732",
     "start_time": "2016-07-17T08:30:25.344264"
    },
    "collapsed": false
   },
   "outputs": [
    {
     "name": "stdout",
     "output_type": "stream",
     "text": [
      "resi\tfield\ttime\tintensity\r\n",
      "51\t14.1\t0.004\t1624.219428\r\n",
      "51\t14.1\t0.008\t1491.46728\r\n",
      "51\t14.1\t0.024\t1022.717456\r\n",
      "51\t14.1\t0.064\t448.038543\r\n",
      "51\t14.1\t0.096\t270.116745\r\n",
      "51\t14.1\t0.144\t148.671651\r\n",
      "51\t14.1\t0.208\t103.322608\r\n",
      "52\t14.1\t0.004\t1614.38584\r\n",
      "52\t14.1\t0.008\t1500.47205\r\n"
     ]
    }
   ],
   "source": [
    "data = pd.read_csv('GCN4_twofield.csv', sep='\\t')\n",
    "! head GCN4_twofield.csv"
   ]
  },
  {
   "cell_type": "markdown",
   "metadata": {},
   "source": [
    "### Dataframe input\n",
    "\n",
    "`pdLSR` uses a dataframe for input as well as a column (or list of columns, called `groupbycols` here) for the `groupby` operation prior to fitting. A string input corresponding to the independent data (`xname`) and dependent data (`yname`) are required. Errors for weighting during fitting (`yerr`, not used here) can also be used."
   ]
  },
  {
   "cell_type": "code",
   "execution_count": 4,
   "metadata": {
    "ExecuteTime": {
     "end_time": "2016-07-17T08:30:25.751375",
     "start_time": "2016-07-17T08:30:25.747101"
    },
    "collapsed": true
   },
   "outputs": [],
   "source": [
    "groupby = ['resi', 'field']\n",
    "xname = 'time'\n",
    "yname = 'intensity'\n",
    "yerr = None"
   ]
  },
  {
   "cell_type": "markdown",
   "metadata": {},
   "source": [
    "### Minimization equation\n",
    "\n",
    "The function format required by `pdLSR` is similar that described in the [`lmfit` documentation](http://lmfit.github.io/lmfit-py/fitting.html#writing-a-fitting-function). Generally speaking, all fit parameters must appear first and they must be contained in a single variable or dictionary that is then unpacked inside the function. The independent (x-) data is next and then the dependent (y-) data.\n",
    "\n",
    "`pdLSR` contains a separate function that calculates the regression error, so the input function need only calculate the expected value based on input parameters.\n",
    "\n",
    "Common equations are provided in the `function` module. Currently, an exponential decay and a linear function are provided.\n",
    "\n",
    "This demo will be using the exponential decay function, whose parameters are:  \n",
    "\n",
    "$I_{(t)} = I_{(0)} \\space e^{(-R * t)}$  \n",
    "\n",
    "where $I_{(0)}$ is the initial intensity, $I_{(t)}$ is the intensity at time $t$, and $R$ is the exponential decay  rate. \n",
    "\n",
    "Here is what the exponential decay function looks like:  "
   ]
  },
  {
   "cell_type": "code",
   "execution_count": 5,
   "metadata": {
    "ExecuteTime": {
     "end_time": "2016-07-17T08:30:26.206556",
     "start_time": "2016-07-17T08:30:26.197050"
    },
    "collapsed": false
   },
   "outputs": [
    {
     "name": "stdout",
     "output_type": "stream",
     "text": [
      "def exponential_decay(par, xdata):\n",
      "    \n",
      "    # Parse multiple input parameter\n",
      "    # formats for intensity, rate    \n",
      "    if hasattr(par,'valuesdict'):\n",
      "        # lmfit parameter format\n",
      "        var = par.valuesdict()\n",
      "        inten = var['inten']\n",
      "        rate = var['rate']\n",
      "    elif hasattr(par,'keys'):\n",
      "        # dict format\n",
      "        inten = par['inten']\n",
      "        rate = par['rate']\n",
      "    else:\n",
      "        # array/list/tuple format\n",
      "        inten = par[0]\n",
      "        rate = par[1]\n",
      "\n",
      "    # Calculate the y-data from the parameters\n",
      "    return inten * np.exp(-1*rate*xdata)\n",
      "\n"
     ]
    }
   ],
   "source": [
    "exponential_decay = pdLSR.functions.exponential_decay\n",
    "print(inspect.getsource(exponential_decay))"
   ]
  },
  {
   "cell_type": "markdown",
   "metadata": {},
   "source": [
    "### Parameters\n",
    "\n",
    "Parameters are usually input as a dictionary, although dataframe input will soon be an option. The list of parameters must be the same as the order in which they are unpacked by the minimization function. The keys for each parameter follows the format used by [`lmfit`](). \n",
    "\n",
    "Parameter starting values can be a single value or a list. If a single value is entered, it is used for each measurement. If a list or array is entered (see the intensity values below), it must be the same length as the number of groups."
   ]
  },
  {
   "cell_type": "code",
   "execution_count": 6,
   "metadata": {
    "ExecuteTime": {
     "end_time": "2016-07-17T08:30:26.636626",
     "start_time": "2016-07-17T08:30:26.628709"
    },
    "collapsed": false
   },
   "outputs": [],
   "source": [
    "params = [{'name':'inten', \n",
    "           'value':np.asarray(data.groupby(groupby)[yname].max()), \n",
    "           'vary':True},\n",
    "          {'name':'rate', \n",
    "           'value':20.0, \n",
    "           'vary':True}]"
   ]
  },
  {
   "cell_type": "markdown",
   "metadata": {},
   "source": [
    "### Other inputs\n",
    "\n",
    "The only minimization method (`method`) currently supported is Levenberg-Marquardt ('leastsq'). Other methods will be added in the future. \n",
    "\n",
    "The confidence interval(s) (`sigma`) to be calculated can be entered as a single value or a list. The default is 95% (0.95). The number of threads (`threads`) to use for confidence interval calculation will be automatically calculated if not explicitly set."
   ]
  },
  {
   "cell_type": "code",
   "execution_count": 7,
   "metadata": {
    "ExecuteTime": {
     "end_time": "2016-07-17T08:30:27.161349",
     "start_time": "2016-07-17T08:30:27.157327"
    },
    "collapsed": true
   },
   "outputs": [],
   "source": [
    "minimizer_kwargs = {'params':params,\n",
    "                    'method':'leastsq',\n",
    "                    'sigma':0.95,\n",
    "                    'threads':None}"
   ]
  },
  {
   "cell_type": "markdown",
   "metadata": {},
   "source": [
    "## Regression and prediction\n",
    "\n",
    "Performing the regression is quite simple--just call the class `pdNLS` with input parameters set and then use the `fit` method. A best-fit line can be calculated using the `predict` method, which will create a dataframe called `model` to store the results."
   ]
  },
  {
   "cell_type": "code",
   "execution_count": 8,
   "metadata": {
    "ExecuteTime": {
     "end_time": "2016-07-17T08:30:29.780922",
     "start_time": "2016-07-17T08:30:28.587162"
    },
    "collapsed": false
   },
   "outputs": [
    {
     "name": "stderr",
     "output_type": "stream",
     "text": [
      "/Volumes/Files/miniconda/envs/scienv3/lib/python3.5/site-packages/pandas/core/indexing.py:1294: PerformanceWarning: indexing past lexsort depth may impact performance.\n",
      "  return self._getitem_tuple(key)\n"
     ]
    }
   ],
   "source": [
    "fit_data = pdLSR.pdLSR(data, exponential_decay, groupby, \n",
    "                       xname, yname,\n",
    "                       minimizer='lmfit',\n",
    "                       minimizer_kwargs=minimizer_kwargs)\n",
    "fit_data.fit()\n",
    "fit_data.predict()"
   ]
  },
  {
   "cell_type": "markdown",
   "metadata": {},
   "source": [
    "## Results\n",
    "\n",
    "`pdLSR` creates five output tables:\n",
    "\n",
    "* **data** for the input data, calculated data, and residuals\n",
    "* **results** that contains the best-fit parameters and estimation of their error\n",
    "* **stats** for statistics related to the regression, such as chi-squared and AIC\n",
    "* **model** that contains a best-fit line created by the `predict` method\n",
    "* **covar** that contains the covariance matrices\n",
    "\n",
    "Here is part of the **results** table for a single residue and magnetic field:"
   ]
  },
  {
   "cell_type": "code",
   "execution_count": 9,
   "metadata": {
    "ExecuteTime": {
     "end_time": "2016-07-17T08:30:30.887299",
     "start_time": "2016-07-17T08:30:30.863399"
    },
    "collapsed": false
   },
   "outputs": [
    {
     "data": {
      "text/html": [
       "<div>\n",
       "<table border=\"1\" class=\"dataframe\">\n",
       "  <thead>\n",
       "    <tr style=\"text-align: right;\">\n",
       "      <th></th>\n",
       "      <th></th>\n",
       "      <th>time</th>\n",
       "      <th>intensity</th>\n",
       "      <th>ycalc</th>\n",
       "      <th>residuals</th>\n",
       "    </tr>\n",
       "    <tr>\n",
       "      <th>resi</th>\n",
       "      <th>field</th>\n",
       "      <th></th>\n",
       "      <th></th>\n",
       "      <th></th>\n",
       "      <th></th>\n",
       "    </tr>\n",
       "  </thead>\n",
       "  <tbody>\n",
       "    <tr>\n",
       "      <th rowspan=\"7\" valign=\"top\">51</th>\n",
       "      <th>21.10</th>\n",
       "      <td>0.00</td>\n",
       "      <td>58597.44</td>\n",
       "      <td>56188.87</td>\n",
       "      <td>2408.56</td>\n",
       "    </tr>\n",
       "    <tr>\n",
       "      <th>21.10</th>\n",
       "      <td>0.01</td>\n",
       "      <td>51579.93</td>\n",
       "      <td>51611.32</td>\n",
       "      <td>-31.39</td>\n",
       "    </tr>\n",
       "    <tr>\n",
       "      <th>21.10</th>\n",
       "      <td>0.02</td>\n",
       "      <td>33917.40</td>\n",
       "      <td>36738.68</td>\n",
       "      <td>-2821.28</td>\n",
       "    </tr>\n",
       "    <tr>\n",
       "      <th>21.10</th>\n",
       "      <td>0.06</td>\n",
       "      <td>13755.86</td>\n",
       "      <td>15706.16</td>\n",
       "      <td>-1950.30</td>\n",
       "    </tr>\n",
       "    <tr>\n",
       "      <th>21.10</th>\n",
       "      <td>0.10</td>\n",
       "      <td>7755.25</td>\n",
       "      <td>7958.43</td>\n",
       "      <td>-203.18</td>\n",
       "    </tr>\n",
       "    <tr>\n",
       "      <th>21.10</th>\n",
       "      <td>0.14</td>\n",
       "      <td>6441.06</td>\n",
       "      <td>2870.54</td>\n",
       "      <td>3570.52</td>\n",
       "    </tr>\n",
       "    <tr>\n",
       "      <th>21.10</th>\n",
       "      <td>0.21</td>\n",
       "      <td>3995.35</td>\n",
       "      <td>737.02</td>\n",
       "      <td>3258.33</td>\n",
       "    </tr>\n",
       "  </tbody>\n",
       "</table>\n",
       "</div>"
      ],
      "text/plain": [
       "            time  intensity    ycalc  residuals\n",
       "resi field                                     \n",
       "51   21.10  0.00   58597.44 56188.87    2408.56\n",
       "     21.10  0.01   51579.93 51611.32     -31.39\n",
       "     21.10  0.02   33917.40 36738.68   -2821.28\n",
       "     21.10  0.06   13755.86 15706.16   -1950.30\n",
       "     21.10  0.10    7755.25  7958.43    -203.18\n",
       "     21.10  0.14    6441.06  2870.54    3570.52\n",
       "     21.10  0.21    3995.35   737.02    3258.33"
      ]
     },
     "execution_count": 9,
     "metadata": {},
     "output_type": "execute_result"
    }
   ],
   "source": [
    "resi = 51\n",
    "field = 21.1\n",
    "\n",
    "fit_data.data.loc[(resi, field)]"
   ]
  },
  {
   "cell_type": "markdown",
   "metadata": {},
   "source": [
    "The **results** table contains best-fit parameters, their standard errors, and confidence intervals."
   ]
  },
  {
   "cell_type": "code",
   "execution_count": 10,
   "metadata": {
    "ExecuteTime": {
     "end_time": "2016-07-17T08:30:31.530924",
     "start_time": "2016-07-17T08:30:31.511026"
    },
    "collapsed": false
   },
   "outputs": [
    {
     "data": {
      "text/html": [
       "<div>\n",
       "<table border=\"1\" class=\"dataframe\">\n",
       "  <thead>\n",
       "    <tr>\n",
       "      <th></th>\n",
       "      <th></th>\n",
       "      <th colspan=\"3\" halign=\"left\">inten</th>\n",
       "      <th colspan=\"3\" halign=\"left\">rate</th>\n",
       "    </tr>\n",
       "    <tr>\n",
       "      <th></th>\n",
       "      <th></th>\n",
       "      <th>value</th>\n",
       "      <th>stderr</th>\n",
       "      <th>ci0.95</th>\n",
       "      <th>value</th>\n",
       "      <th>stderr</th>\n",
       "      <th>ci0.95</th>\n",
       "    </tr>\n",
       "    <tr>\n",
       "      <th>resi</th>\n",
       "      <th>field</th>\n",
       "      <th></th>\n",
       "      <th></th>\n",
       "      <th></th>\n",
       "      <th></th>\n",
       "      <th></th>\n",
       "      <th></th>\n",
       "    </tr>\n",
       "  </thead>\n",
       "  <tbody>\n",
       "    <tr>\n",
       "      <th rowspan=\"2\" valign=\"top\">51</th>\n",
       "      <th>14.10</th>\n",
       "      <td>1714.80</td>\n",
       "      <td>37.87</td>\n",
       "      <td>58.41</td>\n",
       "      <td>19.65</td>\n",
       "      <td>1.02</td>\n",
       "      <td>1.74</td>\n",
       "    </tr>\n",
       "    <tr>\n",
       "      <th>21.10</th>\n",
       "      <td>61172.42</td>\n",
       "      <td>2056.61</td>\n",
       "      <td>3233.84</td>\n",
       "      <td>21.24</td>\n",
       "      <td>1.63</td>\n",
       "      <td>2.75</td>\n",
       "    </tr>\n",
       "    <tr>\n",
       "      <th rowspan=\"2\" valign=\"top\">52</th>\n",
       "      <th>14.10</th>\n",
       "      <td>1778.90</td>\n",
       "      <td>17.87</td>\n",
       "      <td>32.10</td>\n",
       "      <td>23.35</td>\n",
       "      <td>0.49</td>\n",
       "      <td>0.96</td>\n",
       "    </tr>\n",
       "    <tr>\n",
       "      <th>21.10</th>\n",
       "      <td>72392.06</td>\n",
       "      <td>511.16</td>\n",
       "      <td>899.61</td>\n",
       "      <td>32.17</td>\n",
       "      <td>0.90</td>\n",
       "      <td>1.36</td>\n",
       "    </tr>\n",
       "  </tbody>\n",
       "</table>\n",
       "</div>"
      ],
      "text/plain": [
       "              inten                  rate              \n",
       "              value  stderr  ci0.95 value stderr ci0.95\n",
       "resi field                                             \n",
       "51   14.10  1714.80   37.87   58.41 19.65   1.02   1.74\n",
       "     21.10 61172.42 2056.61 3233.84 21.24   1.63   2.75\n",
       "52   14.10  1778.90   17.87   32.10 23.35   0.49   0.96\n",
       "     21.10 72392.06  511.16  899.61 32.17   0.90   1.36"
      ]
     },
     "execution_count": 10,
     "metadata": {},
     "output_type": "execute_result"
    }
   ],
   "source": [
    "fit_data.results.head(n=4)"
   ]
  },
  {
   "cell_type": "markdown",
   "metadata": {},
   "source": [
    "The **stats** table contains statistics for each of the regressions:\n",
    "\n",
    "* Number of observations (`nobs`)\n",
    "* Number of fit parameters (`npar`)\n",
    "* Degrees of freedom (`dof`)\n",
    "* Chi-squared (`chisqr`)\n",
    "* Reduced chi-squared (`redchi`)\n",
    "* Akaike information criterion (`aic`)\n",
    "* Bayesian information criterion (`bic`)"
   ]
  },
  {
   "cell_type": "code",
   "execution_count": 11,
   "metadata": {
    "ExecuteTime": {
     "end_time": "2016-07-17T08:30:32.073667",
     "start_time": "2016-07-17T08:30:32.057927"
    },
    "collapsed": false,
    "scrolled": false
   },
   "outputs": [
    {
     "data": {
      "text/html": [
       "<div>\n",
       "<table border=\"1\" class=\"dataframe\">\n",
       "  <thead>\n",
       "    <tr style=\"text-align: right;\">\n",
       "      <th></th>\n",
       "      <th></th>\n",
       "      <th>nobs</th>\n",
       "      <th>npar</th>\n",
       "      <th>dof</th>\n",
       "      <th>chisqr</th>\n",
       "      <th>redchi</th>\n",
       "      <th>aic</th>\n",
       "      <th>bic</th>\n",
       "    </tr>\n",
       "    <tr>\n",
       "      <th>resi</th>\n",
       "      <th>field</th>\n",
       "      <th></th>\n",
       "      <th></th>\n",
       "      <th></th>\n",
       "      <th></th>\n",
       "      <th></th>\n",
       "      <th></th>\n",
       "      <th></th>\n",
       "    </tr>\n",
       "  </thead>\n",
       "  <tbody>\n",
       "    <tr>\n",
       "      <th rowspan=\"2\" valign=\"top\">51</th>\n",
       "      <th>14.10</th>\n",
       "      <td>7</td>\n",
       "      <td>2</td>\n",
       "      <td>5</td>\n",
       "      <td>46189329.09</td>\n",
       "      <td>9237865.82</td>\n",
       "      <td>116.27</td>\n",
       "      <td>116.16</td>\n",
       "    </tr>\n",
       "    <tr>\n",
       "      <th>21.10</th>\n",
       "      <td>7</td>\n",
       "      <td>2</td>\n",
       "      <td>5</td>\n",
       "      <td>386721253587410.50</td>\n",
       "      <td>77344250717482.09</td>\n",
       "      <td>227.86</td>\n",
       "      <td>227.75</td>\n",
       "    </tr>\n",
       "    <tr>\n",
       "      <th rowspan=\"2\" valign=\"top\">52</th>\n",
       "      <th>14.10</th>\n",
       "      <td>7</td>\n",
       "      <td>2</td>\n",
       "      <td>5</td>\n",
       "      <td>2013267.84</td>\n",
       "      <td>402653.57</td>\n",
       "      <td>94.34</td>\n",
       "      <td>94.23</td>\n",
       "    </tr>\n",
       "    <tr>\n",
       "      <th>21.10</th>\n",
       "      <td>7</td>\n",
       "      <td>2</td>\n",
       "      <td>5</td>\n",
       "      <td>2469330983741.82</td>\n",
       "      <td>493866196748.36</td>\n",
       "      <td>192.48</td>\n",
       "      <td>192.37</td>\n",
       "    </tr>\n",
       "  </tbody>\n",
       "</table>\n",
       "</div>"
      ],
      "text/plain": [
       "            nobs  npar  dof             chisqr            redchi    aic    bic\n",
       "resi field                                                                    \n",
       "51   14.10     7     2    5        46189329.09        9237865.82 116.27 116.16\n",
       "     21.10     7     2    5 386721253587410.50 77344250717482.09 227.86 227.75\n",
       "52   14.10     7     2    5         2013267.84         402653.57  94.34  94.23\n",
       "     21.10     7     2    5   2469330983741.82   493866196748.36 192.48 192.37"
      ]
     },
     "execution_count": 11,
     "metadata": {},
     "output_type": "execute_result"
    }
   ],
   "source": [
    "fit_data.stats.head(n=4)"
   ]
  },
  {
   "cell_type": "markdown",
   "metadata": {},
   "source": [
    "It is also easy to access a single covariance matrix for calculations."
   ]
  },
  {
   "cell_type": "code",
   "execution_count": 12,
   "metadata": {
    "ExecuteTime": {
     "end_time": "2016-07-17T08:30:33.544109",
     "start_time": "2016-07-17T08:30:33.528843"
    },
    "collapsed": false
   },
   "outputs": [
    {
     "data": {
      "text/html": [
       "<div>\n",
       "<table border=\"1\" class=\"dataframe\">\n",
       "  <thead>\n",
       "    <tr style=\"text-align: right;\">\n",
       "      <th></th>\n",
       "      <th></th>\n",
       "      <th>row</th>\n",
       "      <th>col</th>\n",
       "      <th>covar</th>\n",
       "    </tr>\n",
       "    <tr>\n",
       "      <th>resi</th>\n",
       "      <th>field</th>\n",
       "      <th></th>\n",
       "      <th></th>\n",
       "      <th></th>\n",
       "    </tr>\n",
       "  </thead>\n",
       "  <tbody>\n",
       "    <tr>\n",
       "      <th rowspan=\"4\" valign=\"top\">51</th>\n",
       "      <th>21.10</th>\n",
       "      <td>0</td>\n",
       "      <td>0</td>\n",
       "      <td>4229627.08</td>\n",
       "    </tr>\n",
       "    <tr>\n",
       "      <th>21.10</th>\n",
       "      <td>0</td>\n",
       "      <td>1</td>\n",
       "      <td>2206.79</td>\n",
       "    </tr>\n",
       "    <tr>\n",
       "      <th>21.10</th>\n",
       "      <td>1</td>\n",
       "      <td>0</td>\n",
       "      <td>2206.79</td>\n",
       "    </tr>\n",
       "    <tr>\n",
       "      <th>21.10</th>\n",
       "      <td>1</td>\n",
       "      <td>1</td>\n",
       "      <td>2.67</td>\n",
       "    </tr>\n",
       "  </tbody>\n",
       "</table>\n",
       "</div>"
      ],
      "text/plain": [
       "            row  col      covar\n",
       "resi field                     \n",
       "51   21.10    0    0 4229627.08\n",
       "     21.10    0    1    2206.79\n",
       "     21.10    1    0    2206.79\n",
       "     21.10    1    1       2.67"
      ]
     },
     "execution_count": 12,
     "metadata": {},
     "output_type": "execute_result"
    }
   ],
   "source": [
    "fit_data.covar.loc[(resi, field)]"
   ]
  },
  {
   "cell_type": "code",
   "execution_count": 13,
   "metadata": {
    "ExecuteTime": {
     "end_time": "2016-07-17T08:30:36.177248",
     "start_time": "2016-07-17T08:30:36.121918"
    },
    "collapsed": false
   },
   "outputs": [
    {
     "data": {
      "text/plain": [
       "array([[  4.23e+06,   2.21e+03],\n",
       "       [  2.21e+03,   2.67e+00]])"
      ]
     },
     "execution_count": 13,
     "metadata": {},
     "output_type": "execute_result"
    }
   ],
   "source": [
    "fit_data.pivot_covar().loc[(resi, field)].values"
   ]
  },
  {
   "cell_type": "markdown",
   "metadata": {},
   "source": [
    "## Visualization\n",
    "\n",
    "The results are easy to visualize in facet plots with Seaborn. The facet plots will be easier to see if the intensities are normalized first."
   ]
  },
  {
   "cell_type": "code",
   "execution_count": 14,
   "metadata": {
    "ExecuteTime": {
     "end_time": "2016-07-17T08:01:34.873347",
     "start_time": "2016-07-17T08:01:34.869673"
    },
    "collapsed": false
   },
   "outputs": [],
   "source": [
    "fit_itensities = fit_data.results.loc[:,('inten','value')]"
   ]
  },
  {
   "cell_type": "code",
   "execution_count": 15,
   "metadata": {
    "ExecuteTime": {
     "end_time": "2016-07-17T08:01:35.278437",
     "start_time": "2016-07-17T08:01:35.270011"
    },
    "collapsed": false
   },
   "outputs": [],
   "source": [
    "fit_data.data['intensity'] = fit_data.data.intensity.div(fit_itensities)\n",
    "fit_data.model['ycalc'] = fit_data.model.ycalc.div(fit_itensities)"
   ]
  },
  {
   "cell_type": "code",
   "execution_count": 16,
   "metadata": {
    "ExecuteTime": {
     "end_time": "2016-07-17T08:01:37.174068",
     "start_time": "2016-07-17T08:01:35.878288"
    },
    "collapsed": false
   },
   "outputs": [
    {
     "data": {
      "image/png": "[encoded data removed]",
      "text/plain": [
       "<matplotlib.figure.Figure at 0x110ce86a0>"
      ]
     },
     "metadata": {},
     "output_type": "display_data"
    }
   ],
   "source": [
    "plot_data = pd.concat([fit_data.data, \n",
    "                       fit_data.model], axis=0).reset_index()\n",
    "\n",
    "colors = sns.color_palette()\n",
    "\n",
    "palette = {14.1:colors[0], 21.1:colors[2]}\n",
    "\n",
    "grid = sns.FacetGrid(plot_data, col='resi', hue='field', palette=palette,\n",
    "                     col_wrap=3, size=2.0, aspect=0.75, \n",
    "                     sharey=True, despine=True)\n",
    "\n",
    "\n",
    "grid.map(plt.plot, 'xcalc', 'ycalc', marker='', ls='-', lw=1.0)\n",
    "grid.map(plt.plot, 'time', 'intensity', marker='o', ms=5, ls='')\n",
    "\n",
    "grid.set(xticks=np.linspace(0.05, 0.25, 5),\n",
    "         ylim=(-0.1, 1.05))\n",
    "\n",
    "ax = grid.axes[0]\n",
    "legend = ax.get_legend_handles_labels()\n",
    "ax.legend(legend[0][2:], legend[1][2:], loc=0, frameon=True)\n",
    "\n",
    "f = plt.gcf()\n",
    "f.set_size_inches(12,8)\n",
    "f.subplots_adjust(wspace=0.2, hspace=0.25)"
   ]
  },
  {
   "cell_type": "markdown",
   "metadata": {},
   "source": [
    "Just for fun, here's a bar graph of the decay rates determined from NLS."
   ]
  },
  {
   "cell_type": "code",
   "execution_count": 17,
   "metadata": {
    "ExecuteTime": {
     "end_time": "2016-07-17T08:01:41.397173",
     "start_time": "2016-07-17T08:01:40.774006"
    },
    "collapsed": false
   },
   "outputs": [
    {
     "data": {
      "image/png": "[encoded data removed]",
      "text/plain": [
       "<matplotlib.figure.Figure at 0x11368c358>"
      ]
     },
     "metadata": {},
     "output_type": "display_data"
    }
   ],
   "source": [
    "plot_data = (fit_data.results\n",
    "             .sort_index(axis=1)\n",
    "             .loc[:,('rate',['value','stderr'])]\n",
    "             )\n",
    "plot_data.columns = plot_data.columns.droplevel(0)\n",
    "plot_data.reset_index(inplace=True)\n",
    "\n",
    "fig = plt.figure()\n",
    "fig.set_size_inches(7,5)\n",
    "ax = plt.axes()\n",
    "\n",
    "palette = [colors[0], colors[2]]\n",
    "\n",
    "for pos, (field, dat) in enumerate(plot_data.groupby('field')):\n",
    "    _ = dat.plot('resi', 'value', yerr='stderr',\n",
    "                 kind='bar', label=field, color=palette[pos],\n",
    "                 position=(-pos)+1, ax=ax, width=0.4)\n",
    "    \n",
    "ax.set_ylabel('decay rate (s$^{-1}$)')\n",
    "ax.set_xlabel('residue')\n",
    "ax.set_xlim(ax.get_xlim()[0]-0.5, ax.get_xlim()[1])\n",
    "plt.xticks(rotation=0)\n",
    "\n",
    "sns.despine()\n",
    "plt.tight_layout()"
   ]
  }
 ],
 "metadata": {
  "kernelspec": {
   "display_name": "Python 3",
   "language": "python",
   "name": "python3"
  },
  "language_info": {
   "codemirror_mode": {
    "name": "ipython",
    "version": 3
   },
   "file_extension": ".py",
   "mimetype": "text/x-python",
   "name": "python",
   "nbconvert_exporter": "python",
   "pygments_lexer": "ipython3",
   "version": "3.5.2"
  }
 },
 "nbformat": 4,
 "nbformat_minor": 0
}
