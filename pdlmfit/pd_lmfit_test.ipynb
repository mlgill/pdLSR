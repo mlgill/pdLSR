{
 "cells": [
  {
   "cell_type": "code",
   "execution_count": 1,
   "metadata": {
    "collapsed": false,
    "run_control": {
     "marked": true
    }
   },
   "outputs": [
    {
     "name": "stderr",
     "output_type": "stream",
     "text": [
      "/Volumes/Files/miniconda/envs/scienv2/lib/python2.7/site-packages/matplotlib/__init__.py:872: UserWarning: axes.color_cycle is deprecated and replaced with axes.prop_cycle; please use the latter.\n",
      "  warnings.warn(self.msg_depr % (key, alt_key))\n"
     ]
    }
   ],
   "source": [
    "import pandas as pd\n",
    "import numpy as np\n",
    "import cPickle as pickle\n",
    "from StringIO import StringIO\n",
    "\n",
    "import matplotlib\n",
    "matplotlib.rcParams[u'font.family'] = [u'sans-serif']\n",
    "matplotlib.rcParams[u'mathtext.default'] = u'regular'\n",
    "matplotlib.rcParams[u'mathtext.it'] = u'sans\\\\-serif:oblique'\n",
    "matplotlib.rcParams[u'mathtext.rm'] = u'serif'\n",
    "\n",
    "import matplotlib.pyplot as plt\n",
    "#import seaborn as sns\n",
    "import seaborn_MLG as sns\n",
    "\n",
    "pd.set_option('display.max_rows',1000)\n",
    "\n",
    "%reload_ext autoreload\n",
    "%matplotlib inline"
   ]
  },
  {
   "cell_type": "code",
   "execution_count": 2,
   "metadata": {
    "collapsed": false
   },
   "outputs": [],
   "source": [
    "data1 = pd.read_csv('Data_peaks.csv',sep='\\t').query('expt==\"HE\"')#.query('temp==283')\n",
    "data2 = pd.read_csv('RNaseH_ZQ_DQ_Intensities_manuscript.csv',sep='\\t').query('expt==\"HE\"')"
   ]
  },
  {
   "cell_type": "code",
   "execution_count": 10,
   "metadata": {
    "code_folding": [],
    "collapsed": true
   },
   "outputs": [],
   "source": [
    "def exponential_decay(par, xdata, ydata=None, yerr=None):\n",
    "    \n",
    "    # Parse multiple input parameter\n",
    "    # formats for intensity, rate    \n",
    "    if hasattr(par,'valuesdict'):\n",
    "        # lmfit parameter format\n",
    "        var = par.valuesdict()\n",
    "        inten = var['inten']\n",
    "        rate = var['rate']\n",
    "    elif hasattr(par,'keys'):\n",
    "        # dict format\n",
    "        inten = par['inten']\n",
    "        rate = par['rate']\n",
    "    else:\n",
    "        # array/list/tuple format\n",
    "        inten = par[0]\n",
    "        rate = par[1]\n",
    "\n",
    "    # Calculate the y-data from the parameters\n",
    "    ycalc = inten * np.exp(-1*rate*xdata)\n",
    "    \n",
    "    if ydata is None:\n",
    "        # Calculation only\n",
    "        return ycalc\n",
    "    elif yerr is None:\n",
    "        # Error minimization\n",
    "        return ((ycalc - ydata)**2).sum()\n",
    "    else:\n",
    "        # Error minimization with weights\n",
    "        return ((ycalc - ydata)**2/yerr**2).sum()"
   ]
  },
  {
   "cell_type": "code",
   "execution_count": 11,
   "metadata": {
    "collapsed": false
   },
   "outputs": [],
   "source": [
    "func = exponential_decay\n",
    "\n",
    "# data = data1\n",
    "# groupcols = ['name','part','temp']\n",
    "\n",
    "data = data2\n",
    "groupcols = ['name','part']\n",
    "\n",
    "xname = 'time'\n",
    "yname = 'height'\n",
    "\n",
    "method = 'leastsq'\n",
    "sigma = 0.95\n",
    "threads = 4\n",
    "\n",
    "params = [{'name':'inten', 'value':np.asarray(data.groupby(groupcols)[yname].max()), 'vary':True},\n",
    "          {'name':'rate', 'value':20.0, 'vary':True}]"
   ]
  },
  {
   "cell_type": "code",
   "execution_count": 12,
   "metadata": {
    "collapsed": false,
    "run_control": {
     "marked": false
    },
    "scrolled": true
   },
   "outputs": [
    {
     "name": "stdout",
     "output_type": "stream",
     "text": [
      "try loop\n"
     ]
    }
   ],
   "source": [
    "%autoreload 2\n",
    "import pd_lmfit as analysis\n",
    "\n",
    "zqdq = analysis.pdlmfit(data, func, groupcols, \n",
    "                        params, xname, yname, method='leastsq')\n",
    "\n",
    "zqdq.fit()\n",
    "zqdq.predict()\n",
    "\n",
    "# Normalize intensities\n",
    "zqdq.data['ydata'] = zqdq.data.ydata / zqdq.results.inten\n",
    "zqdq.model['ycalc'] = zqdq.model.ycalc / zqdq.results.inten"
   ]
  },
  {
   "cell_type": "code",
   "execution_count": 66,
   "metadata": {
    "collapsed": true
   },
   "outputs": [],
   "source": [
    "## Attempt at calculating a jacobian\n",
    "\n",
    "def dfunc(par, xs, ys):\n",
    "    \n",
    "    # Parse multiple input parameter\n",
    "    # formats for intensity, rate    \n",
    "    if hasattr(par,'valuesdict'):\n",
    "        # lmfit parameter format\n",
    "        var = par.valuesdict()\n",
    "        inten = var['inten']\n",
    "        rate = var['rate']\n",
    "    elif hasattr(par,'keys'):\n",
    "        # dict format\n",
    "        inten = par['inten']\n",
    "        rate = par['rate']\n",
    "    else:\n",
    "        # array/list/tuple format\n",
    "        inten = par[0]\n",
    "        rate = par[1]\n",
    "        \n",
    "        \n",
    "    v = np.exp(-rate*xs)\n",
    "    return np.array([v, -inten*xs*v, np.ones(len(xs))])\n",
    "    #return -inten*xs*v"
   ]
  },
  {
   "cell_type": "code",
   "execution_count": 68,
   "metadata": {
    "collapsed": false
   },
   "outputs": [
    {
     "data": {
      "text/plain": [
       "  status: 0\n",
       "    nfev: 239\n",
       " success: True\n",
       "     fun: 676238076521.01135\n",
       "       x: array([  2.95362888e+07,   2.74786355e+01])\n",
       " message: 'Optimization terminated successfully.'\n",
       "     nit: 108"
      ]
     },
     "execution_count": 68,
     "metadata": {},
     "output_type": "execute_result"
    }
   ],
   "source": [
    "from scipy.optimize import minimize, fmin, check_grad\n",
    "\n",
    "bdata = zqdq._fit_data.iloc[14]\n",
    "xdata_ = np.asarray(bdata.xdata)\n",
    "ydata_ = np.asarray(bdata.ydata)\n",
    "params_ = bdata.params\n",
    "minimizer_ = bdata.minimizer\n",
    "bresult_ = zqdq.results.iloc[0]\n",
    "\n",
    "\n",
    "p0 = np.array([ydata_.max(), 20.0])\n",
    "\n",
    "minimize(exponential_decay, p0, args=(xdata_, ydata_), method='Nelder-Mead')#, options={\"full_output\":1})\n",
    "#fmin(exponential_decay, p0, args=(xdata_, ydata_), full_output=True)\n",
    "\n",
    "#minimize(exponential_decay, p0, args=(xdata_, ydata_), method='Newton-CG', jac=dfunc)#, options={\"full_output\":1})"
   ]
  }
 ],
 "metadata": {
  "kernelspec": {
   "display_name": "Python 2",
   "language": "python",
   "name": "python2"
  },
  "language_info": {
   "codemirror_mode": {
    "name": "ipython",
    "version": 2
   },
   "file_extension": ".py",
   "mimetype": "text/x-python",
   "name": "python",
   "nbconvert_exporter": "python",
   "pygments_lexer": "ipython2",
   "version": "2.7.11"
  }
 },
 "nbformat": 4,
 "nbformat_minor": 0
}
