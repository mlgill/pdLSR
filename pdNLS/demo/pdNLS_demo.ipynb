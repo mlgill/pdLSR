{
 "cells": [
  {
   "cell_type": "code",
   "execution_count": 1,
   "metadata": {
    "ExecuteTime": {
     "end_time": "2016-07-10T15:32:30.330308",
     "start_time": "2016-07-10T15:32:28.008221"
    },
    "collapsed": false
   },
   "outputs": [],
   "source": [
    "from __future__ import print_function\n",
    "import os\n",
    "import inspect\n",
    "\n",
    "import numpy as np\n",
    "import pandas as pd\n",
    "\n",
    "import matplotlib.pyplot as plt\n",
    "import seaborn as sns\n",
    "\n",
    "sns.set_context('talk')\n",
    "sns.set_palette('dark')\n",
    "sns.set_style('ticks')\n",
    "\n",
    "%matplotlib inline"
   ]
  },
  {
   "cell_type": "code",
   "execution_count": 2,
   "metadata": {
    "ExecuteTime": {
     "end_time": "2016-07-10T15:32:30.384860",
     "start_time": "2016-07-10T15:32:30.332692"
    },
    "collapsed": false
   },
   "outputs": [
    {
     "name": "stdout",
     "output_type": "stream",
     "text": [
      "Module pdNLS was not found in PYTHONPATH. Looking for module in directory '../../pdNLS'\n",
      "Module pdNLS was found in the directory '../../pdNLS' and imported.\n"
     ]
    }
   ],
   "source": [
    "# Import pdNLS\n",
    "try:\n",
    "    # If pdNLS is in PYTHONPATH (or is installed), then use a direct import\n",
    "    import pdNLS\n",
    "    #from pdNLS import exponential_decay\n",
    "    \n",
    "except ImportError:\n",
    "    # Attempt to demo pdNLS without installing by importing from directory\n",
    "    pdNLS_path = '../../pdNLS'\n",
    "    \n",
    "    print(\"Module pdNLS was not found in PYTHONPATH. Looking for module in directory '{:s}'\".format(pdNLS_path))\n",
    "    \n",
    "    if os.path.exists(pdNLS_path):\n",
    "        import imp\n",
    "        pdNLS = imp.load_package('pdNLS', pdNLS_path)\n",
    "        #exponential_decay = imp.load_package('pdNLS.exponential_decay', pdNLS_path)\n",
    "        print(\"Module pdNLS was found in the directory '{:s}' and imported.\".format(pdNLS_path))\n",
    "    else:\n",
    "        raise ImportError(\"Module pdNLS could not be found in the directory '{:s}'.\".format(pdNLS_path) + \\\n",
    "        \"This demonstration will not run until the module is located.\")"
   ]
  },
  {
   "cell_type": "markdown",
   "metadata": {},
   "source": [
    "## Overview\n",
    "\n",
    "`pdNLS` is a library for performing non-linear least squares (NLS) minimization. It attempts to seamlessly incorporate this task in a Pandas-focused workflow. Input data are expected in dataframes, and multiple regressions can be performed using functionality similar to Pandas `groupby`. Results are returned as grouped dataframes and include best-fit parameters, statistics, residuals, and more. The results can be easily visualized using [`seaborn`](https://github.com/mwaskom/seaborn).\n",
    "\n",
    "`pdNLS` is related to libraries such as [`statsmodels`](http://statsmodels.sourceforge.net) and [`scikit-learn`](http://scikit-learn.org/stable/) that provide linear regression functions that operate on dataframes. As I was unable to find any that perform non-linear regression, I developed `pdNLS` to fill this niche. \n",
    "\n",
    "`pdNLS` utilizes [`lmfit`](https://github.com/lmfit/lmfit-py), a flexible and powerful library for non-linear least squares minimization, which in turn, makes use of `scipy.optimize.leastsq`. I began using `lmfit` several years ago because I like the flexibility it offers for testing different modeling scenarios and the variety of assessment statistics it provides. However, I found myself writing many `for` loops to perform regressions on groups of data and aggregate the resulting output.\n",
    "\n",
    "Some additional 'niceties' associated with the input of parameters and equations have also been incorporated. `pdNLS` also utilizes multithreading for the calculation of confidence intervals, as this process is time consuming when there are more than a few groups."
   ]
  },
  {
   "cell_type": "markdown",
   "metadata": {},
   "source": [
    "### Input data\n",
    "\n",
    "This `pdNLS` demonstration utilizes nuclear magnetic resonance (NMR) data acquired at two different magnetic field strengths (14.1 and 21.1 T) on a protein called GCN4. For the purpose of this demonstration, analyzing this data requires determining the rate of exponential decay as a function of time for every amino acid residue at each of two magnetic field strengths. \n",
    "\n",
    "There are 12 amino acids in the enclosed data set, so using amino acid residue (`resi`) and magnetic field (`field`) as the `groupby` columns results in 24 minimization operations."
   ]
  },
  {
   "cell_type": "code",
   "execution_count": 3,
   "metadata": {
    "ExecuteTime": {
     "end_time": "2016-07-10T15:32:30.516090",
     "start_time": "2016-07-10T15:32:30.386991"
    },
    "collapsed": false
   },
   "outputs": [
    {
     "name": "stdout",
     "output_type": "stream",
     "text": [
      "resi\tfield\ttime\tintensity\r\n",
      "45\t14.1\t0.004\t1658.802579\r\n",
      "45\t14.1\t0.008\t1501.046724\r\n",
      "45\t14.1\t0.024\t906.899665\r\n",
      "45\t14.1\t0.064\t394.4461\r\n",
      "45\t14.1\t0.096\t191.478005\r\n",
      "45\t14.1\t0.144\t67.50144\r\n",
      "45\t14.1\t0.208\t9.09046\r\n",
      "45\t14.1\t0.008\t1395.774611\r\n",
      "45\t14.1\t0.024\t916.524377\r\n"
     ]
    }
   ],
   "source": [
    "! head GCN4_twofield.csv"
   ]
  },
  {
   "cell_type": "code",
   "execution_count": 4,
   "metadata": {
    "ExecuteTime": {
     "end_time": "2016-07-10T15:32:30.527368",
     "start_time": "2016-07-10T15:32:30.518649"
    },
    "collapsed": false
   },
   "outputs": [],
   "source": [
    "data = pd.read_csv('GCN4_twofield.csv', sep='\\t')"
   ]
  },
  {
   "cell_type": "markdown",
   "metadata": {},
   "source": [
    "### Dataframe names\n",
    "\n",
    "`pdNLS` uses a dataframe for input as well as a column (or list of columns, called `groupbycols` here) for the `groupby` operation prior to fitting. A string input corresponding to the independent data (`xname`) and dependent data (`yname`) are required. Errors for weighting during fitting (`yerr`, not used here) can also be used."
   ]
  },
  {
   "cell_type": "code",
   "execution_count": 5,
   "metadata": {
    "ExecuteTime": {
     "end_time": "2016-07-10T15:32:31.563982",
     "start_time": "2016-07-10T15:32:31.559126"
    },
    "collapsed": true
   },
   "outputs": [],
   "source": [
    "groupbycols = ['resi', 'field']\n",
    "xname = 'time'\n",
    "yname = 'intensity'\n",
    "yerr = None"
   ]
  },
  {
   "cell_type": "markdown",
   "metadata": {},
   "source": [
    "### Minimization equation\n",
    "\n",
    "The function format required by `pdNLS` is similar that described in the [`lmfit` documentation](http://lmfit.github.io/lmfit-py/fitting.html#writing-a-fitting-function). Generally speaking, all fit parameters must appear first and they must be contained in a single variable or dictionary that is then unpacked inside the function. The independent (x-) data is next and then the dependent (y-) data.\n",
    "\n",
    "`pdNLS` contains a separate function that calculates the regression error, so the input function need only calculate the expected value based on input parameters.\n",
    "\n",
    "Common equations are provided in the `function` module. Currently, an exponential decay and a linear function are provided.\n",
    "\n",
    "This demo will be using the exponential decay function, whose parameters are:  \n",
    "\n",
    "$I_{(t)} = I_{(0)} \\space e^{(-R * t)}$  \n",
    "\n",
    "where $I_{(0)}$ is the initial intensity, $I_{(t)}$ is the intensity at time $t$, and $R$ is the exponential decay  rate. \n",
    "\n",
    "Here is what the exponential decay function looks like:  "
   ]
  },
  {
   "cell_type": "code",
   "execution_count": 6,
   "metadata": {
    "ExecuteTime": {
     "end_time": "2016-07-10T15:32:32.088618",
     "start_time": "2016-07-10T15:32:32.080205"
    },
    "collapsed": false
   },
   "outputs": [
    {
     "name": "stdout",
     "output_type": "stream",
     "text": [
      "def exponential_decay(par, xdata):\n",
      "    \n",
      "    # Parse multiple input parameter\n",
      "    # formats for intensity, rate    \n",
      "    if hasattr(par,'valuesdict'):\n",
      "        # lmfit parameter format\n",
      "        var = par.valuesdict()\n",
      "        inten = var['inten']\n",
      "        rate = var['rate']\n",
      "    elif hasattr(par,'keys'):\n",
      "        # dict format\n",
      "        inten = par['inten']\n",
      "        rate = par['rate']\n",
      "    else:\n",
      "        # array/list/tuple format\n",
      "        inten = par[0]\n",
      "        rate = par[1]\n",
      "\n",
      "    # Calculate the y-data from the parameters\n",
      "    return inten * np.exp(-1*rate*xdata)\n",
      "\n"
     ]
    }
   ],
   "source": [
    "exponential_decay = pdNLS.functions.exponential_decay\n",
    "print(inspect.getsource(exponential_decay))"
   ]
  },
  {
   "cell_type": "markdown",
   "metadata": {},
   "source": [
    "### Parameters\n",
    "\n",
    "Parameters are usually input as a dictionary, although dataframe input will soon be an option. The list of parameters must be the same as the order in which they are unpacked by the minimization function. The keys for each parameter follows the format used by [`lmfit`](). \n",
    "\n",
    "Parameter starting values can be a single value or a list. If a single value is entered, it is used for each measurement. If a list or array is entered (see the intensity values below), it must be the same length as the number of groups."
   ]
  },
  {
   "cell_type": "code",
   "execution_count": 7,
   "metadata": {
    "ExecuteTime": {
     "end_time": "2016-07-10T15:32:32.914201",
     "start_time": "2016-07-10T15:32:32.903910"
    },
    "collapsed": false
   },
   "outputs": [],
   "source": [
    "params = [{'name':'inten', \n",
    "           'value':np.asarray(data.groupby(groupbycols)[yname].max()), \n",
    "           'vary':True},\n",
    "          {'name':'rate', \n",
    "           'value':20.0, \n",
    "           'vary':True}]"
   ]
  },
  {
   "cell_type": "markdown",
   "metadata": {},
   "source": [
    "### Other inputs\n",
    "\n",
    "The confidence interval(s) (`sigma`) to be calculated can be entered as a single value or a list. The default is 95% (0.95). The number of threads (`threads`) to use for confidence interval calculation will be automatically calculated if not explicitly set.\n",
    "\n",
    "The only minimization method (`method`) currently supported is Levenberg-Marquardt ('leastsq'). Other methods will be added in the future. "
   ]
  },
  {
   "cell_type": "code",
   "execution_count": 8,
   "metadata": {
    "ExecuteTime": {
     "end_time": "2016-07-10T15:32:33.396280",
     "start_time": "2016-07-10T15:32:33.391973"
    },
    "collapsed": true
   },
   "outputs": [],
   "source": [
    "sigma = 0.95\n",
    "threads = None\n",
    "method = 'leastsq'"
   ]
  },
  {
   "cell_type": "markdown",
   "metadata": {},
   "source": [
    "## Regression and prediction\n",
    "\n",
    "Performing the regression is quite simple--just call the class `pdNLS` with input parameters set and then use the `fit` method."
   ]
  },
  {
   "cell_type": "code",
   "execution_count": 11,
   "metadata": {
    "ExecuteTime": {
     "end_time": "2016-07-10T15:32:40.470408",
     "start_time": "2016-07-10T15:32:38.158259"
    },
    "collapsed": false
   },
   "outputs": [],
   "source": [
    "fit_data = pdNLS.pdNLS(data, exponential_decay, \n",
    "                       groupbycols, params, \n",
    "                       xname, yname, \n",
    "                       method=method, sigma=sigma,\n",
    "                       threads=threads)\n",
    "fit_data.fit()"
   ]
  },
  {
   "cell_type": "markdown",
   "metadata": {},
   "source": [
    "A best-fit line can be calculated using the `predict` method.\n",
    "\n",
    "# TODO update when I fix the bug in the predict method"
   ]
  },
  {
   "cell_type": "code",
   "execution_count": 12,
   "metadata": {
    "ExecuteTime": {
     "end_time": "2016-07-10T15:32:40.478742",
     "start_time": "2016-07-10T15:32:40.473447"
    },
    "collapsed": true
   },
   "outputs": [],
   "source": [
    "# fit_data.predict()"
   ]
  },
  {
   "cell_type": "markdown",
   "metadata": {},
   "source": [
    "## Results\n",
    "\n",
    "`pdNLS` creates four output tables:\n",
    "\n",
    "* **data** for the input data, calculated data, and residuals\n",
    "* **results** that contains the best-fit parameters and estimation of their error\n",
    "* **stats** for statistics related to the regression, such as chi-squared and AIC\n",
    "* **model** that contains a best-fit line created by the `predict` method\n",
    "\n",
    "Here is part of the **results** table for a single residue and magnetic field:\n",
    "\n",
    "# TODO the ycalc and residuals will be added when `predict` is fixed"
   ]
  },
  {
   "cell_type": "code",
   "execution_count": 13,
   "metadata": {
    "ExecuteTime": {
     "end_time": "2016-07-10T15:32:41.332743",
     "start_time": "2016-07-10T15:32:41.290283"
    },
    "collapsed": false
   },
   "outputs": [
    {
     "data": {
      "text/html": [
       "<div>\n",
       "<table border=\"1\" class=\"dataframe\">\n",
       "  <thead>\n",
       "    <tr style=\"text-align: right;\">\n",
       "      <th></th>\n",
       "      <th></th>\n",
       "      <th>time</th>\n",
       "      <th>intensity</th>\n",
       "    </tr>\n",
       "    <tr>\n",
       "      <th>resi</th>\n",
       "      <th>field</th>\n",
       "      <th></th>\n",
       "      <th></th>\n",
       "    </tr>\n",
       "  </thead>\n",
       "  <tbody>\n",
       "    <tr>\n",
       "      <th rowspan=\"10\" valign=\"top\">50</th>\n",
       "      <th>21.1</th>\n",
       "      <td>0.004</td>\n",
       "      <td>80948.796875</td>\n",
       "    </tr>\n",
       "    <tr>\n",
       "      <th>21.1</th>\n",
       "      <td>0.008</td>\n",
       "      <td>74540.789062</td>\n",
       "    </tr>\n",
       "    <tr>\n",
       "      <th>21.1</th>\n",
       "      <td>0.024</td>\n",
       "      <td>45719.656250</td>\n",
       "    </tr>\n",
       "    <tr>\n",
       "      <th>21.1</th>\n",
       "      <td>0.064</td>\n",
       "      <td>14726.121094</td>\n",
       "    </tr>\n",
       "    <tr>\n",
       "      <th>21.1</th>\n",
       "      <td>0.096</td>\n",
       "      <td>5402.313477</td>\n",
       "    </tr>\n",
       "    <tr>\n",
       "      <th>21.1</th>\n",
       "      <td>0.144</td>\n",
       "      <td>1058.865113</td>\n",
       "    </tr>\n",
       "    <tr>\n",
       "      <th>21.1</th>\n",
       "      <td>0.208</td>\n",
       "      <td>134.102539</td>\n",
       "    </tr>\n",
       "    <tr>\n",
       "      <th>21.1</th>\n",
       "      <td>0.096</td>\n",
       "      <td>6227.864746</td>\n",
       "    </tr>\n",
       "    <tr>\n",
       "      <th>21.1</th>\n",
       "      <td>0.004</td>\n",
       "      <td>80948.796875</td>\n",
       "    </tr>\n",
       "    <tr>\n",
       "      <th>21.1</th>\n",
       "      <td>0.008</td>\n",
       "      <td>74540.789062</td>\n",
       "    </tr>\n",
       "  </tbody>\n",
       "</table>\n",
       "</div>"
      ],
      "text/plain": [
       "             time     intensity\n",
       "resi field                     \n",
       "50   21.1   0.004  80948.796875\n",
       "     21.1   0.008  74540.789062\n",
       "     21.1   0.024  45719.656250\n",
       "     21.1   0.064  14726.121094\n",
       "     21.1   0.096   5402.313477\n",
       "     21.1   0.144   1058.865113\n",
       "     21.1   0.208    134.102539\n",
       "     21.1   0.096   6227.864746\n",
       "     21.1   0.004  80948.796875\n",
       "     21.1   0.008  74540.789062"
      ]
     },
     "execution_count": 13,
     "metadata": {},
     "output_type": "execute_result"
    }
   ],
   "source": [
    "resi = 50\n",
    "field = 21.1\n",
    "\n",
    "fit_data.data.loc[(resi, field)].head(n=10)"
   ]
  },
  {
   "cell_type": "markdown",
   "metadata": {},
   "source": [
    "The **results** table contains best-fit parameters, their standard errors, and confidence intervals."
   ]
  },
  {
   "cell_type": "code",
   "execution_count": 14,
   "metadata": {
    "ExecuteTime": {
     "end_time": "2016-07-10T15:32:42.452524",
     "start_time": "2016-07-10T15:32:42.402959"
    },
    "collapsed": false
   },
   "outputs": [
    {
     "data": {
      "text/html": [
       "<div>\n",
       "<table border=\"1\" class=\"dataframe\">\n",
       "  <thead>\n",
       "    <tr>\n",
       "      <th></th>\n",
       "      <th></th>\n",
       "      <th colspan=\"3\" halign=\"left\">inten</th>\n",
       "      <th colspan=\"3\" halign=\"left\">rate</th>\n",
       "    </tr>\n",
       "    <tr>\n",
       "      <th></th>\n",
       "      <th></th>\n",
       "      <th>value</th>\n",
       "      <th>stderr</th>\n",
       "      <th>ci0.95</th>\n",
       "      <th>value</th>\n",
       "      <th>stderr</th>\n",
       "      <th>ci0.95</th>\n",
       "    </tr>\n",
       "    <tr>\n",
       "      <th>resi</th>\n",
       "      <th>field</th>\n",
       "      <th></th>\n",
       "      <th></th>\n",
       "      <th></th>\n",
       "      <th></th>\n",
       "      <th></th>\n",
       "      <th></th>\n",
       "    </tr>\n",
       "  </thead>\n",
       "  <tbody>\n",
       "    <tr>\n",
       "      <th rowspan=\"2\" valign=\"top\">45</th>\n",
       "      <th>14.1</th>\n",
       "      <td>1783.891191</td>\n",
       "      <td>12.690847</td>\n",
       "      <td>21.068879</td>\n",
       "      <td>25.841788</td>\n",
       "      <td>0.465950</td>\n",
       "      <td>0.817330</td>\n",
       "    </tr>\n",
       "    <tr>\n",
       "      <th>21.1</th>\n",
       "      <td>68538.086731</td>\n",
       "      <td>268.801272</td>\n",
       "      <td>455.113305</td>\n",
       "      <td>30.410723</td>\n",
       "      <td>0.338404</td>\n",
       "      <td>0.591676</td>\n",
       "    </tr>\n",
       "    <tr>\n",
       "      <th rowspan=\"2\" valign=\"top\">46</th>\n",
       "      <th>14.1</th>\n",
       "      <td>1761.440245</td>\n",
       "      <td>7.910889</td>\n",
       "      <td>13.303730</td>\n",
       "      <td>22.756338</td>\n",
       "      <td>0.301781</td>\n",
       "      <td>0.551903</td>\n",
       "    </tr>\n",
       "    <tr>\n",
       "      <th>21.1</th>\n",
       "      <td>78362.833366</td>\n",
       "      <td>228.132474</td>\n",
       "      <td>421.656856</td>\n",
       "      <td>29.889360</td>\n",
       "      <td>0.325039</td>\n",
       "      <td>0.745799</td>\n",
       "    </tr>\n",
       "    <tr>\n",
       "      <th rowspan=\"2\" valign=\"top\">47</th>\n",
       "      <th>14.1</th>\n",
       "      <td>3148.589440</td>\n",
       "      <td>9.954853</td>\n",
       "      <td>16.715550</td>\n",
       "      <td>23.317557</td>\n",
       "      <td>0.263927</td>\n",
       "      <td>0.464269</td>\n",
       "    </tr>\n",
       "    <tr>\n",
       "      <th>21.1</th>\n",
       "      <td>127657.522639</td>\n",
       "      <td>438.949013</td>\n",
       "      <td>804.721305</td>\n",
       "      <td>30.642055</td>\n",
       "      <td>0.378902</td>\n",
       "      <td>0.863256</td>\n",
       "    </tr>\n",
       "    <tr>\n",
       "      <th rowspan=\"2\" valign=\"top\">48</th>\n",
       "      <th>14.1</th>\n",
       "      <td>1556.181207</td>\n",
       "      <td>4.647944</td>\n",
       "      <td>7.781289</td>\n",
       "      <td>23.882666</td>\n",
       "      <td>0.191555</td>\n",
       "      <td>0.327565</td>\n",
       "    </tr>\n",
       "    <tr>\n",
       "      <th>21.1</th>\n",
       "      <td>65935.997539</td>\n",
       "      <td>1912.465747</td>\n",
       "      <td>1909.264571</td>\n",
       "      <td>31.388412</td>\n",
       "      <td>0.963340</td>\n",
       "      <td>1.486918</td>\n",
       "    </tr>\n",
       "  </tbody>\n",
       "</table>\n",
       "</div>"
      ],
      "text/plain": [
       "                    inten                                 rate            \\\n",
       "                    value       stderr       ci0.95      value    stderr   \n",
       "resi field                                                                 \n",
       "45   14.1     1783.891191    12.690847    21.068879  25.841788  0.465950   \n",
       "     21.1    68538.086731   268.801272   455.113305  30.410723  0.338404   \n",
       "46   14.1     1761.440245     7.910889    13.303730  22.756338  0.301781   \n",
       "     21.1    78362.833366   228.132474   421.656856  29.889360  0.325039   \n",
       "47   14.1     3148.589440     9.954853    16.715550  23.317557  0.263927   \n",
       "     21.1   127657.522639   438.949013   804.721305  30.642055  0.378902   \n",
       "48   14.1     1556.181207     4.647944     7.781289  23.882666  0.191555   \n",
       "     21.1    65935.997539  1912.465747  1909.264571  31.388412  0.963340   \n",
       "\n",
       "                      \n",
       "              ci0.95  \n",
       "resi field            \n",
       "45   14.1   0.817330  \n",
       "     21.1   0.591676  \n",
       "46   14.1   0.551903  \n",
       "     21.1   0.745799  \n",
       "47   14.1   0.464269  \n",
       "     21.1   0.863256  \n",
       "48   14.1   0.327565  \n",
       "     21.1   1.486918  "
      ]
     },
     "execution_count": 14,
     "metadata": {},
     "output_type": "execute_result"
    }
   ],
   "source": [
    "fit_data.results.head(n=8)"
   ]
  },
  {
   "cell_type": "markdown",
   "metadata": {},
   "source": [
    "The **stats** table contains statistics for each of the regressions:\n",
    "\n",
    "* Number of observations (`nobs`)\n",
    "* Number of fit parameters (`npar`)\n",
    "* Degrees of freedom (`dof`)\n",
    "* Chi-squared (`chisqr`)\n",
    "* Reduced chi-squared (`redchi`)\n",
    "* Akaike information criterion (`aic`)\n",
    "* Bayesian information criterion (`bic`)\n",
    "* Covariance matrix (`covar`)"
   ]
  },
  {
   "cell_type": "code",
   "execution_count": 15,
   "metadata": {
    "ExecuteTime": {
     "end_time": "2016-07-10T15:32:43.643053",
     "start_time": "2016-07-10T15:32:43.587227"
    },
    "collapsed": false,
    "scrolled": false
   },
   "outputs": [
    {
     "data": {
      "text/html": [
       "<div>\n",
       "<table border=\"1\" class=\"dataframe\">\n",
       "  <thead>\n",
       "    <tr style=\"text-align: right;\">\n",
       "      <th></th>\n",
       "      <th></th>\n",
       "      <th>nobs</th>\n",
       "      <th>npar</th>\n",
       "      <th>dof</th>\n",
       "      <th>chisqr</th>\n",
       "      <th>redchi</th>\n",
       "      <th>aic</th>\n",
       "      <th>bic</th>\n",
       "      <th>covar</th>\n",
       "    </tr>\n",
       "    <tr>\n",
       "      <th>resi</th>\n",
       "      <th>field</th>\n",
       "      <th></th>\n",
       "      <th></th>\n",
       "      <th></th>\n",
       "      <th></th>\n",
       "      <th></th>\n",
       "      <th></th>\n",
       "      <th></th>\n",
       "      <th></th>\n",
       "    </tr>\n",
       "  </thead>\n",
       "  <tbody>\n",
       "    <tr>\n",
       "      <th rowspan=\"2\" valign=\"top\">45</th>\n",
       "      <th>14.1</th>\n",
       "      <td>22</td>\n",
       "      <td>2</td>\n",
       "      <td>20</td>\n",
       "      <td>8.952754e+07</td>\n",
       "      <td>4.476377e+06</td>\n",
       "      <td>340.915141</td>\n",
       "      <td>343.097226</td>\n",
       "      <td>[[161.057606926, 4.24928458845], [4.2492845884...</td>\n",
       "    </tr>\n",
       "    <tr>\n",
       "      <th>21.1</th>\n",
       "      <td>16</td>\n",
       "      <td>2</td>\n",
       "      <td>14</td>\n",
       "      <td>6.787742e+12</td>\n",
       "      <td>4.848387e+11</td>\n",
       "      <td>434.513314</td>\n",
       "      <td>436.058491</td>\n",
       "      <td>[[72254.1239277, 62.7516059871], [62.751605987...</td>\n",
       "    </tr>\n",
       "    <tr>\n",
       "      <th rowspan=\"2\" valign=\"top\">46</th>\n",
       "      <th>14.1</th>\n",
       "      <td>22</td>\n",
       "      <td>2</td>\n",
       "      <td>20</td>\n",
       "      <td>1.791291e+07</td>\n",
       "      <td>8.956455e+05</td>\n",
       "      <td>305.516600</td>\n",
       "      <td>307.698685</td>\n",
       "      <td>[[62.5821690096, 1.55741224293], [1.5574122429...</td>\n",
       "    </tr>\n",
       "    <tr>\n",
       "      <th>21.1</th>\n",
       "      <td>16</td>\n",
       "      <td>2</td>\n",
       "      <td>14</td>\n",
       "      <td>2.519700e+12</td>\n",
       "      <td>1.799786e+11</td>\n",
       "      <td>418.657659</td>\n",
       "      <td>420.202837</td>\n",
       "      <td>[[52044.4258623, 57.0808005993], [57.080800599...</td>\n",
       "    </tr>\n",
       "    <tr>\n",
       "      <th rowspan=\"2\" valign=\"top\">47</th>\n",
       "      <th>14.1</th>\n",
       "      <td>22</td>\n",
       "      <td>2</td>\n",
       "      <td>20</td>\n",
       "      <td>3.399283e+07</td>\n",
       "      <td>1.699642e+06</td>\n",
       "      <td>319.610417</td>\n",
       "      <td>321.792502</td>\n",
       "      <td>[[99.0991013849, 1.95159517576], [1.9515951757...</td>\n",
       "    </tr>\n",
       "    <tr>\n",
       "      <th>21.1</th>\n",
       "      <td>16</td>\n",
       "      <td>2</td>\n",
       "      <td>14</td>\n",
       "      <td>3.672145e+13</td>\n",
       "      <td>2.622961e+12</td>\n",
       "      <td>461.525197</td>\n",
       "      <td>463.070374</td>\n",
       "      <td>[[192676.236024, 127.30158617], [127.30158617,...</td>\n",
       "    </tr>\n",
       "    <tr>\n",
       "      <th rowspan=\"2\" valign=\"top\">48</th>\n",
       "      <th>14.1</th>\n",
       "      <td>22</td>\n",
       "      <td>2</td>\n",
       "      <td>20</td>\n",
       "      <td>1.859047e+06</td>\n",
       "      <td>9.295233e+04</td>\n",
       "      <td>255.676524</td>\n",
       "      <td>257.858609</td>\n",
       "      <td>[[21.6033798206, 0.610250986648], [0.610250986...</td>\n",
       "    </tr>\n",
       "    <tr>\n",
       "      <th>21.1</th>\n",
       "      <td>16</td>\n",
       "      <td>2</td>\n",
       "      <td>14</td>\n",
       "      <td>1.829944e+14</td>\n",
       "      <td>1.307103e+13</td>\n",
       "      <td>487.222712</td>\n",
       "      <td>488.767890</td>\n",
       "      <td>[[3657525.23419, 977.119011032], [977.11901103...</td>\n",
       "    </tr>\n",
       "  </tbody>\n",
       "</table>\n",
       "</div>"
      ],
      "text/plain": [
       "            nobs  npar  dof        chisqr        redchi         aic  \\\n",
       "resi field                                                            \n",
       "45   14.1     22     2   20  8.952754e+07  4.476377e+06  340.915141   \n",
       "     21.1     16     2   14  6.787742e+12  4.848387e+11  434.513314   \n",
       "46   14.1     22     2   20  1.791291e+07  8.956455e+05  305.516600   \n",
       "     21.1     16     2   14  2.519700e+12  1.799786e+11  418.657659   \n",
       "47   14.1     22     2   20  3.399283e+07  1.699642e+06  319.610417   \n",
       "     21.1     16     2   14  3.672145e+13  2.622961e+12  461.525197   \n",
       "48   14.1     22     2   20  1.859047e+06  9.295233e+04  255.676524   \n",
       "     21.1     16     2   14  1.829944e+14  1.307103e+13  487.222712   \n",
       "\n",
       "                   bic                                              covar  \n",
       "resi field                                                                 \n",
       "45   14.1   343.097226  [[161.057606926, 4.24928458845], [4.2492845884...  \n",
       "     21.1   436.058491  [[72254.1239277, 62.7516059871], [62.751605987...  \n",
       "46   14.1   307.698685  [[62.5821690096, 1.55741224293], [1.5574122429...  \n",
       "     21.1   420.202837  [[52044.4258623, 57.0808005993], [57.080800599...  \n",
       "47   14.1   321.792502  [[99.0991013849, 1.95159517576], [1.9515951757...  \n",
       "     21.1   463.070374  [[192676.236024, 127.30158617], [127.30158617,...  \n",
       "48   14.1   257.858609  [[21.6033798206, 0.610250986648], [0.610250986...  \n",
       "     21.1   488.767890  [[3657525.23419, 977.119011032], [977.11901103...  "
      ]
     },
     "execution_count": 15,
     "metadata": {},
     "output_type": "execute_result"
    }
   ],
   "source": [
    "fit_data.stats.head(n=8)"
   ]
  },
  {
   "cell_type": "markdown",
   "metadata": {},
   "source": [
    "It is also easy to access a single covariance matrix for calculations."
   ]
  },
  {
   "cell_type": "code",
   "execution_count": 16,
   "metadata": {
    "ExecuteTime": {
     "end_time": "2016-07-10T15:32:44.617694",
     "start_time": "2016-07-10T15:32:44.609305"
    },
    "collapsed": false
   },
   "outputs": [
    {
     "data": {
      "text/plain": [
       "array([[  1.02352178e+05,   9.38106292e+01],\n",
       "       [  9.38106292e+01,   1.39042861e-01]])"
      ]
     },
     "execution_count": 16,
     "metadata": {},
     "output_type": "execute_result"
    }
   ],
   "source": [
    "fit_data.stats.covar.loc[(resi, field)]"
   ]
  },
  {
   "cell_type": "markdown",
   "metadata": {},
   "source": [
    "## Visualization\n",
    "\n",
    "The results are easy to visualize in facet plots with Seaborn. The facet plots will be easier to see if the intensities are normalized first."
   ]
  },
  {
   "cell_type": "code",
   "execution_count": 17,
   "metadata": {
    "ExecuteTime": {
     "end_time": "2016-07-10T15:32:46.186705",
     "start_time": "2016-07-10T15:32:46.177653"
    },
    "collapsed": false
   },
   "outputs": [],
   "source": [
    "fit_itensities = (fit_data.results\n",
    "                  .loc[:,('inten','value')]\n",
    "                  .to_frame()\n",
    "                  )\n",
    "\n",
    "fit_itensities.columns=['inten_fit']"
   ]
  },
  {
   "cell_type": "code",
   "execution_count": 18,
   "metadata": {
    "ExecuteTime": {
     "end_time": "2016-07-10T15:32:46.815439",
     "start_time": "2016-07-10T15:32:46.802480"
    },
    "collapsed": false
   },
   "outputs": [],
   "source": [
    "fit_data.data = pd.merge(fit_data.data,\n",
    "                         fit_itensities,\n",
    "                         left_index=True,\n",
    "                         right_index=True,\n",
    "                         how='left'\n",
    "                        )\n",
    "\n",
    "fit_data.data['intensity'] /= fit_data.data.inten_fit\n",
    "#fit_data.data['ycalc'] /= fit_data.data.inten_fit"
   ]
  },
  {
   "cell_type": "markdown",
   "metadata": {},
   "source": [
    "# TODO best-fit lines will be added when `predict` method is fixed."
   ]
  },
  {
   "cell_type": "code",
   "execution_count": 19,
   "metadata": {
    "ExecuteTime": {
     "end_time": "2016-07-10T15:32:51.002731",
     "start_time": "2016-07-10T15:32:48.647647"
    },
    "collapsed": false
   },
   "outputs": [
    {
     "data": {
      "image/png": "[encoded data removed]",
      "text/plain": [
       "<matplotlib.figure.Figure at 0x11a0e06d0>"
      ]
     },
     "metadata": {},
     "output_type": "display_data"
    }
   ],
   "source": [
    "plot_data = fit_data.data.reset_index()\n",
    "\n",
    "grid = sns.FacetGrid(plot_data, col='resi', hue='field', #palette=palette,\n",
    "                     col_wrap=4, size=2.0, aspect=0.75, \n",
    "                     sharey=True, despine=True)\n",
    "\n",
    "# grid.map(plt.plot, 'time', 'ycalc', marker='', ls='-')\n",
    "grid.map(plt.plot, 'time', 'intensity', marker='o', ms=5, ls='')\n",
    "\n",
    "grid.set(xticks=np.linspace(0.05, 0.25, 5),\n",
    "         ylim=(-0.1, 1.05))\n",
    "\n",
    "f = plt.gcf()\n",
    "f.set_size_inches(12,8)\n",
    "f.subplots_adjust(wspace=0.2, hspace=0.25)"
   ]
  }
 ],
 "metadata": {
  "kernelspec": {
   "display_name": "Python 2",
   "language": "python",
   "name": "python2"
  },
  "language_info": {
   "codemirror_mode": {
    "name": "ipython",
    "version": 2
   },
   "file_extension": ".py",
   "mimetype": "text/x-python",
   "name": "python",
   "nbconvert_exporter": "python",
   "pygments_lexer": "ipython2",
   "version": "2.7.12"
  }
 },
 "nbformat": 4,
 "nbformat_minor": 0
}
