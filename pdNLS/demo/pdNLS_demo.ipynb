{
 "cells": [
  {
   "cell_type": "code",
   "execution_count": 89,
   "metadata": {
    "ExecuteTime": {
     "end_time": "2016-07-10T10:44:52.196795",
     "start_time": "2016-07-10T10:44:52.180901"
    },
    "collapsed": false
   },
   "outputs": [],
   "source": [
    "from __future__ import print_function\n",
    "import os\n",
    "import inspect\n",
    "\n",
    "import numpy as np\n",
    "import pandas as pd\n",
    "\n",
    "import matplotlib.pyplot as plt\n",
    "import seaborn as sns\n",
    "\n",
    "sns.set_context('talk') #, font_scale=1.0, rc={\"lines.linewidth\": 1.0})\n",
    "sns.set_palette('dark')\n",
    "#sns.set_style(\"whitegrid\",{'axes.edgecolor':'black'})\n",
    "\n",
    "%matplotlib inline"
   ]
  },
  {
   "cell_type": "code",
   "execution_count": 103,
   "metadata": {
    "ExecuteTime": {
     "end_time": "2016-07-10T11:12:38.795149",
     "start_time": "2016-07-10T11:12:38.748204"
    },
    "collapsed": false
   },
   "outputs": [
    {
     "name": "stdout",
     "output_type": "stream",
     "text": [
      "Module pdNLS was not found in PYTHONPATH. Looking for module in directory '../../pdNLS'\n"
     ]
    },
    {
     "ename": "ImportError",
     "evalue": "Module pdNLS could not be found in the directory '../../pdNLS'.This demonstration will not run until the module is located.",
     "output_type": "error",
     "traceback": [
      "\u001b[0;31m---------------------------------------------------------------------------\u001b[0m",
      "\u001b[0;31mImportError\u001b[0m                               Traceback (most recent call last)",
      "\u001b[0;32m<ipython-input-103-d37ddc0e4bdc>\u001b[0m in \u001b[0;36m<module>\u001b[0;34m()\u001b[0m\n\u001b[1;32m     16\u001b[0m         \u001b[0;32mprint\u001b[0m\u001b[0;34m(\u001b[0m\u001b[0;34m\"Module pdNLS was found in the directory '{:s}' and imported.\"\u001b[0m\u001b[0;34m.\u001b[0m\u001b[0mformat\u001b[0m\u001b[0;34m(\u001b[0m\u001b[0mpdNLS_path\u001b[0m\u001b[0;34m)\u001b[0m\u001b[0;34m)\u001b[0m\u001b[0;34m\u001b[0m\u001b[0m\n\u001b[1;32m     17\u001b[0m     \u001b[0;32melse\u001b[0m\u001b[0;34m:\u001b[0m\u001b[0;34m\u001b[0m\u001b[0m\n\u001b[0;32m---> 18\u001b[0;31m         \u001b[0;32mraise\u001b[0m \u001b[0mImportError\u001b[0m\u001b[0;34m(\u001b[0m\u001b[0;34m\"Module pdNLS could not be found in the directory '{:s}'.\"\u001b[0m\u001b[0;34m.\u001b[0m\u001b[0mformat\u001b[0m\u001b[0;34m(\u001b[0m\u001b[0mpdNLS_path\u001b[0m\u001b[0;34m)\u001b[0m \u001b[0;34m+\u001b[0m         \u001b[0;34m\"This demonstration will not run until the module is located.\"\u001b[0m\u001b[0;34m)\u001b[0m\u001b[0;34m\u001b[0m\u001b[0m\n\u001b[0m",
      "\u001b[0;31mImportError\u001b[0m: Module pdNLS could not be found in the directory '../../pdNLS'.This demonstration will not run until the module is located."
     ]
    }
   ],
   "source": [
    "# Import pdNLS\n",
    "\n",
    "try:\n",
    "    # If pdNLS is in PYTHONPATH (or is installed), then use a direct import\n",
    "    import pdNLS\n",
    "    \n",
    "except ImportError:\n",
    "    # Attempt to demo pdNLS without installing by importing from directory\n",
    "    pdNLS_path = '../../pdNLS'\n",
    "    \n",
    "    print(\"Module pdNLS was not found in PYTHONPATH. Looking for module in directory '{:s}'\".format(pdNLS_path))\n",
    "    \n",
    "    if os.path.exists(pdNLS_path):\n",
    "        import imp\n",
    "        pdlmfit = imp.load_package('pdNLS', pdNLS_path)\n",
    "        print(\"Module pdNLS was found in the directory '{:s}' and imported.\".format(pdNLS_path))\n",
    "    else:\n",
    "        raise ImportError(\"Module pdNLS could not be found in the directory '{:s}'.\".format(pdNLS_path) + \\\n",
    "        \"This demonstration will not run until the module is located.\")"
   ]
  },
  {
   "cell_type": "markdown",
   "metadata": {},
   "source": [
    "## Overview\n",
    "\n",
    "`pdNLS` is a library for performing non-linear least squares (NLS) minimization. It attempts to seamlessly incorporate this task in a Pandas-focused workflow. Input data are expected in dataframe format, and multiple regressions can be performed using functionality similar to Pandas `groupby`. Results are returned as grouped dataframes and include best-fit parameters, statistics, residuals, and more. The results can be easily visualized using [`seaborn`](https://github.com/mwaskom/seaborn).\n",
    "\n",
    "`pdNLS` is related to libraries such as [`statsmodels`](http://statsmodels.sourceforge.net) and [`scikit-learn`](http://scikit-learn.org/stable/) that provide linear regression functions that operate on dataframes. However, I was unable to find any that perform non-linear regression. I developed `pdNLS` to fill this niche. \n",
    "\n",
    "`pdNLS` utilizes [`lmfit`](https://github.com/lmfit/lmfit-py), a flexible and powerful library for non-linear least squares minimization, which in turn, makes use of `scipy.optimize.leastsq`. I began using `lmfit` several years ago because I like the flexibility it offers for testing different modeling scenarios and the variety of assessment statistics it provides. However, I found myself writing many `for` loops to perform regressions on groups of data and aggregate the resulting output.\n",
    "\n",
    "Some additional 'niceties' associated with the input of parameters and equations have also been incorporated. `pdNLS` also utilizes multithreading for the calculation of confidence intervals, as this process is time consuming when there are more than a few groups."
   ]
  },
  {
   "cell_type": "markdown",
   "metadata": {},
   "source": [
    "## Setup\n",
    "\n",
    "### Dependencies\n",
    "\n",
    "* numpy\n",
    "* pandas\n",
    "\n",
    "\n",
    "My stuff  \n",
    "* lmfit\n",
    "* multiprocess  \n",
    "can install using conda or pip\n",
    "\n",
    "plotting\n",
    "* matplotlib\n",
    "* seaborn\n",
    "\n",
    "### Demo\n",
    "\n",
    "on binder, with notebooks"
   ]
  },
  {
   "cell_type": "markdown",
   "metadata": {},
   "source": [
    "### Data\n",
    "\n",
    "Following is a demonstration of pdlmfit using nuclear magnetic resonance (NMR) data that I acquired at four different magnetic field strengths (14.1, 16.5, 18.8, and 21.1 T) on a protein called GCN4. There are data at each field strength for 54 amino acids, making a total of 216 regressions that are performed by pdlmfit."
   ]
  },
  {
   "cell_type": "code",
   "execution_count": 6,
   "metadata": {
    "ExecuteTime": {
     "end_time": "2016-07-10T10:08:42.054006",
     "start_time": "2016-07-10T10:08:41.924333"
    },
    "collapsed": false
   },
   "outputs": [
    {
     "name": "stdout",
     "output_type": "stream",
     "text": [
      "resi\tfield\ttime\tintensity\r\n",
      "5\t14.1\t0.004\t15615.70107\r\n",
      "5\t14.1\t0.008\t15647.389419\r\n",
      "5\t14.1\t0.024\t13730.034692\r\n",
      "5\t14.1\t0.064\t11014.702949\r\n",
      "5\t14.1\t0.096\t9902.33449\r\n",
      "5\t14.1\t0.144\t8015.479907\r\n",
      "5\t14.1\t0.208\t6081.721596\r\n",
      "5\t14.1\t0.008\t13954.001156\r\n",
      "5\t14.1\t0.024\t12811.896502\r\n"
     ]
    }
   ],
   "source": [
    "data_file = 'GCN4_fourfield_R2.tsv'\n",
    "! head {data_file}"
   ]
  },
  {
   "cell_type": "code",
   "execution_count": 7,
   "metadata": {
    "ExecuteTime": {
     "end_time": "2016-07-10T10:08:42.605990",
     "start_time": "2016-07-10T10:08:42.591663"
    },
    "collapsed": false
   },
   "outputs": [],
   "source": [
    "data = pd.read_csv(data_file, sep='\\t')\n",
    "#data = data.loc[(data.resi<=10)&(data.field<17.0)].reset_index(drop=True)"
   ]
  },
  {
   "cell_type": "markdown",
   "metadata": {},
   "source": [
    "### Equation\n",
    "\n",
    "Unpacking parameters--link to lmfit documentation\n",
    "\n",
    "Some equations are provided.\n",
    "\n",
    "The parameters of an exponential decay function will be fit to the data:  \n",
    "\n",
    "$I_{(t)} = I_{(0)} \\space e^{(-R_2 * t)}$  \n",
    "\n",
    "where $I_{(0)}$ is the initial intensity, $I_{(t)}$ is the intensity at time $t$, and $R_2$ is the transverse relaxation rate. \n",
    "\n",
    "The regression requires the data, a list of columns to group the data by (`resi` and `field`), the names of the dataframe columns containing the independent and dependent variables (`time` and `intensity`, respectively), and the name of the function (`exp`)."
   ]
  },
  {
   "cell_type": "code",
   "execution_count": 102,
   "metadata": {
    "ExecuteTime": {
     "end_time": "2016-07-10T10:50:14.735028",
     "start_time": "2016-07-10T10:50:14.728429"
    },
    "collapsed": false
   },
   "outputs": [
    {
     "name": "stdout",
     "output_type": "stream",
     "text": [
      "def exponential_decay(par, xdata):\n",
      "    \n",
      "    # Parse multiple input parameter\n",
      "    # formats for intensity, rate    \n",
      "    if hasattr(par,'valuesdict'):\n",
      "        # lmfit parameter format\n",
      "        var = par.valuesdict()\n",
      "        inten = var['inten']\n",
      "        rate = var['rate']\n",
      "    elif hasattr(par,'keys'):\n",
      "        # dict format\n",
      "        inten = par['inten']\n",
      "        rate = par['rate']\n",
      "    else:\n",
      "        # array/list/tuple format\n",
      "        inten = par[0]\n",
      "        rate = par[1]\n",
      "\n",
      "    # Calculate the y-data from the parameters\n",
      "    return inten * np.exp(-1*rate*xdata)\n",
      "\n"
     ]
    }
   ],
   "source": [
    "print(inspect.getsource(exponential_decay))"
   ]
  },
  {
   "cell_type": "code",
   "execution_count": 8,
   "metadata": {
    "ExecuteTime": {
     "end_time": "2016-07-10T10:08:44.118293",
     "start_time": "2016-07-10T10:08:44.107990"
    },
    "collapsed": true
   },
   "outputs": [],
   "source": [
    "def exponential_decay(par, xdata):\n",
    "    \n",
    "    # Parse multiple input parameter\n",
    "    # formats for intensity, rate    \n",
    "    if hasattr(par,'valuesdict'):\n",
    "        # lmfit parameter format\n",
    "        var = par.valuesdict()\n",
    "        inten = var['inten']\n",
    "        rate = var['rate']\n",
    "    elif hasattr(par,'keys'):\n",
    "        # dict format\n",
    "        inten = par['inten']\n",
    "        rate = par['rate']\n",
    "    else:\n",
    "        # array/list/tuple format\n",
    "        inten = par[0]\n",
    "        rate = par[1]\n",
    "\n",
    "    # Calculate the y-data from the parameters\n",
    "    return inten * np.exp(-1*rate*xdata)"
   ]
  },
  {
   "cell_type": "markdown",
   "metadata": {},
   "source": [
    "### Column names\n",
    "\n",
    "group by columns, xname, yname, error"
   ]
  },
  {
   "cell_type": "code",
   "execution_count": 9,
   "metadata": {
    "ExecuteTime": {
     "end_time": "2016-07-10T10:08:45.015225",
     "start_time": "2016-07-10T10:08:45.011130"
    },
    "collapsed": true
   },
   "outputs": [],
   "source": [
    "groupcols = ['resi', 'field']\n",
    "xname = 'time'\n",
    "yname = 'intensity'\n",
    "yerr = None"
   ]
  },
  {
   "cell_type": "markdown",
   "metadata": {},
   "source": [
    "### Parameters\n",
    "\n",
    "parameters are a dictionary or a dataframe, can be a single value or list of identical length--ensure order is the same as they are unpacked in the equation.\n",
    "\n",
    "How to handle constants\n",
    "\n",
    "Explain what I've done here."
   ]
  },
  {
   "cell_type": "code",
   "execution_count": 10,
   "metadata": {
    "ExecuteTime": {
     "end_time": "2016-07-10T10:08:45.928884",
     "start_time": "2016-07-10T10:08:45.916407"
    },
    "collapsed": true
   },
   "outputs": [],
   "source": [
    "params = [{'name':'inten', 'value':np.asarray(data.groupby(groupcols)[yname].max()), 'vary':True},\n",
    "          {'name':'rate', 'value':20.0, 'vary':True}]"
   ]
  },
  {
   "cell_type": "markdown",
   "metadata": {},
   "source": [
    "### Confidence interval(s)\n",
    "\n",
    "can be single or list, default is 0.95"
   ]
  },
  {
   "cell_type": "code",
   "execution_count": 11,
   "metadata": {
    "ExecuteTime": {
     "end_time": "2016-07-10T10:08:46.888256",
     "start_time": "2016-07-10T10:08:46.885002"
    },
    "collapsed": true
   },
   "outputs": [],
   "source": [
    "sigma = 0.95"
   ]
  },
  {
   "cell_type": "markdown",
   "metadata": {},
   "source": [
    "### Regression method\n",
    "\n",
    "Only `leastsq` is supported right now."
   ]
  },
  {
   "cell_type": "code",
   "execution_count": 12,
   "metadata": {
    "ExecuteTime": {
     "end_time": "2016-07-10T10:08:47.976425",
     "start_time": "2016-07-10T10:08:47.973477"
    },
    "collapsed": true
   },
   "outputs": [],
   "source": [
    "method = 'leastsq'"
   ]
  },
  {
   "cell_type": "markdown",
   "metadata": {},
   "source": [
    "### Other parameters\n",
    "\n",
    "`threads`\n",
    "\n",
    "## Regression"
   ]
  },
  {
   "cell_type": "code",
   "execution_count": 27,
   "metadata": {
    "ExecuteTime": {
     "end_time": "2016-07-10T10:17:01.664261",
     "start_time": "2016-07-10T10:16:42.016306"
    },
    "collapsed": false
   },
   "outputs": [],
   "source": [
    "fit_data = pdlmfit.pdlmfit(data, exponential_decay, \n",
    "                           groupcols, params, \n",
    "                           xname, yname, \n",
    "                           method=method, sigma=sigma)\n",
    "fit_data.fit()"
   ]
  },
  {
   "cell_type": "markdown",
   "metadata": {},
   "source": [
    "## Results"
   ]
  },
  {
   "cell_type": "code",
   "execution_count": 28,
   "metadata": {
    "ExecuteTime": {
     "end_time": "2016-07-10T10:17:01.696901",
     "start_time": "2016-07-10T10:17:01.667580"
    },
    "collapsed": false
   },
   "outputs": [
    {
     "data": {
      "text/html": [
       "<div>\n",
       "<table border=\"1\" class=\"dataframe\">\n",
       "  <thead>\n",
       "    <tr style=\"text-align: right;\">\n",
       "      <th></th>\n",
       "      <th></th>\n",
       "      <th>time</th>\n",
       "      <th>intensity</th>\n",
       "    </tr>\n",
       "    <tr>\n",
       "      <th>resi</th>\n",
       "      <th>field</th>\n",
       "      <th></th>\n",
       "      <th></th>\n",
       "    </tr>\n",
       "  </thead>\n",
       "  <tbody>\n",
       "    <tr>\n",
       "      <th rowspan=\"8\" valign=\"top\">10</th>\n",
       "      <th>14.1</th>\n",
       "      <td>0.004</td>\n",
       "      <td>10434.829430</td>\n",
       "    </tr>\n",
       "    <tr>\n",
       "      <th>14.1</th>\n",
       "      <td>0.008</td>\n",
       "      <td>9929.584417</td>\n",
       "    </tr>\n",
       "    <tr>\n",
       "      <th>14.1</th>\n",
       "      <td>0.024</td>\n",
       "      <td>8557.808615</td>\n",
       "    </tr>\n",
       "    <tr>\n",
       "      <th>14.1</th>\n",
       "      <td>0.064</td>\n",
       "      <td>6414.364701</td>\n",
       "    </tr>\n",
       "    <tr>\n",
       "      <th>14.1</th>\n",
       "      <td>0.096</td>\n",
       "      <td>5253.764094</td>\n",
       "    </tr>\n",
       "    <tr>\n",
       "      <th>14.1</th>\n",
       "      <td>0.144</td>\n",
       "      <td>4019.250506</td>\n",
       "    </tr>\n",
       "    <tr>\n",
       "      <th>14.1</th>\n",
       "      <td>0.208</td>\n",
       "      <td>2689.306701</td>\n",
       "    </tr>\n",
       "    <tr>\n",
       "      <th>14.1</th>\n",
       "      <td>0.008</td>\n",
       "      <td>9109.241833</td>\n",
       "    </tr>\n",
       "  </tbody>\n",
       "</table>\n",
       "</div>"
      ],
      "text/plain": [
       "             time     intensity\n",
       "resi field                     \n",
       "10   14.1   0.004  10434.829430\n",
       "     14.1   0.008   9929.584417\n",
       "     14.1   0.024   8557.808615\n",
       "     14.1   0.064   6414.364701\n",
       "     14.1   0.096   5253.764094\n",
       "     14.1   0.144   4019.250506\n",
       "     14.1   0.208   2689.306701\n",
       "     14.1   0.008   9109.241833"
      ]
     },
     "execution_count": 28,
     "metadata": {},
     "output_type": "execute_result"
    }
   ],
   "source": [
    "fit_data.data.sortlevel(axis=0).loc[(10, 14.1)].head(n=8)"
   ]
  },
  {
   "cell_type": "code",
   "execution_count": 29,
   "metadata": {
    "ExecuteTime": {
     "end_time": "2016-07-10T10:17:01.745244",
     "start_time": "2016-07-10T10:17:01.699470"
    },
    "collapsed": false
   },
   "outputs": [
    {
     "data": {
      "text/html": [
       "<div>\n",
       "<table border=\"1\" class=\"dataframe\">\n",
       "  <thead>\n",
       "    <tr>\n",
       "      <th></th>\n",
       "      <th></th>\n",
       "      <th colspan=\"3\" halign=\"left\">inten</th>\n",
       "      <th colspan=\"3\" halign=\"left\">rate</th>\n",
       "    </tr>\n",
       "    <tr>\n",
       "      <th></th>\n",
       "      <th></th>\n",
       "      <th>value</th>\n",
       "      <th>stderr</th>\n",
       "      <th>ci0.95</th>\n",
       "      <th>value</th>\n",
       "      <th>stderr</th>\n",
       "      <th>ci0.95</th>\n",
       "    </tr>\n",
       "    <tr>\n",
       "      <th>resi</th>\n",
       "      <th>field</th>\n",
       "      <th></th>\n",
       "      <th></th>\n",
       "      <th></th>\n",
       "      <th></th>\n",
       "      <th></th>\n",
       "      <th></th>\n",
       "    </tr>\n",
       "  </thead>\n",
       "  <tbody>\n",
       "    <tr>\n",
       "      <th rowspan=\"4\" valign=\"top\">5</th>\n",
       "      <th>14.1</th>\n",
       "      <td>15313.367271</td>\n",
       "      <td>139.475597</td>\n",
       "      <td>232.504669</td>\n",
       "      <td>5.085937</td>\n",
       "      <td>0.153085</td>\n",
       "      <td>0.266440</td>\n",
       "    </tr>\n",
       "    <tr>\n",
       "      <th>16.5</th>\n",
       "      <td>68692.303692</td>\n",
       "      <td>362.676887</td>\n",
       "      <td>618.930303</td>\n",
       "      <td>5.510422</td>\n",
       "      <td>0.132718</td>\n",
       "      <td>0.222188</td>\n",
       "    </tr>\n",
       "    <tr>\n",
       "      <th>18.8</th>\n",
       "      <td>318852.491958</td>\n",
       "      <td>940.572232</td>\n",
       "      <td>1593.726552</td>\n",
       "      <td>6.988834</td>\n",
       "      <td>0.096050</td>\n",
       "      <td>0.180865</td>\n",
       "    </tr>\n",
       "    <tr>\n",
       "      <th>21.1</th>\n",
       "      <td>831932.375915</td>\n",
       "      <td>1428.215703</td>\n",
       "      <td>2543.892832</td>\n",
       "      <td>5.950005</td>\n",
       "      <td>0.032391</td>\n",
       "      <td>0.059709</td>\n",
       "    </tr>\n",
       "    <tr>\n",
       "      <th rowspan=\"4\" valign=\"top\">6</th>\n",
       "      <th>14.1</th>\n",
       "      <td>12150.037320</td>\n",
       "      <td>125.957061</td>\n",
       "      <td>210.737126</td>\n",
       "      <td>5.913539</td>\n",
       "      <td>0.227691</td>\n",
       "      <td>0.403435</td>\n",
       "    </tr>\n",
       "    <tr>\n",
       "      <th>16.5</th>\n",
       "      <td>67337.150278</td>\n",
       "      <td>336.018198</td>\n",
       "      <td>572.242574</td>\n",
       "      <td>5.697662</td>\n",
       "      <td>0.130639</td>\n",
       "      <td>0.239861</td>\n",
       "    </tr>\n",
       "    <tr>\n",
       "      <th>18.8</th>\n",
       "      <td>257864.943838</td>\n",
       "      <td>555.307822</td>\n",
       "      <td>905.503586</td>\n",
       "      <td>6.247189</td>\n",
       "      <td>0.041395</td>\n",
       "      <td>0.075436</td>\n",
       "    </tr>\n",
       "    <tr>\n",
       "      <th>21.1</th>\n",
       "      <td>768077.405112</td>\n",
       "      <td>1923.626547</td>\n",
       "      <td>2928.719491</td>\n",
       "      <td>6.318552</td>\n",
       "      <td>0.036332</td>\n",
       "      <td>0.063240</td>\n",
       "    </tr>\n",
       "  </tbody>\n",
       "</table>\n",
       "</div>"
      ],
      "text/plain": [
       "                    inten                                rate            \\\n",
       "                    value       stderr       ci0.95     value    stderr   \n",
       "resi field                                                                \n",
       "5    14.1    15313.367271   139.475597   232.504669  5.085937  0.153085   \n",
       "     16.5    68692.303692   362.676887   618.930303  5.510422  0.132718   \n",
       "     18.8   318852.491958   940.572232  1593.726552  6.988834  0.096050   \n",
       "     21.1   831932.375915  1428.215703  2543.892832  5.950005  0.032391   \n",
       "6    14.1    12150.037320   125.957061   210.737126  5.913539  0.227691   \n",
       "     16.5    67337.150278   336.018198   572.242574  5.697662  0.130639   \n",
       "     18.8   257864.943838   555.307822   905.503586  6.247189  0.041395   \n",
       "     21.1   768077.405112  1923.626547  2928.719491  6.318552  0.036332   \n",
       "\n",
       "                      \n",
       "              ci0.95  \n",
       "resi field            \n",
       "5    14.1   0.266440  \n",
       "     16.5   0.222188  \n",
       "     18.8   0.180865  \n",
       "     21.1   0.059709  \n",
       "6    14.1   0.403435  \n",
       "     16.5   0.239861  \n",
       "     18.8   0.075436  \n",
       "     21.1   0.063240  "
      ]
     },
     "execution_count": 29,
     "metadata": {},
     "output_type": "execute_result"
    }
   ],
   "source": [
    "fit_data.results.head(n=8)"
   ]
  },
  {
   "cell_type": "code",
   "execution_count": 30,
   "metadata": {
    "ExecuteTime": {
     "end_time": "2016-07-10T10:17:01.777835",
     "start_time": "2016-07-10T10:17:01.748063"
    },
    "collapsed": false
   },
   "outputs": [
    {
     "data": {
      "text/html": [
       "<div>\n",
       "<table border=\"1\" class=\"dataframe\">\n",
       "  <thead>\n",
       "    <tr>\n",
       "      <th></th>\n",
       "      <th colspan=\"3\" halign=\"left\">inten</th>\n",
       "      <th colspan=\"3\" halign=\"left\">rate</th>\n",
       "    </tr>\n",
       "    <tr>\n",
       "      <th></th>\n",
       "      <th>value</th>\n",
       "      <th>stderr</th>\n",
       "      <th>ci0.95</th>\n",
       "      <th>value</th>\n",
       "      <th>stderr</th>\n",
       "      <th>ci0.95</th>\n",
       "    </tr>\n",
       "    <tr>\n",
       "      <th>field</th>\n",
       "      <th></th>\n",
       "      <th></th>\n",
       "      <th></th>\n",
       "      <th></th>\n",
       "      <th></th>\n",
       "      <th></th>\n",
       "    </tr>\n",
       "  </thead>\n",
       "  <tbody>\n",
       "    <tr>\n",
       "      <th>14.1</th>\n",
       "      <td>10138.093669</td>\n",
       "      <td>81.913608</td>\n",
       "      <td>136.751085</td>\n",
       "      <td>7.178645</td>\n",
       "      <td>0.204430</td>\n",
       "      <td>0.361709</td>\n",
       "    </tr>\n",
       "    <tr>\n",
       "      <th>16.5</th>\n",
       "      <td>50868.876634</td>\n",
       "      <td>212.575306</td>\n",
       "      <td>366.034028</td>\n",
       "      <td>6.945686</td>\n",
       "      <td>0.127468</td>\n",
       "      <td>0.200281</td>\n",
       "    </tr>\n",
       "    <tr>\n",
       "      <th>18.8</th>\n",
       "      <td>190379.105476</td>\n",
       "      <td>691.417195</td>\n",
       "      <td>1177.565529</td>\n",
       "      <td>8.571641</td>\n",
       "      <td>0.172095</td>\n",
       "      <td>0.283685</td>\n",
       "    </tr>\n",
       "    <tr>\n",
       "      <th>21.1</th>\n",
       "      <td>560960.283077</td>\n",
       "      <td>784.645950</td>\n",
       "      <td>1305.888739</td>\n",
       "      <td>8.104072</td>\n",
       "      <td>0.041178</td>\n",
       "      <td>0.081481</td>\n",
       "    </tr>\n",
       "  </tbody>\n",
       "</table>\n",
       "</div>"
      ],
      "text/plain": [
       "               inten                               rate                    \n",
       "               value      stderr       ci0.95     value    stderr    ci0.95\n",
       "field                                                                      \n",
       "14.1    10138.093669   81.913608   136.751085  7.178645  0.204430  0.361709\n",
       "16.5    50868.876634  212.575306   366.034028  6.945686  0.127468  0.200281\n",
       "18.8   190379.105476  691.417195  1177.565529  8.571641  0.172095  0.283685\n",
       "21.1   560960.283077  784.645950  1305.888739  8.104072  0.041178  0.081481"
      ]
     },
     "execution_count": 30,
     "metadata": {},
     "output_type": "execute_result"
    }
   ],
   "source": [
    "fit_data.results.loc[10]"
   ]
  },
  {
   "cell_type": "code",
   "execution_count": 31,
   "metadata": {
    "ExecuteTime": {
     "end_time": "2016-07-10T10:17:01.792392",
     "start_time": "2016-07-10T10:17:01.780682"
    },
    "collapsed": false
   },
   "outputs": [
    {
     "data": {
      "text/plain": [
       "inten  value     190379.105476\n",
       "       stderr       691.417195\n",
       "       ci0.95      1177.565529\n",
       "rate   value          8.571641\n",
       "       stderr         0.172095\n",
       "       ci0.95         0.283685\n",
       "Name: (10, 18.8), dtype: float64"
      ]
     },
     "execution_count": 31,
     "metadata": {},
     "output_type": "execute_result"
    }
   ],
   "source": [
    "fit_data.results.loc[(10, 18.8)]"
   ]
  },
  {
   "cell_type": "code",
   "execution_count": 32,
   "metadata": {
    "ExecuteTime": {
     "end_time": "2016-07-10T10:17:01.866560",
     "start_time": "2016-07-10T10:17:01.795449"
    },
    "collapsed": false,
    "scrolled": false
   },
   "outputs": [
    {
     "data": {
      "text/html": [
       "<div>\n",
       "<table border=\"1\" class=\"dataframe\">\n",
       "  <thead>\n",
       "    <tr style=\"text-align: right;\">\n",
       "      <th></th>\n",
       "      <th></th>\n",
       "      <th>nobs</th>\n",
       "      <th>npar</th>\n",
       "      <th>dof</th>\n",
       "      <th>chisqr</th>\n",
       "      <th>redchi</th>\n",
       "      <th>aic</th>\n",
       "      <th>bic</th>\n",
       "      <th>covar</th>\n",
       "    </tr>\n",
       "    <tr>\n",
       "      <th>resi</th>\n",
       "      <th>field</th>\n",
       "      <th></th>\n",
       "      <th></th>\n",
       "      <th></th>\n",
       "      <th></th>\n",
       "      <th></th>\n",
       "      <th></th>\n",
       "      <th></th>\n",
       "      <th></th>\n",
       "    </tr>\n",
       "  </thead>\n",
       "  <tbody>\n",
       "    <tr>\n",
       "      <th>5</th>\n",
       "      <th>18.8</th>\n",
       "      <td>22</td>\n",
       "      <td>2</td>\n",
       "      <td>20</td>\n",
       "      <td>1.438859e+16</td>\n",
       "      <td>7.194297e+14</td>\n",
       "      <td>756.608557</td>\n",
       "      <td>758.790642</td>\n",
       "      <td>[[884676.124346, 45.5837120289], [45.583712028...</td>\n",
       "    </tr>\n",
       "    <tr>\n",
       "      <th>6</th>\n",
       "      <th>18.8</th>\n",
       "      <td>22</td>\n",
       "      <td>2</td>\n",
       "      <td>20</td>\n",
       "      <td>9.511367e+14</td>\n",
       "      <td>4.755683e+13</td>\n",
       "      <td>696.844825</td>\n",
       "      <td>699.026910</td>\n",
       "      <td>[[308366.776811, 14.1178723296], [14.117872329...</td>\n",
       "    </tr>\n",
       "    <tr>\n",
       "      <th>7</th>\n",
       "      <th>18.8</th>\n",
       "      <td>22</td>\n",
       "      <td>2</td>\n",
       "      <td>20</td>\n",
       "      <td>6.757987e+15</td>\n",
       "      <td>3.378993e+14</td>\n",
       "      <td>739.982921</td>\n",
       "      <td>742.165006</td>\n",
       "      <td>[[608954.405556, 36.0892684742], [36.089268474...</td>\n",
       "    </tr>\n",
       "    <tr>\n",
       "      <th>8</th>\n",
       "      <th>18.8</th>\n",
       "      <td>22</td>\n",
       "      <td>2</td>\n",
       "      <td>20</td>\n",
       "      <td>1.309060e+16</td>\n",
       "      <td>6.545302e+14</td>\n",
       "      <td>754.528656</td>\n",
       "      <td>756.710741</td>\n",
       "      <td>[[1168137.54813, 68.1092848262], [68.109284826...</td>\n",
       "    </tr>\n",
       "    <tr>\n",
       "      <th>9</th>\n",
       "      <th>18.8</th>\n",
       "      <td>22</td>\n",
       "      <td>2</td>\n",
       "      <td>20</td>\n",
       "      <td>8.003952e+15</td>\n",
       "      <td>4.001976e+14</td>\n",
       "      <td>743.705551</td>\n",
       "      <td>745.887635</td>\n",
       "      <td>[[856305.140309, 59.5849096275], [59.584909627...</td>\n",
       "    </tr>\n",
       "    <tr>\n",
       "      <th>10</th>\n",
       "      <th>18.8</th>\n",
       "      <td>22</td>\n",
       "      <td>2</td>\n",
       "      <td>20</td>\n",
       "      <td>3.991318e+15</td>\n",
       "      <td>1.995659e+14</td>\n",
       "      <td>728.397645</td>\n",
       "      <td>730.579730</td>\n",
       "      <td>[[478057.738111, 62.0956604465], [62.095660446...</td>\n",
       "    </tr>\n",
       "    <tr>\n",
       "      <th>11</th>\n",
       "      <th>18.8</th>\n",
       "      <td>22</td>\n",
       "      <td>2</td>\n",
       "      <td>20</td>\n",
       "      <td>7.894043e+14</td>\n",
       "      <td>3.947022e+13</td>\n",
       "      <td>692.744484</td>\n",
       "      <td>694.926569</td>\n",
       "      <td>[[341740.934542, 27.8389841278], [27.838984127...</td>\n",
       "    </tr>\n",
       "    <tr>\n",
       "      <th>12</th>\n",
       "      <th>18.8</th>\n",
       "      <td>22</td>\n",
       "      <td>2</td>\n",
       "      <td>20</td>\n",
       "      <td>8.292703e+14</td>\n",
       "      <td>4.146352e+13</td>\n",
       "      <td>693.828371</td>\n",
       "      <td>696.010456</td>\n",
       "      <td>[[364853.83623, 32.9641394096], [32.9641394096...</td>\n",
       "    </tr>\n",
       "    <tr>\n",
       "      <th>13</th>\n",
       "      <th>18.8</th>\n",
       "      <td>22</td>\n",
       "      <td>2</td>\n",
       "      <td>20</td>\n",
       "      <td>1.156430e+15</td>\n",
       "      <td>5.782149e+13</td>\n",
       "      <td>701.144396</td>\n",
       "      <td>703.326481</td>\n",
       "      <td>[[449485.765327, 74.8523210929], [74.852321092...</td>\n",
       "    </tr>\n",
       "    <tr>\n",
       "      <th>14</th>\n",
       "      <th>18.8</th>\n",
       "      <td>22</td>\n",
       "      <td>2</td>\n",
       "      <td>20</td>\n",
       "      <td>1.284705e+14</td>\n",
       "      <td>6.423524e+12</td>\n",
       "      <td>652.801736</td>\n",
       "      <td>654.983821</td>\n",
       "      <td>[[114793.151904, 29.1087000161], [29.108700016...</td>\n",
       "    </tr>\n",
       "  </tbody>\n",
       "</table>\n",
       "</div>"
      ],
      "text/plain": [
       "            nobs  npar  dof        chisqr        redchi         aic  \\\n",
       "resi field                                                            \n",
       "5    18.8     22     2   20  1.438859e+16  7.194297e+14  756.608557   \n",
       "6    18.8     22     2   20  9.511367e+14  4.755683e+13  696.844825   \n",
       "7    18.8     22     2   20  6.757987e+15  3.378993e+14  739.982921   \n",
       "8    18.8     22     2   20  1.309060e+16  6.545302e+14  754.528656   \n",
       "9    18.8     22     2   20  8.003952e+15  4.001976e+14  743.705551   \n",
       "10   18.8     22     2   20  3.991318e+15  1.995659e+14  728.397645   \n",
       "11   18.8     22     2   20  7.894043e+14  3.947022e+13  692.744484   \n",
       "12   18.8     22     2   20  8.292703e+14  4.146352e+13  693.828371   \n",
       "13   18.8     22     2   20  1.156430e+15  5.782149e+13  701.144396   \n",
       "14   18.8     22     2   20  1.284705e+14  6.423524e+12  652.801736   \n",
       "\n",
       "                   bic                                              covar  \n",
       "resi field                                                                 \n",
       "5    18.8   758.790642  [[884676.124346, 45.5837120289], [45.583712028...  \n",
       "6    18.8   699.026910  [[308366.776811, 14.1178723296], [14.117872329...  \n",
       "7    18.8   742.165006  [[608954.405556, 36.0892684742], [36.089268474...  \n",
       "8    18.8   756.710741  [[1168137.54813, 68.1092848262], [68.109284826...  \n",
       "9    18.8   745.887635  [[856305.140309, 59.5849096275], [59.584909627...  \n",
       "10   18.8   730.579730  [[478057.738111, 62.0956604465], [62.095660446...  \n",
       "11   18.8   694.926569  [[341740.934542, 27.8389841278], [27.838984127...  \n",
       "12   18.8   696.010456  [[364853.83623, 32.9641394096], [32.9641394096...  \n",
       "13   18.8   703.326481  [[449485.765327, 74.8523210929], [74.852321092...  \n",
       "14   18.8   654.983821  [[114793.151904, 29.1087000161], [29.108700016...  "
      ]
     },
     "execution_count": 32,
     "metadata": {},
     "output_type": "execute_result"
    }
   ],
   "source": [
    "fit_data.stats.loc[(slice(None), 18.8), :].head(n=10)"
   ]
  },
  {
   "cell_type": "code",
   "execution_count": 34,
   "metadata": {
    "ExecuteTime": {
     "end_time": "2016-07-10T10:17:23.112407",
     "start_time": "2016-07-10T10:17:23.092252"
    },
    "collapsed": false
   },
   "outputs": [
    {
     "data": {
      "text/plain": [
       "resi\n",
       "5     [[884676.124346, 45.5837120289], [45.583712028...\n",
       "6     [[308366.776811, 14.1178723296], [14.117872329...\n",
       "7     [[608954.405556, 36.0892684742], [36.089268474...\n",
       "8     [[1168137.54813, 68.1092848262], [68.109284826...\n",
       "9     [[856305.140309, 59.5849096275], [59.584909627...\n",
       "10    [[478057.738111, 62.0956604465], [62.095660446...\n",
       "11    [[341740.934542, 27.8389841278], [27.838984127...\n",
       "12    [[364853.83623, 32.9641394096], [32.9641394096...\n",
       "13    [[449485.765327, 74.8523210929], [74.852321092...\n",
       "14    [[114793.151904, 29.1087000161], [29.108700016...\n",
       "Name: covar, dtype: object"
      ]
     },
     "execution_count": 34,
     "metadata": {},
     "output_type": "execute_result"
    }
   ],
   "source": [
    "fit_data.stats.covar.loc[(slice(None), 18.8)].head(10)"
   ]
  },
  {
   "cell_type": "markdown",
   "metadata": {},
   "source": [
    "## Predictions"
   ]
  },
  {
   "cell_type": "code",
   "execution_count": 20,
   "metadata": {
    "ExecuteTime": {
     "end_time": "2016-07-10T10:09:12.852504",
     "start_time": "2016-07-10T10:09:12.848734"
    },
    "collapsed": true
   },
   "outputs": [],
   "source": [
    "# fit_data.predict()\n",
    "# fit_data.model.head()"
   ]
  },
  {
   "cell_type": "markdown",
   "metadata": {},
   "source": [
    "## Visualization"
   ]
  },
  {
   "cell_type": "code",
   "execution_count": 83,
   "metadata": {
    "ExecuteTime": {
     "end_time": "2016-07-10T10:40:45.523424",
     "start_time": "2016-07-10T10:40:45.516181"
    },
    "collapsed": false
   },
   "outputs": [],
   "source": [
    "fit_itensities = (fit_data.results\n",
    "                  .loc[:,('inten','value')]\n",
    "                  .to_frame()\n",
    "                  )\n",
    "fit_itensities.columns=['inten_fit']"
   ]
  },
  {
   "cell_type": "code",
   "execution_count": 86,
   "metadata": {
    "ExecuteTime": {
     "end_time": "2016-07-10T10:42:16.846054",
     "start_time": "2016-07-10T10:42:16.833290"
    },
    "collapsed": false
   },
   "outputs": [],
   "source": [
    "fit_data.data = pd.merge(fit_data.data,\n",
    "                         fit_itensities,\n",
    "                         left_index=True,\n",
    "                         right_index=True,\n",
    "                         how='left'\n",
    "                        )\n",
    "\n",
    "fit_data.data['intensity'] /= fit_data.data.inten_fit\n",
    "#fit_data.data['ycalc'] /= fit_data.data.inten_fit"
   ]
  },
  {
   "cell_type": "code",
   "execution_count": 91,
   "metadata": {
    "ExecuteTime": {
     "end_time": "2016-07-10T10:45:35.972459",
     "start_time": "2016-07-10T10:45:32.313772"
    },
    "collapsed": false
   },
   "outputs": [
    {
     "data": {
      "image/png": "[encoded data removed]",
      "text/plain": [
       "<matplotlib.figure.Figure at 0x1210a1850>"
      ]
     },
     "metadata": {},
     "output_type": "display_data"
    }
   ],
   "source": [
    "# sns.set_context(\"notebook\", font_scale=1.0, rc={\"lines.linewidth\": 1.0})\n",
    "# sns.set_style(\"whitegrid\",{'axes.edgecolor':'black'})\n",
    "\n",
    "plot_data = fit_data.data.reset_index()\n",
    "plot_data = plot_data.loc[(plot_data.resi>=29)&((plot_data.resi<=46))]\n",
    "\n",
    "# colors = sns.color_palette()\n",
    "# palette = {14.1:colors[0], 16.5:colors[1], 18.8:colors[2], 21.1:colors[3]}\n",
    "\n",
    "grid = sns.FacetGrid(plot_data, col='resi', hue='field', #palette=palette,\n",
    "                     col_wrap=6, size=2.0, aspect=0.75, sharey=True, despine=True)\n",
    "\n",
    "# grid.map(plt.plot, 'time', 'ycalc', marker='', ls='-')\n",
    "grid.map(plt.plot, 'time', 'intensity', marker='o', ms=5, ls='')\n",
    "\n",
    "f = plt.gcf()\n",
    "f.set_size_inches(12,6)\n",
    "f.subplots_adjust(wspace=0.2, hspace=0.25)"
   ]
  },
  {
   "cell_type": "code",
   "execution_count": null,
   "metadata": {
    "collapsed": true
   },
   "outputs": [],
   "source": []
  },
  {
   "cell_type": "code",
   "execution_count": null,
   "metadata": {
    "collapsed": true
   },
   "outputs": [],
   "source": []
  },
  {
   "cell_type": "code",
   "execution_count": 34,
   "metadata": {
    "ExecuteTime": {
     "end_time": "2016-07-09T18:40:53.199864",
     "start_time": "2016-07-09T18:40:52.948542"
    },
    "collapsed": false
   },
   "outputs": [
    {
     "data": {
      "text/html": [
       "<div>\n",
       "<table border=\"1\" class=\"dataframe\">\n",
       "  <thead>\n",
       "    <tr style=\"text-align: right;\">\n",
       "      <th></th>\n",
       "      <th>xdata</th>\n",
       "      <th>ycalc</th>\n",
       "    </tr>\n",
       "  </thead>\n",
       "  <tbody>\n",
       "    <tr>\n",
       "      <th>0</th>\n",
       "      <td>0.004</td>\n",
       "      <td>15004.983475</td>\n",
       "    </tr>\n",
       "    <tr>\n",
       "      <th>1</th>\n",
       "      <td>0.055</td>\n",
       "      <td>11576.759543</td>\n",
       "    </tr>\n",
       "    <tr>\n",
       "      <th>2</th>\n",
       "      <td>0.106</td>\n",
       "      <td>8931.790011</td>\n",
       "    </tr>\n",
       "    <tr>\n",
       "      <th>3</th>\n",
       "      <td>0.157</td>\n",
       "      <td>6891.122901</td>\n",
       "    </tr>\n",
       "    <tr>\n",
       "      <th>4</th>\n",
       "      <td>0.208</td>\n",
       "      <td>5316.691814</td>\n",
       "    </tr>\n",
       "    <tr>\n",
       "      <th>0</th>\n",
       "      <td>0.004</td>\n",
       "      <td>67194.774141</td>\n",
       "    </tr>\n",
       "    <tr>\n",
       "      <th>1</th>\n",
       "      <td>0.055</td>\n",
       "      <td>50732.360278</td>\n",
       "    </tr>\n",
       "    <tr>\n",
       "      <th>2</th>\n",
       "      <td>0.106</td>\n",
       "      <td>38303.162892</td>\n",
       "    </tr>\n",
       "    <tr>\n",
       "      <th>3</th>\n",
       "      <td>0.157</td>\n",
       "      <td>28919.062301</td>\n",
       "    </tr>\n",
       "    <tr>\n",
       "      <th>4</th>\n",
       "      <td>0.208</td>\n",
       "      <td>21834.023647</td>\n",
       "    </tr>\n",
       "    <tr>\n",
       "      <th>0</th>\n",
       "      <td>0.004</td>\n",
       "      <td>11866.010910</td>\n",
       "    </tr>\n",
       "    <tr>\n",
       "      <th>1</th>\n",
       "      <td>0.055</td>\n",
       "      <td>8776.587131</td>\n",
       "    </tr>\n",
       "    <tr>\n",
       "      <th>2</th>\n",
       "      <td>0.106</td>\n",
       "      <td>6491.522909</td>\n",
       "    </tr>\n",
       "    <tr>\n",
       "      <th>3</th>\n",
       "      <td>0.157</td>\n",
       "      <td>4801.395924</td>\n",
       "    </tr>\n",
       "    <tr>\n",
       "      <th>4</th>\n",
       "      <td>0.208</td>\n",
       "      <td>3551.308860</td>\n",
       "    </tr>\n",
       "    <tr>\n",
       "      <th>0</th>\n",
       "      <td>0.004</td>\n",
       "      <td>65819.848914</td>\n",
       "    </tr>\n",
       "    <tr>\n",
       "      <th>1</th>\n",
       "      <td>0.055</td>\n",
       "      <td>49222.001431</td>\n",
       "    </tr>\n",
       "    <tr>\n",
       "      <th>2</th>\n",
       "      <td>0.106</td>\n",
       "      <td>36809.647316</td>\n",
       "    </tr>\n",
       "    <tr>\n",
       "      <th>3</th>\n",
       "      <td>0.157</td>\n",
       "      <td>27527.327133</td>\n",
       "    </tr>\n",
       "    <tr>\n",
       "      <th>4</th>\n",
       "      <td>0.208</td>\n",
       "      <td>20585.737553</td>\n",
       "    </tr>\n",
       "    <tr>\n",
       "      <th>0</th>\n",
       "      <td>0.004</td>\n",
       "      <td>14337.872660</td>\n",
       "    </tr>\n",
       "    <tr>\n",
       "      <th>1</th>\n",
       "      <td>0.055</td>\n",
       "      <td>10450.612106</td>\n",
       "    </tr>\n",
       "    <tr>\n",
       "      <th>2</th>\n",
       "      <td>0.106</td>\n",
       "      <td>7617.259267</td>\n",
       "    </tr>\n",
       "    <tr>\n",
       "      <th>3</th>\n",
       "      <td>0.157</td>\n",
       "      <td>5552.080409</td>\n",
       "    </tr>\n",
       "    <tr>\n",
       "      <th>4</th>\n",
       "      <td>0.208</td>\n",
       "      <td>4046.809462</td>\n",
       "    </tr>\n",
       "    <tr>\n",
       "      <th>0</th>\n",
       "      <td>0.004</td>\n",
       "      <td>75637.765747</td>\n",
       "    </tr>\n",
       "    <tr>\n",
       "      <th>1</th>\n",
       "      <td>0.055</td>\n",
       "      <td>57692.860209</td>\n",
       "    </tr>\n",
       "    <tr>\n",
       "      <th>2</th>\n",
       "      <td>0.106</td>\n",
       "      <td>44005.346883</td>\n",
       "    </tr>\n",
       "    <tr>\n",
       "      <th>3</th>\n",
       "      <td>0.157</td>\n",
       "      <td>33565.168155</td>\n",
       "    </tr>\n",
       "    <tr>\n",
       "      <th>4</th>\n",
       "      <td>0.208</td>\n",
       "      <td>25601.900520</td>\n",
       "    </tr>\n",
       "    <tr>\n",
       "      <th>0</th>\n",
       "      <td>0.004</td>\n",
       "      <td>13499.238987</td>\n",
       "    </tr>\n",
       "    <tr>\n",
       "      <th>1</th>\n",
       "      <td>0.055</td>\n",
       "      <td>9818.685949</td>\n",
       "    </tr>\n",
       "    <tr>\n",
       "      <th>2</th>\n",
       "      <td>0.106</td>\n",
       "      <td>7141.631751</td>\n",
       "    </tr>\n",
       "    <tr>\n",
       "      <th>3</th>\n",
       "      <td>0.157</td>\n",
       "      <td>5194.473510</td>\n",
       "    </tr>\n",
       "    <tr>\n",
       "      <th>4</th>\n",
       "      <td>0.208</td>\n",
       "      <td>3778.205876</td>\n",
       "    </tr>\n",
       "    <tr>\n",
       "      <th>0</th>\n",
       "      <td>0.004</td>\n",
       "      <td>71837.685659</td>\n",
       "    </tr>\n",
       "    <tr>\n",
       "      <th>1</th>\n",
       "      <td>0.055</td>\n",
       "      <td>48373.921827</td>\n",
       "    </tr>\n",
       "    <tr>\n",
       "      <th>2</th>\n",
       "      <td>0.106</td>\n",
       "      <td>32573.937919</td>\n",
       "    </tr>\n",
       "    <tr>\n",
       "      <th>3</th>\n",
       "      <td>0.157</td>\n",
       "      <td>21934.575314</td>\n",
       "    </tr>\n",
       "    <tr>\n",
       "      <th>4</th>\n",
       "      <td>0.208</td>\n",
       "      <td>14770.261901</td>\n",
       "    </tr>\n",
       "    <tr>\n",
       "      <th>0</th>\n",
       "      <td>0.004</td>\n",
       "      <td>11843.098388</td>\n",
       "    </tr>\n",
       "    <tr>\n",
       "      <th>1</th>\n",
       "      <td>0.055</td>\n",
       "      <td>8359.369666</td>\n",
       "    </tr>\n",
       "    <tr>\n",
       "      <th>2</th>\n",
       "      <td>0.106</td>\n",
       "      <td>5900.403672</td>\n",
       "    </tr>\n",
       "    <tr>\n",
       "      <th>3</th>\n",
       "      <td>0.157</td>\n",
       "      <td>4164.759411</td>\n",
       "    </tr>\n",
       "    <tr>\n",
       "      <th>4</th>\n",
       "      <td>0.208</td>\n",
       "      <td>2939.666829</td>\n",
       "    </tr>\n",
       "    <tr>\n",
       "      <th>0</th>\n",
       "      <td>0.004</td>\n",
       "      <td>62268.749543</td>\n",
       "    </tr>\n",
       "    <tr>\n",
       "      <th>1</th>\n",
       "      <td>0.055</td>\n",
       "      <td>43415.111734</td>\n",
       "    </tr>\n",
       "    <tr>\n",
       "      <th>2</th>\n",
       "      <td>0.106</td>\n",
       "      <td>30269.949866</td>\n",
       "    </tr>\n",
       "    <tr>\n",
       "      <th>3</th>\n",
       "      <td>0.157</td>\n",
       "      <td>21104.860226</td>\n",
       "    </tr>\n",
       "    <tr>\n",
       "      <th>4</th>\n",
       "      <td>0.208</td>\n",
       "      <td>14714.762567</td>\n",
       "    </tr>\n",
       "    <tr>\n",
       "      <th>0</th>\n",
       "      <td>0.004</td>\n",
       "      <td>9851.122397</td>\n",
       "    </tr>\n",
       "    <tr>\n",
       "      <th>1</th>\n",
       "      <td>0.055</td>\n",
       "      <td>6831.023256</td>\n",
       "    </tr>\n",
       "    <tr>\n",
       "      <th>2</th>\n",
       "      <td>0.106</td>\n",
       "      <td>4736.808339</td>\n",
       "    </tr>\n",
       "    <tr>\n",
       "      <th>3</th>\n",
       "      <td>0.157</td>\n",
       "      <td>3284.625509</td>\n",
       "    </tr>\n",
       "    <tr>\n",
       "      <th>4</th>\n",
       "      <td>0.208</td>\n",
       "      <td>2277.644347</td>\n",
       "    </tr>\n",
       "    <tr>\n",
       "      <th>0</th>\n",
       "      <td>0.004</td>\n",
       "      <td>49475.051407</td>\n",
       "    </tr>\n",
       "    <tr>\n",
       "      <th>1</th>\n",
       "      <td>0.055</td>\n",
       "      <td>34717.314236</td>\n",
       "    </tr>\n",
       "    <tr>\n",
       "      <th>2</th>\n",
       "      <td>0.106</td>\n",
       "      <td>24361.610014</td>\n",
       "    </tr>\n",
       "    <tr>\n",
       "      <th>3</th>\n",
       "      <td>0.157</td>\n",
       "      <td>17094.871983</td>\n",
       "    </tr>\n",
       "    <tr>\n",
       "      <th>4</th>\n",
       "      <td>0.208</td>\n",
       "      <td>11995.703402</td>\n",
       "    </tr>\n",
       "  </tbody>\n",
       "</table>\n",
       "</div>"
      ],
      "text/plain": [
       "   xdata         ycalc\n",
       "0  0.004  15004.983475\n",
       "1  0.055  11576.759543\n",
       "2  0.106   8931.790011\n",
       "3  0.157   6891.122901\n",
       "4  0.208   5316.691814\n",
       "0  0.004  67194.774141\n",
       "1  0.055  50732.360278\n",
       "2  0.106  38303.162892\n",
       "3  0.157  28919.062301\n",
       "4  0.208  21834.023647\n",
       "0  0.004  11866.010910\n",
       "1  0.055   8776.587131\n",
       "2  0.106   6491.522909\n",
       "3  0.157   4801.395924\n",
       "4  0.208   3551.308860\n",
       "0  0.004  65819.848914\n",
       "1  0.055  49222.001431\n",
       "2  0.106  36809.647316\n",
       "3  0.157  27527.327133\n",
       "4  0.208  20585.737553\n",
       "0  0.004  14337.872660\n",
       "1  0.055  10450.612106\n",
       "2  0.106   7617.259267\n",
       "3  0.157   5552.080409\n",
       "4  0.208   4046.809462\n",
       "0  0.004  75637.765747\n",
       "1  0.055  57692.860209\n",
       "2  0.106  44005.346883\n",
       "3  0.157  33565.168155\n",
       "4  0.208  25601.900520\n",
       "0  0.004  13499.238987\n",
       "1  0.055   9818.685949\n",
       "2  0.106   7141.631751\n",
       "3  0.157   5194.473510\n",
       "4  0.208   3778.205876\n",
       "0  0.004  71837.685659\n",
       "1  0.055  48373.921827\n",
       "2  0.106  32573.937919\n",
       "3  0.157  21934.575314\n",
       "4  0.208  14770.261901\n",
       "0  0.004  11843.098388\n",
       "1  0.055   8359.369666\n",
       "2  0.106   5900.403672\n",
       "3  0.157   4164.759411\n",
       "4  0.208   2939.666829\n",
       "0  0.004  62268.749543\n",
       "1  0.055  43415.111734\n",
       "2  0.106  30269.949866\n",
       "3  0.157  21104.860226\n",
       "4  0.208  14714.762567\n",
       "0  0.004   9851.122397\n",
       "1  0.055   6831.023256\n",
       "2  0.106   4736.808339\n",
       "3  0.157   3284.625509\n",
       "4  0.208   2277.644347\n",
       "0  0.004  49475.051407\n",
       "1  0.055  34717.314236\n",
       "2  0.106  24361.610014\n",
       "3  0.157  17094.871983\n",
       "4  0.208  11995.703402"
      ]
     },
     "execution_count": 34,
     "metadata": {},
     "output_type": "execute_result"
    }
   ],
   "source": [
    "def predict(self, df, xcalc=False, xtype='global', xnum=50):\n",
    "    \n",
    "    # Get the index for selection\n",
    "    index = df.index.unique()[0]\n",
    "    \n",
    "    # Choose the xdata\n",
    "    xname = self._xname\n",
    "    xdata = self.data.loc[index, xname]\n",
    "    \n",
    "    if xcalc:\n",
    "        if xtype == 'global':\n",
    "            xmin = self.data[xname].min()\n",
    "            xmax = self.data[xname].max()\n",
    "        else:\n",
    "            xmin = xdata.min()\n",
    "            xmax = xdata.max()\n",
    "            \n",
    "        xname = 'xdata'\n",
    "        xdata = pd.Series(np.linspace(xmin, xmax, xnum))\n",
    "        xindex = pd.Index(np.array([index]*xnum))\n",
    "    \n",
    "    # Pick out the parameters for this data\n",
    "    params = ( self\n",
    "             .results\n",
    "             .sortlevel(axis=1)\n",
    "             .loc[[index], (slice(None),['value'])]\n",
    "             )\n",
    "    params.columns = params.columns.levels[0]\n",
    "    params = params[self._paramnames].squeeze()\n",
    "    \n",
    "    \n",
    "    model_eq = self._fitobj.model_eq.loc[index]\n",
    "    \n",
    "    ycalc = model_eq(params, xdata)\n",
    "    \n",
    "    if not xcalc:\n",
    "        return ycalc\n",
    "    else:\n",
    "        return pd.DataFrame({xname:xdata, 'ycalc':ycalc})\n",
    "\n",
    "\n",
    "\n",
    "\n",
    "z = ( a\n",
    "     .data\n",
    "     .groupby(level=range(a._ngroupcols), group_keys=False, as_index=False)\n",
    "     .apply(lambda x: predict(a, x, True, xnum=5))\n",
    "     )\n",
    "z"
   ]
  }
 ],
 "metadata": {
  "kernelspec": {
   "display_name": "Python 2",
   "language": "python",
   "name": "python2"
  },
  "language_info": {
   "codemirror_mode": {
    "name": "ipython",
    "version": 2
   },
   "file_extension": ".py",
   "mimetype": "text/x-python",
   "name": "python",
   "nbconvert_exporter": "python",
   "pygments_lexer": "ipython2",
   "version": "2.7.12"
  }
 },
 "nbformat": 4,
 "nbformat_minor": 0
}
