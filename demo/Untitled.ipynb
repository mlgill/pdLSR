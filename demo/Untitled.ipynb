{
 "cells": [
  {
   "cell_type": "code",
   "execution_count": 1,
   "metadata": {
    "ExecuteTime": {
     "end_time": "2016-07-06T04:27:28.296825",
     "start_time": "2016-07-06T04:27:26.033390"
    },
    "collapsed": true
   },
   "outputs": [],
   "source": [
    "import numpy as np\n",
    "import pandas as pd\n",
    "import matplotlib.pyplot as plt\n",
    "import seaborn as sns\n",
    "\n",
    "import lmfit\n"
   ]
  },
  {
   "cell_type": "code",
   "execution_count": 2,
   "metadata": {
    "ExecuteTime": {
     "end_time": "2016-07-06T04:27:28.315651",
     "start_time": "2016-07-06T04:27:28.299080"
    },
    "collapsed": true
   },
   "outputs": [],
   "source": [
    "data = pd.read_csv('GCN4_fourfield_R2.tsv', sep='\\t')\n",
    "data = data.loc[(data.resi==5)&(data.field<17.0)].reset_index(drop=True)"
   ]
  },
  {
   "cell_type": "code",
   "execution_count": 3,
   "metadata": {
    "ExecuteTime": {
     "end_time": "2016-07-06T04:27:28.333409",
     "start_time": "2016-07-06T04:27:28.318242"
    },
    "collapsed": true
   },
   "outputs": [],
   "source": [
    "def exponential_decay(par, xdata):\n",
    "    \n",
    "    # Parse multiple input parameter\n",
    "    # formats for intensity, rate    \n",
    "    if hasattr(par,'valuesdict'):\n",
    "        # lmfit parameter format\n",
    "        var = par.valuesdict()\n",
    "        inten = var['inten']\n",
    "        rate = var['rate']\n",
    "    elif hasattr(par,'keys'):\n",
    "        # dict format\n",
    "        inten = par['inten']\n",
    "        rate = par['rate']\n",
    "    else:\n",
    "        # array/list/tuple format\n",
    "        inten = par[0]\n",
    "        rate = par[1]\n",
    "\n",
    "    # Calculate the y-data from the parameters\n",
    "    return inten * np.exp(-1*rate*xdata)"
   ]
  },
  {
   "cell_type": "code",
   "execution_count": 4,
   "metadata": {
    "ExecuteTime": {
     "end_time": "2016-07-06T04:27:28.350273",
     "start_time": "2016-07-06T04:27:28.337166"
    },
    "collapsed": false
   },
   "outputs": [],
   "source": [
    "func = exponential_decay\n",
    "groupcols = ['field']\n",
    "xname = 'time'\n",
    "yname = 'intensity'\n",
    "\n",
    "method = 'leastsq'\n",
    "sigma = 0.95\n",
    "threads = 4\n",
    "\n",
    "params = [{'name':'inten', 'value':np.asarray(data.groupby(groupcols)[yname].max()), 'vary':True},\n",
    "          {'name':'rate', 'value':20.0, 'vary':True}]"
   ]
  },
  {
   "cell_type": "code",
   "execution_count": 5,
   "metadata": {
    "ExecuteTime": {
     "end_time": "2016-07-06T04:27:28.567156",
     "start_time": "2016-07-06T04:27:28.550303"
    },
    "collapsed": false
   },
   "outputs": [],
   "source": [
    "# pdlmfit __init__\n",
    "\n",
    "input_data = data\n",
    "func = func\n",
    "groupcols = groupcols\n",
    "params = params\n",
    "xname = xname\n",
    "yname = yname\n",
    "yerr = None\n",
    "method = method\n",
    "sigma = sigma\n",
    "threads = threads\n",
    "\n",
    "index = ( data[groupcols + [xname]]\n",
    "          .groupby(groupcols)\n",
    "          .max()\n",
    "          .index\n",
    "         )\n",
    "ngroups = index.shape[0]"
   ]
  },
  {
   "cell_type": "code",
   "execution_count": 7,
   "metadata": {
    "ExecuteTime": {
     "end_time": "2016-07-06T04:27:56.196186",
     "start_time": "2016-07-06T04:27:56.164125"
    },
    "collapsed": false
   },
   "outputs": [],
   "source": [
    "def convert_param_dict_to_df(params, ngroups, index):\n",
    "\n",
    "    # Unique list of variable names\n",
    "    var_names = map(lambda x: x['name'], params)\n",
    "\n",
    "    # Expanded list of names and all properties to create a \n",
    "    # multi-level column index\n",
    "    column_list = [(x['name'], y) \n",
    "                   for x in params \n",
    "                       for y in x.keys()\n",
    "                  ]\n",
    "\n",
    "    column_index = pd.MultiIndex.from_tuples(column_list, \n",
    "                                             sortorder=None)\n",
    "\n",
    "    # Create a dataframe from the indexes and fill it\n",
    "    param_df = pd.DataFrame(index=index, columns=column_index)\n",
    "\n",
    "    # Fill df by iterating over the parameter name index\n",
    "    # and then each of its keys\n",
    "    for var in enumerate(param_df.columns.levels[0]):\n",
    "        for key in param_df.loc[:,var[1]]:\n",
    "            param_df[(var[1],key)] = params[var[0]][key]\n",
    "            \n",
    "    param_df.fillna(method='ffill', inplace=True)\n",
    "\n",
    "    return param_df\n",
    "\n",
    "def convert_param_df_to_expanded_list(param_df):\n",
    "    ### CLEAN ###\n",
    "\n",
    "    # Convert each parameter entry to a list of dictionaries\n",
    "    list_of_dicts = [ [ param_df.loc[x,y].to_dict() \n",
    "                        for y in param_df.columns.levels[0]] \n",
    "                      for x in param_df.index]\n",
    "\n",
    "    # Convert the list of dictionaries to a list of lmfit parameters\n",
    "    param_list = [ [ lmfit.Parameter(**r) \n",
    "                     for r in row ] \n",
    "                  for row in list_of_dicts ]\n",
    "\n",
    "    return param_list"
   ]
  },
  {
   "cell_type": "code",
   "execution_count": 9,
   "metadata": {
    "ExecuteTime": {
     "end_time": "2016-07-06T04:37:01.562444",
     "start_time": "2016-07-06T04:37:01.547965"
    },
    "collapsed": false
   },
   "outputs": [],
   "source": [
    "# Working copy of pdlmfit.py fit function\n",
    "\n",
    "if isinstance(params[0], dict):\n",
    "    param_df = convert_param_dict_to_df(params, ngroups, index)\n",
    "# TODO: otherwise check if this is a dataframe\n",
    "    \n",
    "params = convert_param_df_to_expanded_list(param_df)\n",
    "paramnames = [[x.name for x in row] for row in params]"
   ]
  },
  {
   "cell_type": "code",
   "execution_count": 10,
   "metadata": {
    "ExecuteTime": {
     "end_time": "2016-07-06T04:37:06.451418",
     "start_time": "2016-07-06T04:37:06.421987"
    },
    "collapsed": false
   },
   "outputs": [
    {
     "data": {
      "text/plain": [
       "[['inten', 'rate'], ['inten', 'rate']]"
      ]
     },
     "execution_count": 10,
     "metadata": {},
     "output_type": "execute_result"
    }
   ],
   "source": [
    "paramnames"
   ]
  },
  {
   "cell_type": "code",
   "execution_count": 45,
   "metadata": {
    "ExecuteTime": {
     "end_time": "2016-07-06T04:25:13.611117",
     "start_time": "2016-07-06T04:25:13.603359"
    },
    "collapsed": false
   },
   "outputs": [
    {
     "data": {
      "text/plain": [
       "[[<Parameter 'inten', 15647.389418999999, bounds=[-inf:inf]>,\n",
       "  <Parameter 'rate', 20.0, bounds=[-inf:inf]>],\n",
       " [<Parameter 'inten', 68415.828125, bounds=[-inf:inf]>,\n",
       "  <Parameter 'rate', 20.0, bounds=[-inf:inf]>]]"
      ]
     },
     "execution_count": 45,
     "metadata": {},
     "output_type": "execute_result"
    }
   ],
   "source": []
  },
  {
   "cell_type": "code",
   "execution_count": 40,
   "metadata": {
    "ExecuteTime": {
     "end_time": "2016-07-06T04:15:01.788513",
     "start_time": "2016-07-06T04:15:01.778361"
    },
    "collapsed": false
   },
   "outputs": [
    {
     "data": {
      "text/plain": [
       "[{'name': 'inten', 'value': 15647.389419, 'vary': True},\n",
       " {'name': 'inten', 'value': 68415.828125, 'vary': True}]"
      ]
     },
     "execution_count": 40,
     "metadata": {},
     "output_type": "execute_result"
    }
   ],
   "source": [
    "param_df.loc[:,('inten')].to_dict(orient='records')"
   ]
  },
  {
   "cell_type": "code",
   "execution_count": 23,
   "metadata": {
    "ExecuteTime": {
     "end_time": "2016-07-06T04:08:01.077174",
     "start_time": "2016-07-06T04:08:01.066291"
    },
    "collapsed": false
   },
   "outputs": [
    {
     "data": {
      "text/plain": [
       "[[{('inten', 'name'): 'inten',\n",
       "   ('inten', 'value'): 15647.389419,\n",
       "   ('inten', 'vary'): True},\n",
       "  {('rate', 'name'): 'rate', ('rate', 'value'): 20.0, ('rate', 'vary'): True}],\n",
       " [{('inten', 'name'): 'inten',\n",
       "   ('inten', 'value'): 68415.828125,\n",
       "   ('inten', 'vary'): True},\n",
       "  {('rate', 'name'): 'rate', ('rate', 'value'): 20.0, ('rate', 'vary'): True}]]"
      ]
     },
     "execution_count": 23,
     "metadata": {},
     "output_type": "execute_result"
    }
   ],
   "source": [
    "series_to_dict"
   ]
  },
  {
   "cell_type": "code",
   "execution_count": 22,
   "metadata": {
    "ExecuteTime": {
     "end_time": "2016-07-06T04:07:35.285696",
     "start_time": "2016-07-06T04:07:35.279037"
    },
    "collapsed": false
   },
   "outputs": [
    {
     "data": {
      "text/plain": [
       "[[<Parameter 'inten', 15647.389419, bounds=[-inf:inf]>,\n",
       "  <Parameter 'rate', 20.0, bounds=[-inf:inf]>],\n",
       " [<Parameter 'inten', 68415.828125, bounds=[-inf:inf]>,\n",
       "  <Parameter 'rate', 20.0, bounds=[-inf:inf]>]]"
      ]
     },
     "execution_count": 22,
     "metadata": {},
     "output_type": "execute_result"
    }
   ],
   "source": [
    "param_list"
   ]
  },
  {
   "cell_type": "code",
   "execution_count": 24,
   "metadata": {
    "ExecuteTime": {
     "end_time": "2016-07-06T04:08:20.625699",
     "start_time": "2016-07-06T04:08:20.595056"
    },
    "collapsed": false
   },
   "outputs": [
    {
     "data": {
      "text/html": [
       "<div>\n",
       "<table border=\"1\" class=\"dataframe\">\n",
       "  <thead>\n",
       "    <tr>\n",
       "      <th></th>\n",
       "      <th colspan=\"3\" halign=\"left\">inten</th>\n",
       "      <th colspan=\"3\" halign=\"left\">rate</th>\n",
       "    </tr>\n",
       "    <tr>\n",
       "      <th></th>\n",
       "      <th>vary</th>\n",
       "      <th>name</th>\n",
       "      <th>value</th>\n",
       "      <th>vary</th>\n",
       "      <th>name</th>\n",
       "      <th>value</th>\n",
       "    </tr>\n",
       "    <tr>\n",
       "      <th>field</th>\n",
       "      <th></th>\n",
       "      <th></th>\n",
       "      <th></th>\n",
       "      <th></th>\n",
       "      <th></th>\n",
       "      <th></th>\n",
       "    </tr>\n",
       "  </thead>\n",
       "  <tbody>\n",
       "    <tr>\n",
       "      <th>14.1</th>\n",
       "      <td>True</td>\n",
       "      <td>inten</td>\n",
       "      <td>15647.389419</td>\n",
       "      <td>True</td>\n",
       "      <td>rate</td>\n",
       "      <td>20.0</td>\n",
       "    </tr>\n",
       "    <tr>\n",
       "      <th>16.5</th>\n",
       "      <td>True</td>\n",
       "      <td>inten</td>\n",
       "      <td>68415.828125</td>\n",
       "      <td>True</td>\n",
       "      <td>rate</td>\n",
       "      <td>20.0</td>\n",
       "    </tr>\n",
       "  </tbody>\n",
       "</table>\n",
       "</div>"
      ],
      "text/plain": [
       "      inten                       rate            \n",
       "       vary   name         value  vary  name value\n",
       "field                                             \n",
       "14.1   True  inten  15647.389419  True  rate  20.0\n",
       "16.5   True  inten  68415.828125  True  rate  20.0"
      ]
     },
     "execution_count": 24,
     "metadata": {},
     "output_type": "execute_result"
    }
   ],
   "source": [
    "param_df"
   ]
  },
  {
   "cell_type": "code",
   "execution_count": 38,
   "metadata": {
    "ExecuteTime": {
     "end_time": "2016-07-05T21:53:12.038864",
     "start_time": "2016-07-05T21:53:12.031951"
    },
    "collapsed": false
   },
   "outputs": [
    {
     "data": {
      "text/plain": [
       "['inteninteninten', 'raterateraterate']"
      ]
     },
     "execution_count": 38,
     "metadata": {},
     "output_type": "execute_result"
    }
   ],
   "source": [
    "name_list"
   ]
  },
  {
   "cell_type": "code",
   "execution_count": 33,
   "metadata": {
    "ExecuteTime": {
     "end_time": "2016-07-05T21:50:43.073094",
     "start_time": "2016-07-05T21:50:43.064648"
    },
    "collapsed": false
   },
   "outputs": [
    {
     "data": {
      "text/plain": [
       "array([('inten', 'vary'), ('inten', 'name'), ('inten', 'value'),\n",
       "       ('rate', 'a'), ('rate', 'vary'), ('rate', 'name'), ('rate', 'value')], dtype=object)"
      ]
     },
     "execution_count": 33,
     "metadata": {},
     "output_type": "execute_result"
    }
   ],
   "source": [
    "# pdlmfit fit\n",
    "column_index.values"
   ]
  },
  {
   "cell_type": "code",
   "execution_count": 36,
   "metadata": {
    "ExecuteTime": {
     "end_time": "2016-07-05T21:52:43.900686",
     "start_time": "2016-07-05T21:52:43.893176"
    },
    "collapsed": false
   },
   "outputs": [
    {
     "data": {
      "text/plain": [
       "['inten', 'inten', 'inten', 'rate', 'rate', 'rate', 'rate']"
      ]
     },
     "execution_count": 36,
     "metadata": {},
     "output_type": "execute_result"
    }
   ],
   "source": [
    "name_list"
   ]
  }
 ],
 "metadata": {
  "kernelspec": {
   "display_name": "Python 2",
   "language": "python",
   "name": "python2"
  },
  "language_info": {
   "codemirror_mode": {
    "name": "ipython",
    "version": 2
   },
   "file_extension": ".py",
   "mimetype": "text/x-python",
   "name": "python",
   "nbconvert_exporter": "python",
   "pygments_lexer": "ipython2",
   "version": "2.7.12"
  }
 },
 "nbformat": 4,
 "nbformat_minor": 0
}
