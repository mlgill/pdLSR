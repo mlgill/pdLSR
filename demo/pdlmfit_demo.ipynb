{
 "cells": [
  {
   "cell_type": "code",
   "execution_count": 1,
   "metadata": {
    "ExecuteTime": {
     "end_time": "2016-07-05T21:11:37.646542",
     "start_time": "2016-07-05T21:11:35.131647"
    },
    "collapsed": false
   },
   "outputs": [],
   "source": [
    "import numpy as np\n",
    "import pandas as pd\n",
    "import matplotlib.pyplot as plt\n",
    "import seaborn as sns\n",
    "\n",
    "\n",
    "import imp\n",
    "paNLS_path = '../paNLS'\n",
    "paNLS = imp.load_package('paNLS', paNLS_path)\n",
    "\n",
    "sns.set_context('talk')\n",
    "sns.set_style('ticks')\n",
    "sns.set_palette('dark')\n",
    "\n",
    "%matplotlib inline"
   ]
  },
  {
   "cell_type": "markdown",
   "metadata": {},
   "source": [
    "# paNLS Tutorial\n",
    "Michelle L. Gill  \n",
    "2015/08/09\n",
    "\n",
    "paNLS is a Pandas-aware non-linear least squares (NLS) regression library.  Packages like Statsmodels and Patsy aren't well suited to the biological sciences where data fitting involves a variety of non-linear functions, such as exponential decays and other, irregular non-linear functions. paNLS is unique in that it will perform multiple regressions on a Pandas dataframe using specified columns of data in a manner analogous to Pandas `groupby` function. Returned parameters, error estimates, and models are all dataframes and contain the appropriate group identification columns.\n",
    "\n",
    "paNLS utilizes an underlying library (also included) called NLS. This library performs the regression and calculates statistics on the individual groups. It can also be used alone for single regression operations. NLS uses Scipy's `leastsq` function for regression and contains two functions that I commonly use (exponential decay and a linear function), but it can handle custom functions as well.\n",
    "\n",
    "Following are two demonstrations of paNLS and NLS using nuclear magnetic resonance (NMR) data that I acquired at four different magnetic field strengths (14.1, 16.5, 18.8, and 21.1 T) on a a protein called GCN4. There are data at each field strength for 54 amino acids, for a total of 216 regressions.\n",
    "\n",
    "## 1. Determination of GCN4 transverse relaxation rates\n",
    "\n",
    "This demonstration measures a parameter known as the transverse relaxation rate, $R_2$. The input data are peak intensities which exponentially decay with time. paNLS can perform all 216 regressions with a single command."
   ]
  },
  {
   "cell_type": "code",
   "execution_count": 2,
   "metadata": {
    "ExecuteTime": {
     "end_time": "2016-07-05T21:11:37.681879",
     "start_time": "2016-07-05T21:11:37.649733"
    },
    "collapsed": false
   },
   "outputs": [
    {
     "data": {
      "text/plain": [
       "(54, 4, 216)"
      ]
     },
     "execution_count": 2,
     "metadata": {},
     "output_type": "execute_result"
    }
   ],
   "source": [
    "r2_data = pd.read_csv('GCN4_fourfield_R2.tsv', sep='\\t')\n",
    "\n",
    "# Number of residues, fields, and regressions\n",
    "r2_data.resi.unique().shape[0], r2_data.field.unique().shape[0], r2_data[['resi','field']].drop_duplicates().shape[0]"
   ]
  },
  {
   "cell_type": "markdown",
   "metadata": {},
   "source": [
    "The input data contain the residue number (`resi`), magnetic field strength (`field`), `time` in seconds (independent variable), and `intensity` in arbitrary units (dependent variable)."
   ]
  },
  {
   "cell_type": "code",
   "execution_count": 3,
   "metadata": {
    "ExecuteTime": {
     "end_time": "2016-07-05T21:11:38.573092",
     "start_time": "2016-07-05T21:11:38.548570"
    },
    "collapsed": false
   },
   "outputs": [
    {
     "data": {
      "text/html": [
       "<div>\n",
       "<table border=\"1\" class=\"dataframe\">\n",
       "  <thead>\n",
       "    <tr style=\"text-align: right;\">\n",
       "      <th></th>\n",
       "      <th>resi</th>\n",
       "      <th>field</th>\n",
       "      <th>time</th>\n",
       "      <th>intensity</th>\n",
       "    </tr>\n",
       "  </thead>\n",
       "  <tbody>\n",
       "    <tr>\n",
       "      <th>0</th>\n",
       "      <td>5</td>\n",
       "      <td>14.1</td>\n",
       "      <td>0.004</td>\n",
       "      <td>15615.701070</td>\n",
       "    </tr>\n",
       "    <tr>\n",
       "      <th>1</th>\n",
       "      <td>5</td>\n",
       "      <td>14.1</td>\n",
       "      <td>0.008</td>\n",
       "      <td>15647.389419</td>\n",
       "    </tr>\n",
       "    <tr>\n",
       "      <th>2</th>\n",
       "      <td>5</td>\n",
       "      <td>14.1</td>\n",
       "      <td>0.024</td>\n",
       "      <td>13730.034692</td>\n",
       "    </tr>\n",
       "    <tr>\n",
       "      <th>3</th>\n",
       "      <td>5</td>\n",
       "      <td>14.1</td>\n",
       "      <td>0.064</td>\n",
       "      <td>11014.702949</td>\n",
       "    </tr>\n",
       "    <tr>\n",
       "      <th>4</th>\n",
       "      <td>5</td>\n",
       "      <td>14.1</td>\n",
       "      <td>0.096</td>\n",
       "      <td>9902.334490</td>\n",
       "    </tr>\n",
       "  </tbody>\n",
       "</table>\n",
       "</div>"
      ],
      "text/plain": [
       "   resi  field   time     intensity\n",
       "0     5   14.1  0.004  15615.701070\n",
       "1     5   14.1  0.008  15647.389419\n",
       "2     5   14.1  0.024  13730.034692\n",
       "3     5   14.1  0.064  11014.702949\n",
       "4     5   14.1  0.096   9902.334490"
      ]
     },
     "execution_count": 3,
     "metadata": {},
     "output_type": "execute_result"
    }
   ],
   "source": [
    "r2_data.head()"
   ]
  },
  {
   "cell_type": "markdown",
   "metadata": {},
   "source": [
    "### Perform the regression and calculate a best fit line\n",
    "The parameters of an exponential decay function will be fit to the data:  \n",
    "\n",
    "$I_{(t)} = I_{(0)} \\space e^{(-R_2 * t)}$  \n",
    "\n",
    "where $I_{(0)}$ is the initial intensity, $I_{(t)}$ is the intensity at time $t$, and $R_2$ is the transverse relaxation rate. paNLS contains this equation.\n",
    "\n",
    "The regression requires the data, a list of columns to group the data by (`resi` and `field`), the names of the dataframe columns containing the independent and dependent variables (`time` and `intensity`, respectively), and the name of the function (`exp`)."
   ]
  },
  {
   "cell_type": "code",
   "execution_count": 4,
   "metadata": {
    "ExecuteTime": {
     "end_time": "2016-07-05T21:11:40.539010",
     "start_time": "2016-07-05T21:11:40.524816"
    },
    "collapsed": true
   },
   "outputs": [],
   "source": [
    "def exponential_decay(par, xdata):\n",
    "    \n",
    "    # Parse multiple input parameter\n",
    "    # formats for intensity, rate    \n",
    "    if hasattr(par,'valuesdict'):\n",
    "        # lmfit parameter format\n",
    "        var = par.valuesdict()\n",
    "        inten = var['inten']\n",
    "        rate = var['rate']\n",
    "    elif hasattr(par,'keys'):\n",
    "        # dict format\n",
    "        inten = par['inten']\n",
    "        rate = par['rate']\n",
    "    else:\n",
    "        # array/list/tuple format\n",
    "        inten = par[0]\n",
    "        rate = par[1]\n",
    "\n",
    "    # Calculate the y-data from the parameters\n",
    "    return inten * np.exp(-1*rate*xdata)"
   ]
  },
  {
   "cell_type": "code",
   "execution_count": 5,
   "metadata": {
    "ExecuteTime": {
     "end_time": "2016-07-05T21:11:40.991535",
     "start_time": "2016-07-05T21:11:40.985690"
    },
    "collapsed": true
   },
   "outputs": [],
   "source": [
    "func = exponential_decay\n",
    "groupcols = ['resi','field']\n",
    "xname = 'time'\n",
    "yname = 'intensity'\n",
    "\n",
    "method = 'leastsq'\n",
    "sigma = 0.95\n",
    "threads = 4"
   ]
  },
  {
   "cell_type": "code",
   "execution_count": 6,
   "metadata": {
    "ExecuteTime": {
     "end_time": "2016-07-05T21:11:42.966636",
     "start_time": "2016-07-05T21:11:42.947499"
    },
    "collapsed": false
   },
   "outputs": [],
   "source": [
    "params = [{'name':'inten', 'value':np.asarray(r2_data.groupby(groupcols)[yname].max()), 'vary':True},\n",
    "          {'name':'rate', 'value':20.0, 'vary':True}]\n",
    "\n",
    "r2_fit = paNLS.pdlmfit(r2_data, func, groupcols, \n",
    "                          params, xname, yname)"
   ]
  },
  {
   "cell_type": "code",
   "execution_count": 7,
   "metadata": {
    "ExecuteTime": {
     "end_time": "2016-07-05T21:12:07.242049",
     "start_time": "2016-07-05T21:11:44.918252"
    },
    "collapsed": false
   },
   "outputs": [
    {
     "name": "stdout",
     "output_type": "stream",
     "text": [
      "try loop\n"
     ]
    }
   ],
   "source": [
    "r2_fit.fit()\n",
    "r2_fit.predict()"
   ]
  },
  {
   "cell_type": "markdown",
   "metadata": {},
   "source": [
    "The returned object (`r2_fit`) contains parameters and statistics from the regression."
   ]
  },
  {
   "cell_type": "markdown",
   "metadata": {},
   "source": [
    "Many statistics about the regression are also returned, including the covariance matrix."
   ]
  },
  {
   "cell_type": "code",
   "execution_count": 8,
   "metadata": {
    "ExecuteTime": {
     "end_time": "2016-07-05T21:12:08.298471",
     "start_time": "2016-07-05T21:12:08.243277"
    },
    "collapsed": false
   },
   "outputs": [
    {
     "data": {
      "text/html": [
       "<div>\n",
       "<table border=\"1\" class=\"dataframe\">\n",
       "  <thead>\n",
       "    <tr style=\"text-align: right;\">\n",
       "      <th></th>\n",
       "      <th></th>\n",
       "      <th>nobs</th>\n",
       "      <th>npar</th>\n",
       "      <th>dof</th>\n",
       "      <th>chisq</th>\n",
       "      <th>redchisq</th>\n",
       "      <th>aic</th>\n",
       "      <th>bic</th>\n",
       "      <th>rss</th>\n",
       "      <th>covar</th>\n",
       "    </tr>\n",
       "    <tr>\n",
       "      <th>resi</th>\n",
       "      <th>field</th>\n",
       "      <th></th>\n",
       "      <th></th>\n",
       "      <th></th>\n",
       "      <th></th>\n",
       "      <th></th>\n",
       "      <th></th>\n",
       "      <th></th>\n",
       "      <th></th>\n",
       "      <th></th>\n",
       "    </tr>\n",
       "  </thead>\n",
       "  <tbody>\n",
       "    <tr>\n",
       "      <th rowspan=\"4\" valign=\"top\">5</th>\n",
       "      <th>14.1</th>\n",
       "      <td>22</td>\n",
       "      <td>2</td>\n",
       "      <td>20</td>\n",
       "      <td>5.918743e+12</td>\n",
       "      <td>2.959371e+11</td>\n",
       "      <td>585.095084</td>\n",
       "      <td>587.277169</td>\n",
       "      <td>9.860060e+06</td>\n",
       "      <td>[[19453.4420609, 12.6357822049], [12.635782204...</td>\n",
       "    </tr>\n",
       "    <tr>\n",
       "      <th>16.5</th>\n",
       "      <td>20</td>\n",
       "      <td>2</td>\n",
       "      <td>18</td>\n",
       "      <td>2.361933e+14</td>\n",
       "      <td>1.312185e+13</td>\n",
       "      <td>608.106001</td>\n",
       "      <td>610.097466</td>\n",
       "      <td>5.118952e+07</td>\n",
       "      <td>[[131534.524367, 27.1367171464], [27.136717146...</td>\n",
       "    </tr>\n",
       "    <tr>\n",
       "      <th>18.8</th>\n",
       "      <td>22</td>\n",
       "      <td>2</td>\n",
       "      <td>20</td>\n",
       "      <td>1.438859e+16</td>\n",
       "      <td>7.194297e+14</td>\n",
       "      <td>756.608557</td>\n",
       "      <td>758.790642</td>\n",
       "      <td>3.881116e+08</td>\n",
       "      <td>[[884676.124346, 45.5837120289], [45.583712028...</td>\n",
       "    </tr>\n",
       "    <tr>\n",
       "      <th>21.1</th>\n",
       "      <td>16</td>\n",
       "      <td>2</td>\n",
       "      <td>14</td>\n",
       "      <td>1.142726e+16</td>\n",
       "      <td>8.162328e+14</td>\n",
       "      <td>553.371531</td>\n",
       "      <td>554.916708</td>\n",
       "      <td>3.106147e+08</td>\n",
       "      <td>[[2039800.09312, 30.5173738939], [30.517373893...</td>\n",
       "    </tr>\n",
       "  </tbody>\n",
       "</table>\n",
       "</div>"
      ],
      "text/plain": [
       "            nobs  npar  dof         chisq      redchisq         aic  \\\n",
       "resi field                                                            \n",
       "5    14.1     22     2   20  5.918743e+12  2.959371e+11  585.095084   \n",
       "     16.5     20     2   18  2.361933e+14  1.312185e+13  608.106001   \n",
       "     18.8     22     2   20  1.438859e+16  7.194297e+14  756.608557   \n",
       "     21.1     16     2   14  1.142726e+16  8.162328e+14  553.371531   \n",
       "\n",
       "                   bic           rss  \\\n",
       "resi field                             \n",
       "5    14.1   587.277169  9.860060e+06   \n",
       "     16.5   610.097466  5.118952e+07   \n",
       "     18.8   758.790642  3.881116e+08   \n",
       "     21.1   554.916708  3.106147e+08   \n",
       "\n",
       "                                                        covar  \n",
       "resi field                                                     \n",
       "5    14.1   [[19453.4420609, 12.6357822049], [12.635782204...  \n",
       "     16.5   [[131534.524367, 27.1367171464], [27.136717146...  \n",
       "     18.8   [[884676.124346, 45.5837120289], [45.583712028...  \n",
       "     21.1   [[2039800.09312, 30.5173738939], [30.517373893...  "
      ]
     },
     "execution_count": 8,
     "metadata": {},
     "output_type": "execute_result"
    }
   ],
   "source": [
    "r2_fit.stats.head(n=4)"
   ]
  },
  {
   "cell_type": "markdown",
   "metadata": {},
   "source": [
    "paNLS will also calculate a best fit curve. The number of points to predict can be set using `xnum` or will default to 50."
   ]
  },
  {
   "cell_type": "code",
   "execution_count": 10,
   "metadata": {
    "ExecuteTime": {
     "end_time": "2016-07-05T21:12:55.537470",
     "start_time": "2016-07-05T21:12:54.974329"
    },
    "collapsed": false
   },
   "outputs": [
    {
     "data": {
      "text/html": [
       "<div>\n",
       "<table border=\"1\" class=\"dataframe\">\n",
       "  <thead>\n",
       "    <tr style=\"text-align: right;\">\n",
       "      <th></th>\n",
       "      <th></th>\n",
       "      <th>xcalc</th>\n",
       "      <th>ycalc</th>\n",
       "    </tr>\n",
       "    <tr>\n",
       "      <th>resi</th>\n",
       "      <th>field</th>\n",
       "      <th></th>\n",
       "      <th></th>\n",
       "    </tr>\n",
       "  </thead>\n",
       "  <tbody>\n",
       "    <tr>\n",
       "      <th rowspan=\"5\" valign=\"top\">5</th>\n",
       "      <th>14.1</th>\n",
       "      <td>0.004000</td>\n",
       "      <td>15004.983475</td>\n",
       "    </tr>\n",
       "    <tr>\n",
       "      <th>14.1</th>\n",
       "      <td>0.014737</td>\n",
       "      <td>14207.577900</td>\n",
       "    </tr>\n",
       "    <tr>\n",
       "      <th>14.1</th>\n",
       "      <td>0.025474</td>\n",
       "      <td>13452.548623</td>\n",
       "    </tr>\n",
       "    <tr>\n",
       "      <th>14.1</th>\n",
       "      <td>0.036211</td>\n",
       "      <td>12737.643653</td>\n",
       "    </tr>\n",
       "    <tr>\n",
       "      <th>14.1</th>\n",
       "      <td>0.046947</td>\n",
       "      <td>12060.730674</td>\n",
       "    </tr>\n",
       "  </tbody>\n",
       "</table>\n",
       "</div>"
      ],
      "text/plain": [
       "               xcalc         ycalc\n",
       "resi field                        \n",
       "5    14.1   0.004000  15004.983475\n",
       "     14.1   0.014737  14207.577900\n",
       "     14.1   0.025474  13452.548623\n",
       "     14.1   0.036211  12737.643653\n",
       "     14.1   0.046947  12060.730674"
      ]
     },
     "execution_count": 10,
     "metadata": {},
     "output_type": "execute_result"
    }
   ],
   "source": [
    "r2_fit.predict(xnum=20)\n",
    "r2_fit.model.head()"
   ]
  },
  {
   "cell_type": "markdown",
   "metadata": {},
   "source": [
    "The rate, $R_2$, is the only parameter of interest, so to make plotting easier, intensities will be normalized to the initial intensity, as determined by regression. The dataframe `r2_fit.data` contains the original data which will be normalized and the model is in `r2_fit.model`."
   ]
  },
  {
   "cell_type": "code",
   "execution_count": 11,
   "metadata": {
    "ExecuteTime": {
     "end_time": "2016-07-05T21:13:02.721814",
     "start_time": "2016-07-05T21:13:02.693102"
    },
    "collapsed": false,
    "scrolled": true
   },
   "outputs": [],
   "source": [
    "r2_fit.model['ycalc'] = r2_fit.model.ycalc / r2_fit.results.inten\n",
    "r2_fit.data['ydata'] = r2_fit.data.ydata / r2_fit.results.inten\n",
    "r2_fit.data['ycalc'] = r2_fit.data.ycalc / r2_fit.results.inten"
   ]
  },
  {
   "cell_type": "markdown",
   "metadata": {},
   "source": [
    "Plot the data and the best fit curve. Select just the last 24 residues and two magnetic fields (14.1, 21.1) for plotting so the plots aren't so difficult to read."
   ]
  },
  {
   "cell_type": "code",
   "execution_count": 22,
   "metadata": {
    "ExecuteTime": {
     "end_time": "2016-07-05T07:13:30.069481",
     "start_time": "2016-07-05T07:13:30.002100"
    },
    "collapsed": false
   },
   "outputs": [
    {
     "ename": "AttributeError",
     "evalue": "'DataFrame' object has no attribute 'resi'",
     "output_type": "error",
     "traceback": [
      "\u001b[0;31m---------------------------------------------------------------------------\u001b[0m",
      "\u001b[0;31mAttributeError\u001b[0m                            Traceback (most recent call last)",
      "\u001b[0;32m<ipython-input-22-bdef4fcdf397>\u001b[0m in \u001b[0;36m<module>\u001b[0;34m()\u001b[0m\n\u001b[0;32m----> 1\u001b[0;31m \u001b[0mresi_sele\u001b[0m \u001b[0;34m=\u001b[0m \u001b[0mr2_fit\u001b[0m\u001b[0;34m.\u001b[0m\u001b[0mdata\u001b[0m\u001b[0;34m.\u001b[0m\u001b[0mresi\u001b[0m\u001b[0;34m.\u001b[0m\u001b[0munique\u001b[0m\u001b[0;34m(\u001b[0m\u001b[0;34m)\u001b[0m\u001b[0;34m[\u001b[0m\u001b[0;34m-\u001b[0m\u001b[0;36m24\u001b[0m\u001b[0;34m:\u001b[0m\u001b[0;34m]\u001b[0m\u001b[0;34m\u001b[0m\u001b[0m\n\u001b[0m\u001b[1;32m      2\u001b[0m \u001b[0mdata_sele\u001b[0m \u001b[0;34m=\u001b[0m \u001b[0mnp\u001b[0m\u001b[0;34m.\u001b[0m\u001b[0min1d\u001b[0m\u001b[0;34m(\u001b[0m\u001b[0mr2_fit\u001b[0m\u001b[0;34m.\u001b[0m\u001b[0mdata\u001b[0m\u001b[0;34m.\u001b[0m\u001b[0mfield\u001b[0m\u001b[0;34m,\u001b[0m \u001b[0;34m[\u001b[0m\u001b[0;36m14.1\u001b[0m\u001b[0;34m,\u001b[0m \u001b[0;36m21.1\u001b[0m\u001b[0;34m]\u001b[0m\u001b[0;34m)\u001b[0m \u001b[0;34m&\u001b[0m \u001b[0mnp\u001b[0m\u001b[0;34m.\u001b[0m\u001b[0min1d\u001b[0m\u001b[0;34m(\u001b[0m\u001b[0mr2_fit\u001b[0m\u001b[0;34m.\u001b[0m\u001b[0mdata\u001b[0m\u001b[0;34m.\u001b[0m\u001b[0mresi\u001b[0m\u001b[0;34m,\u001b[0m \u001b[0mresi_sele\u001b[0m\u001b[0;34m)\u001b[0m\u001b[0;34m\u001b[0m\u001b[0m\n\u001b[1;32m      3\u001b[0m \u001b[0mmodel_sele\u001b[0m \u001b[0;34m=\u001b[0m \u001b[0mnp\u001b[0m\u001b[0;34m.\u001b[0m\u001b[0min1d\u001b[0m\u001b[0;34m(\u001b[0m\u001b[0mr2_fit\u001b[0m\u001b[0;34m.\u001b[0m\u001b[0mmodel\u001b[0m\u001b[0;34m.\u001b[0m\u001b[0mfield\u001b[0m\u001b[0;34m,\u001b[0m \u001b[0;34m[\u001b[0m\u001b[0;36m14.1\u001b[0m\u001b[0;34m,\u001b[0m \u001b[0;36m21.1\u001b[0m\u001b[0;34m]\u001b[0m\u001b[0;34m)\u001b[0m \u001b[0;34m&\u001b[0m \u001b[0mnp\u001b[0m\u001b[0;34m.\u001b[0m\u001b[0min1d\u001b[0m\u001b[0;34m(\u001b[0m\u001b[0mr2_fit\u001b[0m\u001b[0;34m.\u001b[0m\u001b[0mmodel\u001b[0m\u001b[0;34m.\u001b[0m\u001b[0mresi\u001b[0m\u001b[0;34m,\u001b[0m \u001b[0mresi_sele\u001b[0m\u001b[0;34m)\u001b[0m\u001b[0;34m\u001b[0m\u001b[0m\n\u001b[1;32m      4\u001b[0m \u001b[0mplot_data\u001b[0m \u001b[0;34m=\u001b[0m \u001b[0mr2_fit\u001b[0m\u001b[0;34m.\u001b[0m\u001b[0mdata\u001b[0m\u001b[0;34m[\u001b[0m\u001b[0mdata_sele\u001b[0m\u001b[0;34m]\u001b[0m\u001b[0;34m.\u001b[0m\u001b[0mappend\u001b[0m\u001b[0;34m(\u001b[0m\u001b[0mr2_fit\u001b[0m\u001b[0;34m.\u001b[0m\u001b[0mmodel\u001b[0m\u001b[0;34m[\u001b[0m\u001b[0mmodel_sele\u001b[0m\u001b[0;34m]\u001b[0m\u001b[0;34m)\u001b[0m\u001b[0;34m\u001b[0m\u001b[0m\n",
      "\u001b[0;32m/Volumes/Files/miniconda/envs/scienv2/lib/python2.7/site-packages/pandas/core/generic.pyc\u001b[0m in \u001b[0;36m__getattr__\u001b[0;34m(self, name)\u001b[0m\n\u001b[1;32m   2670\u001b[0m             \u001b[0;32mif\u001b[0m \u001b[0mname\u001b[0m \u001b[0;32min\u001b[0m \u001b[0mself\u001b[0m\u001b[0;34m.\u001b[0m\u001b[0m_info_axis\u001b[0m\u001b[0;34m:\u001b[0m\u001b[0;34m\u001b[0m\u001b[0m\n\u001b[1;32m   2671\u001b[0m                 \u001b[0;32mreturn\u001b[0m \u001b[0mself\u001b[0m\u001b[0;34m[\u001b[0m\u001b[0mname\u001b[0m\u001b[0;34m]\u001b[0m\u001b[0;34m\u001b[0m\u001b[0m\n\u001b[0;32m-> 2672\u001b[0;31m             \u001b[0;32mreturn\u001b[0m \u001b[0mobject\u001b[0m\u001b[0;34m.\u001b[0m\u001b[0m__getattribute__\u001b[0m\u001b[0;34m(\u001b[0m\u001b[0mself\u001b[0m\u001b[0;34m,\u001b[0m \u001b[0mname\u001b[0m\u001b[0;34m)\u001b[0m\u001b[0;34m\u001b[0m\u001b[0m\n\u001b[0m\u001b[1;32m   2673\u001b[0m \u001b[0;34m\u001b[0m\u001b[0m\n\u001b[1;32m   2674\u001b[0m     \u001b[0;32mdef\u001b[0m \u001b[0m__setattr__\u001b[0m\u001b[0;34m(\u001b[0m\u001b[0mself\u001b[0m\u001b[0;34m,\u001b[0m \u001b[0mname\u001b[0m\u001b[0;34m,\u001b[0m \u001b[0mvalue\u001b[0m\u001b[0;34m)\u001b[0m\u001b[0;34m:\u001b[0m\u001b[0;34m\u001b[0m\u001b[0m\n",
      "\u001b[0;31mAttributeError\u001b[0m: 'DataFrame' object has no attribute 'resi'"
     ]
    }
   ],
   "source": [
    "resi_sele = r2_fit.data.resi.unique()[-24:]\n",
    "data_sele = np.in1d(r2_fit.data.field, [14.1, 21.1]) & np.in1d(r2_fit.data.resi, resi_sele)\n",
    "model_sele = np.in1d(r2_fit.model.field, [14.1, 21.1]) & np.in1d(r2_fit.model.resi, resi_sele)\n",
    "plot_data = r2_fit.data[data_sele].append(r2_fit.model[model_sele])"
   ]
  },
  {
   "cell_type": "code",
   "execution_count": 11,
   "metadata": {
    "collapsed": false
   },
   "outputs": [
    {
     "data": {
      "image/png": "[encoded data removed]",
      "text/plain": [
       "<matplotlib.figure.Figure at 0x10dcc83d0>"
      ]
     },
     "metadata": {},
     "output_type": "display_data"
    }
   ],
   "source": [
    "sns.set_context(\"notebook\", font_scale=1.0, rc={\"lines.linewidth\": 1.0})\n",
    "sns.set_style(\"whitegrid\",{'axes.edgecolor':'black'})\n",
    "\n",
    "palette = {14.1:'black', 21.1:'red'}\n",
    "\n",
    "grid = sns.FacetGrid(plot_data, col='resi', hue='field', palette=palette,\n",
    "                     col_wrap=6, size=2.0, aspect=0.75, sharey=True, despine=False)\n",
    "\n",
    "grid.map(plt.plot, 'xcalc', 'ycalc', marker='', ms=5, ls='-')\n",
    "grid.map(plt.plot, 'time', 'intensity', marker='o', ms=5, ls='')\n",
    "\n",
    "f = plt.gcf()\n",
    "f.set_size_inches(12,6)\n",
    "f.subplots_adjust(wspace=0.2, hspace=0.25)"
   ]
  },
  {
   "cell_type": "markdown",
   "metadata": {},
   "source": [
    "## 2. Determination of the $J(\\omega_N)$ spectral density term for GCN4\n",
    "\n",
    "This demonstration uses NLS to determine if a parameter known as a spectral density function, $J(\\omega_N)$, varies linearly with the inverse of the square of the $^{15}N$ frequency ($\\omega_N^{-2}$), which is calculated from each of the four magnetic fields. The independent variable is $\\omega_N^{-2}$, which is labeled `wN_2` in the file, the dependent variable, $J(\\omega_N)$, is labeled `JwN`, and error estimates for $J(\\omega_N)$ are labeled `JwN_err`.\n",
    "\n",
    "A single residue (48) will be selected from the data since NLS operates on one group of data at a time. This analysis involves fitting data from all four magnetic fields at once, so there is no field to select."
   ]
  },
  {
   "cell_type": "code",
   "execution_count": 12,
   "metadata": {
    "collapsed": true
   },
   "outputs": [],
   "source": [
    "import numpy as np\n",
    "import pandas as pd\n",
    "import matplotlib.pyplot as plt\n",
    "import seaborn as sns\n",
    "\n",
    "from paNLS import paNLS\n",
    "from paNLS.nls import NLS"
   ]
  },
  {
   "cell_type": "code",
   "execution_count": 13,
   "metadata": {
    "collapsed": true
   },
   "outputs": [],
   "source": [
    "JwN_data = pd.read_csv('demo_data/GCN4_fourfield_JwN.tsv', sep='\\t')\n",
    "\n",
    "resi = 48\n",
    "JwN_data = JwN_data.ix[JwN_data.resi == resi]"
   ]
  },
  {
   "cell_type": "markdown",
   "metadata": {},
   "source": [
    "The input for NLS is similar to paNLS except that all the inputs are arrays themselves, rather than column names of a dataframe. The function `lin` is a linear equation, and the parameter `p0` tells NLS to fit two parameters (`slope` and `intercept`) rather than just `slope`."
   ]
  },
  {
   "cell_type": "code",
   "execution_count": 14,
   "metadata": {
    "collapsed": false
   },
   "outputs": [],
   "source": [
    "JwN_fit = NLS(JwN_data.wN_2, JwN_data.JwN, yerr=JwN_data.JwN_err,\n",
    "              func='lin', p0=2)"
   ]
  },
  {
   "cell_type": "code",
   "execution_count": 15,
   "metadata": {
    "collapsed": false
   },
   "outputs": [
    {
     "name": "stdout",
     "output_type": "stream",
     "text": [
      "\n",
      "Non-linear Least Squares\n",
      "Model: linear\n",
      "Parameters:\n",
      "                      Estimate    Std. Error      t-value   P(>|t|)     Lower     Upper\n",
      "slope     \t\t0.0172        0.0008      22.4431    0.0020    0.0139    0.0206\n",
      "intercept \t\t0.0089        0.0029       3.0620    0.0922    0.0139    0.0214\n",
      "\n",
      "Residual Standard Error:  0.1955\n",
      "Degress of Freedom: 2\n"
     ]
    }
   ],
   "source": [
    "JwN_fit.summary()"
   ]
  },
  {
   "cell_type": "markdown",
   "metadata": {},
   "source": [
    "The resulting parameter names, values, and standard errors:"
   ]
  },
  {
   "cell_type": "code",
   "execution_count": 16,
   "metadata": {
    "collapsed": false
   },
   "outputs": [
    {
     "data": {
      "text/plain": [
       "(['slope', 'intercept'],\n",
       " array([ 0.01724546,  0.0089076 ]),\n",
       " array([ 0.00076841,  0.00290906]))"
      ]
     },
     "execution_count": 16,
     "metadata": {},
     "output_type": "execute_result"
    }
   ],
   "source": [
    "JwN_fit.parmNames, JwN_fit.parmVals, JwN_fit.parmSE"
   ]
  },
  {
   "cell_type": "markdown",
   "metadata": {},
   "source": [
    "Model calculation with NLS occurs automatically, but a different array of desired dependent values can also be entered."
   ]
  },
  {
   "cell_type": "code",
   "execution_count": 17,
   "metadata": {
    "collapsed": false
   },
   "outputs": [
    {
     "data": {
      "text/plain": [
       "array([ 0.12683994,  0.06131446,  0.09555725,  0.07523515])"
      ]
     },
     "execution_count": 17,
     "metadata": {},
     "output_type": "execute_result"
    }
   ],
   "source": [
    "JwN_fit.ycalc"
   ]
  },
  {
   "cell_type": "code",
   "execution_count": 18,
   "metadata": {
    "collapsed": false
   },
   "outputs": [
    {
     "data": {
      "text/plain": [
       "(array([ 3.03887908,  6.83845779]), array([ 0.06131446,  0.12683994]))"
      ]
     },
     "execution_count": 18,
     "metadata": {},
     "output_type": "execute_result"
    }
   ],
   "source": [
    "xcalc = np.array([JwN_data.wN_2.min(), JwN_data.wN_2.max()])\n",
    "ycalc = JwN_fit.predict(xcalc)\n",
    "xcalc, ycalc"
   ]
  },
  {
   "cell_type": "markdown",
   "metadata": {},
   "source": [
    "Much like paNLS, the outputs of NLS are designed to be easy to visualize."
   ]
  },
  {
   "cell_type": "code",
   "execution_count": 19,
   "metadata": {
    "collapsed": false
   },
   "outputs": [
    {
     "data": {
      "text/plain": [
       "<matplotlib.text.Text at 0x10f546d50>"
      ]
     },
     "execution_count": 19,
     "metadata": {},
     "output_type": "execute_result"
    },
    {
     "data": {
      "image/png": "[encoded data removed]",
      "text/plain": [
       "<matplotlib.figure.Figure at 0x10dc41990>"
      ]
     },
     "metadata": {},
     "output_type": "display_data"
    }
   ],
   "source": [
    "sns.set_context(\"notebook\", font_scale=1.5, rc={\"lines.linewidth\": 1.0})\n",
    "sns.set_style(\"whitegrid\",{'axes.edgecolor':'black'})\n",
    "\n",
    "plt.plot(xcalc, ycalc, ls='-', ms='', color='blue')\n",
    "plt.errorbar(JwN_data.wN_2, JwN_data.JwN, yerr=JwN_data.JwN_err, \n",
    "             ls='', marker='o', color='blue')\n",
    "ax = plt.gca()\n",
    "ax.set_xlabel('$\\omega_N^{-2}$')\n",
    "ax.set_ylabel('$J(\\omega_N)$')\n",
    "ax.set_title('resi = %d' % resi)"
   ]
  }
 ],
 "metadata": {
  "kernelspec": {
   "display_name": "Python 2",
   "language": "python",
   "name": "python2"
  },
  "language_info": {
   "codemirror_mode": {
    "name": "ipython",
    "version": 2
   },
   "file_extension": ".py",
   "mimetype": "text/x-python",
   "name": "python",
   "nbconvert_exporter": "python",
   "pygments_lexer": "ipython2",
   "version": "2.7.12"
  }
 },
 "nbformat": 4,
 "nbformat_minor": 0
}
